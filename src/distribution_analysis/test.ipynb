{
 "cells": [
  {
   "cell_type": "code",
   "execution_count": 5,
   "metadata": {},
   "outputs": [],
   "source": [
    "import pandas as pd\n",
    "import seaborn as sns\n",
    "import matplotlib.pyplot as plt\n",
    "import numpy as np"
   ]
  },
  {
   "cell_type": "code",
   "execution_count": 45,
   "metadata": {},
   "outputs": [],
   "source": [
    "df = pd.read_csv(\"/Users/tobiaochsner/Documents/Thesis/CCD/out.out\", names=[\"split\", \"b\", \"bd\", \"mu\", \"sigma\", \"beta\"])"
   ]
  },
  {
   "cell_type": "code",
   "execution_count": 51,
   "metadata": {},
   "outputs": [
    {
     "data": {
      "text/html": [
       "<div>\n",
       "<style scoped>\n",
       "    .dataframe tbody tr th:only-of-type {\n",
       "        vertical-align: middle;\n",
       "    }\n",
       "\n",
       "    .dataframe tbody tr th {\n",
       "        vertical-align: top;\n",
       "    }\n",
       "\n",
       "    .dataframe thead th {\n",
       "        text-align: right;\n",
       "    }\n",
       "</style>\n",
       "<table border=\"1\" class=\"dataframe\">\n",
       "  <thead>\n",
       "    <tr style=\"text-align: right;\">\n",
       "      <th></th>\n",
       "      <th>split</th>\n",
       "      <th>b</th>\n",
       "      <th>bd</th>\n",
       "      <th>mu</th>\n",
       "      <th>sigma</th>\n",
       "      <th>beta</th>\n",
       "    </tr>\n",
       "  </thead>\n",
       "  <tbody>\n",
       "    <tr>\n",
       "      <th>count</th>\n",
       "      <td>315009.000000</td>\n",
       "      <td>315009.000000</td>\n",
       "      <td>315009.000000</td>\n",
       "      <td>315009.000000</td>\n",
       "      <td>315009.000000</td>\n",
       "      <td>3.150090e+05</td>\n",
       "    </tr>\n",
       "    <tr>\n",
       "      <th>mean</th>\n",
       "      <td>145.404014</td>\n",
       "      <td>-5.283544</td>\n",
       "      <td>-1.329048</td>\n",
       "      <td>-5.262684</td>\n",
       "      <td>0.775261</td>\n",
       "      <td>1.554947e-02</td>\n",
       "    </tr>\n",
       "    <tr>\n",
       "      <th>std</th>\n",
       "      <td>88.500408</td>\n",
       "      <td>1.417007</td>\n",
       "      <td>2.521943</td>\n",
       "      <td>1.111878</td>\n",
       "      <td>0.552582</td>\n",
       "      <td>1.734726e-18</td>\n",
       "    </tr>\n",
       "    <tr>\n",
       "      <th>min</th>\n",
       "      <td>0.000000</td>\n",
       "      <td>-17.347838</td>\n",
       "      <td>-17.347838</td>\n",
       "      <td>-9.857037</td>\n",
       "      <td>0.000000</td>\n",
       "      <td>1.554947e-02</td>\n",
       "    </tr>\n",
       "    <tr>\n",
       "      <th>25%</th>\n",
       "      <td>66.000000</td>\n",
       "      <td>-6.100213</td>\n",
       "      <td>0.000000</td>\n",
       "      <td>-6.126685</td>\n",
       "      <td>0.188706</td>\n",
       "      <td>1.554947e-02</td>\n",
       "    </tr>\n",
       "    <tr>\n",
       "      <th>50%</th>\n",
       "      <td>148.000000</td>\n",
       "      <td>-5.161079</td>\n",
       "      <td>0.000000</td>\n",
       "      <td>-5.419076</td>\n",
       "      <td>0.726002</td>\n",
       "      <td>1.554947e-02</td>\n",
       "    </tr>\n",
       "    <tr>\n",
       "      <th>75%</th>\n",
       "      <td>225.000000</td>\n",
       "      <td>-4.317114</td>\n",
       "      <td>0.000000</td>\n",
       "      <td>-4.445691</td>\n",
       "      <td>1.214746</td>\n",
       "      <td>1.554947e-02</td>\n",
       "    </tr>\n",
       "    <tr>\n",
       "      <th>max</th>\n",
       "      <td>278.000000</td>\n",
       "      <td>-2.422783</td>\n",
       "      <td>0.000000</td>\n",
       "      <td>-3.004074</td>\n",
       "      <td>8.883125</td>\n",
       "      <td>1.554947e-02</td>\n",
       "    </tr>\n",
       "  </tbody>\n",
       "</table>\n",
       "</div>"
      ],
      "text/plain": [
       "               split              b             bd             mu  \\\n",
       "count  315009.000000  315009.000000  315009.000000  315009.000000   \n",
       "mean      145.404014      -5.283544      -1.329048      -5.262684   \n",
       "std        88.500408       1.417007       2.521943       1.111878   \n",
       "min         0.000000     -17.347838     -17.347838      -9.857037   \n",
       "25%        66.000000      -6.100213       0.000000      -6.126685   \n",
       "50%       148.000000      -5.161079       0.000000      -5.419076   \n",
       "75%       225.000000      -4.317114       0.000000      -4.445691   \n",
       "max       278.000000      -2.422783       0.000000      -3.004074   \n",
       "\n",
       "               sigma          beta  \n",
       "count  315009.000000  3.150090e+05  \n",
       "mean        0.775261  1.554947e-02  \n",
       "std         0.552582  1.734726e-18  \n",
       "min         0.000000  1.554947e-02  \n",
       "25%         0.188706  1.554947e-02  \n",
       "50%         0.726002  1.554947e-02  \n",
       "75%         1.214746  1.554947e-02  \n",
       "max         8.883125  1.554947e-02  "
      ]
     },
     "execution_count": 51,
     "metadata": {},
     "output_type": "execute_result"
    }
   ],
   "source": [
    "df.describe()"
   ]
  },
  {
   "cell_type": "code",
   "execution_count": 50,
   "metadata": {},
   "outputs": [
    {
     "data": {
      "text/plain": [
       "315009"
      ]
     },
     "execution_count": 50,
     "metadata": {},
     "output_type": "execute_result"
    }
   ],
   "source": [
    "len(df)"
   ]
  },
  {
   "cell_type": "code",
   "execution_count": 55,
   "metadata": {},
   "outputs": [
    {
     "data": {
      "text/html": [
       "<div>\n",
       "<style scoped>\n",
       "    .dataframe tbody tr th:only-of-type {\n",
       "        vertical-align: middle;\n",
       "    }\n",
       "\n",
       "    .dataframe tbody tr th {\n",
       "        vertical-align: top;\n",
       "    }\n",
       "\n",
       "    .dataframe thead th {\n",
       "        text-align: right;\n",
       "    }\n",
       "</style>\n",
       "<table border=\"1\" class=\"dataframe\">\n",
       "  <thead>\n",
       "    <tr style=\"text-align: right;\">\n",
       "      <th></th>\n",
       "      <th>split</th>\n",
       "      <th>b</th>\n",
       "      <th>bd</th>\n",
       "      <th>mu</th>\n",
       "      <th>sigma</th>\n",
       "      <th>beta</th>\n",
       "    </tr>\n",
       "  </thead>\n",
       "  <tbody>\n",
       "  </tbody>\n",
       "</table>\n",
       "</div>"
      ],
      "text/plain": [
       "Empty DataFrame\n",
       "Columns: [split, b, bd, mu, sigma, beta]\n",
       "Index: []"
      ]
     },
     "execution_count": 55,
     "metadata": {},
     "output_type": "execute_result"
    }
   ],
   "source": [
    "df_nz"
   ]
  },
  {
   "cell_type": "code",
   "execution_count": 56,
   "metadata": {},
   "outputs": [],
   "source": [
    "df_nz = df[df.bd < 0]"
   ]
  },
  {
   "cell_type": "code",
   "execution_count": 58,
   "metadata": {},
   "outputs": [
    {
     "data": {
      "text/html": [
       "<div>\n",
       "<style scoped>\n",
       "    .dataframe tbody tr th:only-of-type {\n",
       "        vertical-align: middle;\n",
       "    }\n",
       "\n",
       "    .dataframe tbody tr th {\n",
       "        vertical-align: top;\n",
       "    }\n",
       "\n",
       "    .dataframe thead th {\n",
       "        text-align: right;\n",
       "    }\n",
       "</style>\n",
       "<table border=\"1\" class=\"dataframe\">\n",
       "  <thead>\n",
       "    <tr style=\"text-align: right;\">\n",
       "      <th></th>\n",
       "      <th>split</th>\n",
       "      <th>b</th>\n",
       "      <th>bd</th>\n",
       "      <th>mu</th>\n",
       "      <th>sigma</th>\n",
       "      <th>beta</th>\n",
       "    </tr>\n",
       "  </thead>\n",
       "  <tbody>\n",
       "    <tr>\n",
       "      <th>count</th>\n",
       "      <td>72871.000000</td>\n",
       "      <td>72871.000000</td>\n",
       "      <td>72871.000000</td>\n",
       "      <td>72871.000000</td>\n",
       "      <td>72871.000000</td>\n",
       "      <td>7.287100e+04</td>\n",
       "    </tr>\n",
       "    <tr>\n",
       "      <th>mean</th>\n",
       "      <td>127.078509</td>\n",
       "      <td>-5.334630</td>\n",
       "      <td>-5.745249</td>\n",
       "      <td>-5.244453</td>\n",
       "      <td>0.985451</td>\n",
       "      <td>1.554947e-02</td>\n",
       "    </tr>\n",
       "    <tr>\n",
       "      <th>std</th>\n",
       "      <td>84.720993</td>\n",
       "      <td>1.348129</td>\n",
       "      <td>1.456645</td>\n",
       "      <td>0.922299</td>\n",
       "      <td>0.513121</td>\n",
       "      <td>5.204206e-18</td>\n",
       "    </tr>\n",
       "    <tr>\n",
       "      <th>min</th>\n",
       "      <td>1.000000</td>\n",
       "      <td>-15.625153</td>\n",
       "      <td>-17.347838</td>\n",
       "      <td>-9.857037</td>\n",
       "      <td>0.000000</td>\n",
       "      <td>1.554947e-02</td>\n",
       "    </tr>\n",
       "    <tr>\n",
       "      <th>25%</th>\n",
       "      <td>53.000000</td>\n",
       "      <td>-6.054589</td>\n",
       "      <td>-6.601670</td>\n",
       "      <td>-5.945107</td>\n",
       "      <td>0.579917</td>\n",
       "      <td>1.554947e-02</td>\n",
       "    </tr>\n",
       "    <tr>\n",
       "      <th>50%</th>\n",
       "      <td>100.000000</td>\n",
       "      <td>-5.228883</td>\n",
       "      <td>-5.718787</td>\n",
       "      <td>-5.195769</td>\n",
       "      <td>1.074220</td>\n",
       "      <td>1.554947e-02</td>\n",
       "    </tr>\n",
       "    <tr>\n",
       "      <th>75%</th>\n",
       "      <td>197.000000</td>\n",
       "      <td>-4.500988</td>\n",
       "      <td>-4.859698</td>\n",
       "      <td>-5.112639</td>\n",
       "      <td>1.337596</td>\n",
       "      <td>1.554947e-02</td>\n",
       "    </tr>\n",
       "    <tr>\n",
       "      <th>max</th>\n",
       "      <td>277.000000</td>\n",
       "      <td>-2.655408</td>\n",
       "      <td>-2.612902</td>\n",
       "      <td>-3.275818</td>\n",
       "      <td>3.951697</td>\n",
       "      <td>1.554947e-02</td>\n",
       "    </tr>\n",
       "  </tbody>\n",
       "</table>\n",
       "</div>"
      ],
      "text/plain": [
       "              split             b            bd            mu         sigma  \\\n",
       "count  72871.000000  72871.000000  72871.000000  72871.000000  72871.000000   \n",
       "mean     127.078509     -5.334630     -5.745249     -5.244453      0.985451   \n",
       "std       84.720993      1.348129      1.456645      0.922299      0.513121   \n",
       "min        1.000000    -15.625153    -17.347838     -9.857037      0.000000   \n",
       "25%       53.000000     -6.054589     -6.601670     -5.945107      0.579917   \n",
       "50%      100.000000     -5.228883     -5.718787     -5.195769      1.074220   \n",
       "75%      197.000000     -4.500988     -4.859698     -5.112639      1.337596   \n",
       "max      277.000000     -2.655408     -2.612902     -3.275818      3.951697   \n",
       "\n",
       "               beta  \n",
       "count  7.287100e+04  \n",
       "mean   1.554947e-02  \n",
       "std    5.204206e-18  \n",
       "min    1.554947e-02  \n",
       "25%    1.554947e-02  \n",
       "50%    1.554947e-02  \n",
       "75%    1.554947e-02  \n",
       "max    1.554947e-02  "
      ]
     },
     "execution_count": 58,
     "metadata": {},
     "output_type": "execute_result"
    }
   ],
   "source": [
    "df_nz.describe()"
   ]
  },
  {
   "cell_type": "code",
   "execution_count": 57,
   "metadata": {},
   "outputs": [
    {
     "name": "stderr",
     "output_type": "stream",
     "text": [
      "/Users/tobiaochsner/Documents/Thesis/Validation/.venv/lib/python3.11/site-packages/pandas/core/nanops.py:1675: RuntimeWarning: Degrees of freedom <= 0 for slice\n",
      "  return np.cov(a, b, ddof=ddof)[0, 1]\n",
      "/Users/tobiaochsner/Documents/Thesis/Validation/.venv/lib/python3.11/site-packages/numpy/lib/_function_base_impl.py:2848: RuntimeWarning: divide by zero encountered in divide\n",
      "  c *= np.true_divide(1, fact)\n",
      "/Users/tobiaochsner/Documents/Thesis/Validation/.venv/lib/python3.11/site-packages/numpy/lib/_function_base_impl.py:2848: RuntimeWarning: invalid value encountered in multiply\n",
      "  c *= np.true_divide(1, fact)\n",
      "/var/folders/f_/r0jt4c1153v7d286lm9gbgx80000gn/T/ipykernel_52244/3864165322.py:1: DeprecationWarning: DataFrameGroupBy.apply operated on the grouping columns. This behavior is deprecated, and in a future version of pandas the grouping columns will be excluded from the operation. Either pass `include_groups=False` to exclude the groupings or explicitly select the grouping columns after groupby to silence this warning.\n",
      "  df_nz.groupby(\"split\").apply(lambda x: x.b.cov(x.bd)).mean()\n"
     ]
    },
    {
     "data": {
      "text/plain": [
       "np.float64(0.03367356245876712)"
      ]
     },
     "execution_count": 57,
     "metadata": {},
     "output_type": "execute_result"
    }
   ],
   "source": [
    "df_nz.groupby(\"split\").apply(lambda x: x.b.cov(x.bd)).mean()"
   ]
  },
  {
   "cell_type": "code",
   "execution_count": 40,
   "metadata": {},
   "outputs": [
    {
     "name": "stderr",
     "output_type": "stream",
     "text": [
      "/var/folders/f_/r0jt4c1153v7d286lm9gbgx80000gn/T/ipykernel_52244/3742312304.py:1: DeprecationWarning: DataFrameGroupBy.apply operated on the grouping columns. This behavior is deprecated, and in a future version of pandas the grouping columns will be excluded from the operation. Either pass `include_groups=False` to exclude the groupings or explicitly select the grouping columns after groupby to silence this warning.\n",
      "  cov_beta = df.groupby(\"split\").apply(lambda x: len(x) * x.bd.var()).sum() / len(df)\n"
     ]
    },
    {
     "data": {
      "text/plain": [
       "np.float64(-0.26970484391118654)"
      ]
     },
     "execution_count": 40,
     "metadata": {},
     "output_type": "execute_result"
    }
   ],
   "source": [
    "cov_beta = df.groupby(\"split\").apply(lambda x: len(x) * x.bd.var()).sum() / len(df)\n",
    "var_beta = df.b.cov(df.bd)\n",
    "var_beta / cov_beta"
   ]
  },
  {
   "cell_type": "code",
   "execution_count": 32,
   "metadata": {},
   "outputs": [
    {
     "data": {
      "text/plain": [
       "np.float64(-0.06566254309477647)"
      ]
     },
     "execution_count": 32,
     "metadata": {},
     "output_type": "execute_result"
    }
   ],
   "source": [
    "df.b.cov(df.bd)"
   ]
  },
  {
   "cell_type": "code",
   "execution_count": 8,
   "metadata": {},
   "outputs": [
    {
     "ename": "NameError",
     "evalue": "name 'data' is not defined",
     "output_type": "error",
     "traceback": [
      "\u001b[0;31m---------------------------------------------------------------------------\u001b[0m",
      "\u001b[0;31mNameError\u001b[0m                                 Traceback (most recent call last)",
      "Cell \u001b[0;32mIn[8], line 2\u001b[0m\n\u001b[1;32m      1\u001b[0m sns\u001b[38;5;241m.\u001b[39mscatterplot(\n\u001b[0;32m----> 2\u001b[0m     x\u001b[38;5;241m=\u001b[39m[d[\u001b[38;5;241m0\u001b[39m] \u001b[38;5;28;01mfor\u001b[39;00m d \u001b[38;5;129;01min\u001b[39;00m \u001b[43mdata\u001b[49m],\n\u001b[1;32m      3\u001b[0m     y\u001b[38;5;241m=\u001b[39m[d[\u001b[38;5;241m1\u001b[39m] \u001b[38;5;28;01mfor\u001b[39;00m d \u001b[38;5;129;01min\u001b[39;00m data],\n\u001b[1;32m      4\u001b[0m )\n\u001b[1;32m      5\u001b[0m plt\u001b[38;5;241m.\u001b[39mtitle(\u001b[38;5;124m\"\u001b[39m\u001b[38;5;124mMax. Log-Likelihood for Different Betas\u001b[39m\u001b[38;5;124m\"\u001b[39m)\n\u001b[1;32m      6\u001b[0m plt\u001b[38;5;241m.\u001b[39mxlabel(\u001b[38;5;124m\"\u001b[39m\u001b[38;5;124mBeta\u001b[39m\u001b[38;5;124m\"\u001b[39m)\n",
      "\u001b[0;31mNameError\u001b[0m: name 'data' is not defined"
     ]
    }
   ],
   "source": [
    "sns.scatterplot(\n",
    "    x=[d[0] for d in data],\n",
    "    y=[d[1] for d in data],\n",
    ")\n",
    "plt.title(\"Max. Log-Likelihood for Different Betas\")\n",
    "plt.xlabel(\"Beta\")\n",
    "plt.ylabel(\"Max. Log-Likelihood (+C)\")"
   ]
  },
  {
   "cell_type": "code",
   "execution_count": 10,
   "metadata": {},
   "outputs": [
    {
     "name": "stderr",
     "output_type": "stream",
     "text": [
      "/var/folders/f_/r0jt4c1153v7d286lm9gbgx80000gn/T/ipykernel_52244/1058977764.py:4: RuntimeWarning: invalid value encountered in scalar divide\n",
      "  nominator.sum() / denominator.sum()\n"
     ]
    },
    {
     "data": {
      "text/plain": [
       "np.float64(nan)"
      ]
     },
     "execution_count": 10,
     "metadata": {},
     "output_type": "execute_result"
    }
   ],
   "source": [
    "nominator = (df.b - df.mu) * df.bd / df.sigma\n",
    "denominator = (df.bd * df.bd) / df.sigma\n",
    "\n",
    "nominator.sum() / denominator.sum()"
   ]
  },
  {
   "cell_type": "code",
   "execution_count": 191,
   "metadata": {},
   "outputs": [],
   "source": [
    "import scipy.stats as stats\n",
    "from scipy.optimize import minimize"
   ]
  },
  {
   "cell_type": "code",
   "execution_count": 268,
   "metadata": {},
   "outputs": [],
   "source": [
    "df[\"p\"] = np.log(stats.norm.pdf(df.b, df.mu + df.beta * df.bd, np.power(df.sigma, 0.5)))"
   ]
  },
  {
   "cell_type": "code",
   "execution_count": 273,
   "metadata": {},
   "outputs": [
    {
     "data": {
      "text/plain": [
       "False"
      ]
     },
     "execution_count": 273,
     "metadata": {},
     "output_type": "execute_result"
    }
   ],
   "source": [
    "-330629 < -330629"
   ]
  },
  {
   "cell_type": "code",
   "execution_count": 251,
   "metadata": {},
   "outputs": [],
   "source": [
    "sor = df.sort_values(\"p\")"
   ]
  },
  {
   "cell_type": "code",
   "execution_count": 264,
   "metadata": {},
   "outputs": [
    {
     "data": {
      "text/html": [
       "<div>\n",
       "<style scoped>\n",
       "    .dataframe tbody tr th:only-of-type {\n",
       "        vertical-align: middle;\n",
       "    }\n",
       "\n",
       "    .dataframe tbody tr th {\n",
       "        vertical-align: top;\n",
       "    }\n",
       "\n",
       "    .dataframe thead th {\n",
       "        text-align: right;\n",
       "    }\n",
       "</style>\n",
       "<table border=\"1\" class=\"dataframe\">\n",
       "  <thead>\n",
       "    <tr style=\"text-align: right;\">\n",
       "      <th></th>\n",
       "      <th>split</th>\n",
       "      <th>b</th>\n",
       "      <th>bd</th>\n",
       "      <th>mu</th>\n",
       "      <th>sigma</th>\n",
       "      <th>beta</th>\n",
       "      <th>p</th>\n",
       "    </tr>\n",
       "  </thead>\n",
       "  <tbody>\n",
       "    <tr>\n",
       "      <th>145933</th>\n",
       "      <td>126</td>\n",
       "      <td>-6.418202</td>\n",
       "      <td>-7.148495</td>\n",
       "      <td>-6.361683</td>\n",
       "      <td>0.00100</td>\n",
       "      <td>0.007958</td>\n",
       "      <td>-inf</td>\n",
       "    </tr>\n",
       "    <tr>\n",
       "      <th>193973</th>\n",
       "      <td>201</td>\n",
       "      <td>-7.018995</td>\n",
       "      <td>-8.199940</td>\n",
       "      <td>-6.954163</td>\n",
       "      <td>0.00100</td>\n",
       "      <td>0.007958</td>\n",
       "      <td>-inf</td>\n",
       "    </tr>\n",
       "    <tr>\n",
       "      <th>154779</th>\n",
       "      <td>145</td>\n",
       "      <td>-6.349483</td>\n",
       "      <td>-7.431670</td>\n",
       "      <td>-6.290725</td>\n",
       "      <td>0.00100</td>\n",
       "      <td>0.007958</td>\n",
       "      <td>-inf</td>\n",
       "    </tr>\n",
       "    <tr>\n",
       "      <th>176411</th>\n",
       "      <td>169</td>\n",
       "      <td>-6.130917</td>\n",
       "      <td>-8.202414</td>\n",
       "      <td>-6.066065</td>\n",
       "      <td>0.00100</td>\n",
       "      <td>0.007958</td>\n",
       "      <td>-inf</td>\n",
       "    </tr>\n",
       "    <tr>\n",
       "      <th>53011</th>\n",
       "      <td>43</td>\n",
       "      <td>-4.865554</td>\n",
       "      <td>-6.138823</td>\n",
       "      <td>-4.817018</td>\n",
       "      <td>0.00100</td>\n",
       "      <td>0.007958</td>\n",
       "      <td>-inf</td>\n",
       "    </tr>\n",
       "    <tr>\n",
       "      <th>...</th>\n",
       "      <td>...</td>\n",
       "      <td>...</td>\n",
       "      <td>...</td>\n",
       "      <td>...</td>\n",
       "      <td>...</td>\n",
       "      <td>...</td>\n",
       "      <td>...</td>\n",
       "    </tr>\n",
       "    <tr>\n",
       "      <th>37460</th>\n",
       "      <td>25</td>\n",
       "      <td>-5.238035</td>\n",
       "      <td>0.000000</td>\n",
       "      <td>-5.238035</td>\n",
       "      <td>0.00100</td>\n",
       "      <td>0.007958</td>\n",
       "      <td>2.534939</td>\n",
       "    </tr>\n",
       "    <tr>\n",
       "      <th>78222</th>\n",
       "      <td>62</td>\n",
       "      <td>-7.820343</td>\n",
       "      <td>0.000000</td>\n",
       "      <td>-7.820343</td>\n",
       "      <td>0.00100</td>\n",
       "      <td>0.007958</td>\n",
       "      <td>2.534939</td>\n",
       "    </tr>\n",
       "    <tr>\n",
       "      <th>53139</th>\n",
       "      <td>48</td>\n",
       "      <td>-5.229283</td>\n",
       "      <td>0.000000</td>\n",
       "      <td>-5.229283</td>\n",
       "      <td>0.00100</td>\n",
       "      <td>0.007958</td>\n",
       "      <td>2.534939</td>\n",
       "    </tr>\n",
       "    <tr>\n",
       "      <th>117797</th>\n",
       "      <td>97</td>\n",
       "      <td>-8.164148</td>\n",
       "      <td>0.000000</td>\n",
       "      <td>-8.182044</td>\n",
       "      <td>0.00032</td>\n",
       "      <td>0.007958</td>\n",
       "      <td>2.604234</td>\n",
       "    </tr>\n",
       "    <tr>\n",
       "      <th>117798</th>\n",
       "      <td>97</td>\n",
       "      <td>-8.199940</td>\n",
       "      <td>0.000000</td>\n",
       "      <td>-8.182044</td>\n",
       "      <td>0.00032</td>\n",
       "      <td>0.007958</td>\n",
       "      <td>2.604234</td>\n",
       "    </tr>\n",
       "  </tbody>\n",
       "</table>\n",
       "<p>315009 rows × 7 columns</p>\n",
       "</div>"
      ],
      "text/plain": [
       "        split         b        bd        mu    sigma      beta         p\n",
       "145933    126 -6.418202 -7.148495 -6.361683  0.00100  0.007958      -inf\n",
       "193973    201 -7.018995 -8.199940 -6.954163  0.00100  0.007958      -inf\n",
       "154779    145 -6.349483 -7.431670 -6.290725  0.00100  0.007958      -inf\n",
       "176411    169 -6.130917 -8.202414 -6.066065  0.00100  0.007958      -inf\n",
       "53011      43 -4.865554 -6.138823 -4.817018  0.00100  0.007958      -inf\n",
       "...       ...       ...       ...       ...      ...       ...       ...\n",
       "37460      25 -5.238035  0.000000 -5.238035  0.00100  0.007958  2.534939\n",
       "78222      62 -7.820343  0.000000 -7.820343  0.00100  0.007958  2.534939\n",
       "53139      48 -5.229283  0.000000 -5.229283  0.00100  0.007958  2.534939\n",
       "117797     97 -8.164148  0.000000 -8.182044  0.00032  0.007958  2.604234\n",
       "117798     97 -8.199940  0.000000 -8.182044  0.00032  0.007958  2.604234\n",
       "\n",
       "[315009 rows x 7 columns]"
      ]
     },
     "execution_count": 264,
     "metadata": {},
     "output_type": "execute_result"
    }
   ],
   "source": [
    "sor"
   ]
  },
  {
   "cell_type": "code",
   "execution_count": 266,
   "metadata": {},
   "outputs": [
    {
     "data": {
      "text/plain": [
       "np.float64(0.0)"
      ]
     },
     "execution_count": 266,
     "metadata": {},
     "output_type": "execute_result"
    }
   ],
   "source": [
    "stats.norm.pdf(-6.418202, -4.429553, np.power(0.001000, 0.5))"
   ]
  },
  {
   "cell_type": "code",
   "execution_count": 267,
   "metadata": {},
   "outputs": [
    {
     "data": {
      "text/plain": [
       "-6.41857072321"
      ]
     },
     "execution_count": 267,
     "metadata": {},
     "output_type": "execute_result"
    }
   ],
   "source": [
    "-6.361683\t + 0.007958*-7.148495"
   ]
  },
  {
   "cell_type": "code",
   "execution_count": 1,
   "metadata": {},
   "outputs": [
    {
     "ename": "NameError",
     "evalue": "name 'df' is not defined",
     "output_type": "error",
     "traceback": [
      "\u001b[0;31m---------------------------------------------------------------------------\u001b[0m",
      "\u001b[0;31mNameError\u001b[0m                                 Traceback (most recent call last)",
      "Cell \u001b[0;32mIn[1], line 1\u001b[0m\n\u001b[0;32m----> 1\u001b[0m \u001b[43mdf\u001b[49m\n",
      "\u001b[0;31mNameError\u001b[0m: name 'df' is not defined"
     ]
    }
   ],
   "source": [
    "df"
   ]
  },
  {
   "cell_type": "code",
   "execution_count": 1,
   "metadata": {},
   "outputs": [],
   "source": [
    "import pandas as pd"
   ]
  },
  {
   "cell_type": "code",
   "execution_count": 2,
   "metadata": {},
   "outputs": [
    {
     "data": {
      "text/html": [
       "<div>\n",
       "<style scoped>\n",
       "    .dataframe tbody tr th:only-of-type {\n",
       "        vertical-align: middle;\n",
       "    }\n",
       "\n",
       "    .dataframe tbody tr th {\n",
       "        vertical-align: top;\n",
       "    }\n",
       "\n",
       "    .dataframe thead th {\n",
       "        text-align: right;\n",
       "    }\n",
       "</style>\n",
       "<table border=\"1\" class=\"dataframe\">\n",
       "  <thead>\n",
       "    <tr style=\"text-align: right;\">\n",
       "      <th></th>\n",
       "      <th>state</th>\n",
       "      <th>posterior</th>\n",
       "    </tr>\n",
       "  </thead>\n",
       "  <tbody>\n",
       "    <tr>\n",
       "      <th>0</th>\n",
       "      <td>STATE_0</td>\n",
       "      <td>2.699787e+24</td>\n",
       "    </tr>\n",
       "    <tr>\n",
       "      <th>1</th>\n",
       "      <td>STATE_100</td>\n",
       "      <td>1.541823e+18</td>\n",
       "    </tr>\n",
       "    <tr>\n",
       "      <th>2</th>\n",
       "      <td>STATE_200</td>\n",
       "      <td>1.922199e+16</td>\n",
       "    </tr>\n",
       "    <tr>\n",
       "      <th>3</th>\n",
       "      <td>STATE_300</td>\n",
       "      <td>1.833252e-01</td>\n",
       "    </tr>\n",
       "    <tr>\n",
       "      <th>4</th>\n",
       "      <td>STATE_400</td>\n",
       "      <td>5.043226e+09</td>\n",
       "    </tr>\n",
       "    <tr>\n",
       "      <th>...</th>\n",
       "      <td>...</td>\n",
       "      <td>...</td>\n",
       "    </tr>\n",
       "    <tr>\n",
       "      <th>99996</th>\n",
       "      <td>STATE_9999600</td>\n",
       "      <td>3.125039e+26</td>\n",
       "    </tr>\n",
       "    <tr>\n",
       "      <th>99997</th>\n",
       "      <td>STATE_9999700</td>\n",
       "      <td>7.391271e+34</td>\n",
       "    </tr>\n",
       "    <tr>\n",
       "      <th>99998</th>\n",
       "      <td>STATE_9999800</td>\n",
       "      <td>3.726645e+23</td>\n",
       "    </tr>\n",
       "    <tr>\n",
       "      <th>99999</th>\n",
       "      <td>STATE_9999900</td>\n",
       "      <td>6.909649e-09</td>\n",
       "    </tr>\n",
       "    <tr>\n",
       "      <th>100000</th>\n",
       "      <td>STATE_10000000</td>\n",
       "      <td>4.772378e+12</td>\n",
       "    </tr>\n",
       "  </tbody>\n",
       "</table>\n",
       "<p>100001 rows × 2 columns</p>\n",
       "</div>"
      ],
      "text/plain": [
       "                 state     posterior\n",
       "0              STATE_0  2.699787e+24\n",
       "1            STATE_100  1.541823e+18\n",
       "2            STATE_200  1.922199e+16\n",
       "3            STATE_300  1.833252e-01\n",
       "4            STATE_400  5.043226e+09\n",
       "...                ...           ...\n",
       "99996    STATE_9999600  3.125039e+26\n",
       "99997    STATE_9999700  7.391271e+34\n",
       "99998    STATE_9999800  3.726645e+23\n",
       "99999    STATE_9999900  6.909649e-09\n",
       "100000  STATE_10000000  4.772378e+12\n",
       "\n",
       "[100001 rows x 2 columns]"
      ]
     },
     "execution_count": 2,
     "metadata": {},
     "output_type": "execute_result"
    }
   ],
   "source": [
    "pd.read_csv(\"/Users/tobiaochsner/Documents/Thesis/Validation/data/validation/ds1-1_logs_mu-sigma-beta-old-small-old-big.log\")"
   ]
  },
  {
   "cell_type": "code",
   "execution_count": 8,
   "metadata": {},
   "outputs": [
    {
     "data": {
      "text/plain": [
       "np.float64(0.887611897814502)"
      ]
     },
     "execution_count": 8,
     "metadata": {},
     "output_type": "execute_result"
    }
   ],
   "source": [
    "import scipy.stats as stats\n",
    "stats.norm.pdf(-4.364048610428304, -4.6187572772113965, 0.338822167158795)\n"
   ]
  },
  {
   "cell_type": "code",
   "execution_count": 1,
   "metadata": {},
   "outputs": [],
   "source": [
    "import scipy.stats as stats\n",
    "import numpy as np\n",
    "import seaborn as sns"
   ]
  },
  {
   "cell_type": "code",
   "execution_count": 2,
   "metadata": {},
   "outputs": [
    {
     "data": {
      "text/plain": [
       "<Axes: ylabel='Count'>"
      ]
     },
     "execution_count": 2,
     "metadata": {},
     "output_type": "execute_result"
    },
    {
     "data": {
      "image/png": "[encoded data removed]",
      "text/plain": [
       "<Figure size 640x480 with 1 Axes>"
      ]
     },
     "metadata": {},
     "output_type": "display_data"
    }
   ],
   "source": [
    "norm = np.random.normal(0, 1, 5000)\n",
    "sns.histplot(norm)"
   ]
  },
  {
   "cell_type": "code",
   "execution_count": 9,
   "metadata": {},
   "outputs": [
    {
     "ename": "TypeError",
     "evalue": "rv_continuous.pdf() missing 1 required positional argument: 'x'",
     "output_type": "error",
     "traceback": [
      "\u001b[0;31m---------------------------------------------------------------------------\u001b[0m",
      "\u001b[0;31mTypeError\u001b[0m                                 Traceback (most recent call last)",
      "Cell \u001b[0;32mIn[9], line 1\u001b[0m\n\u001b[0;32m----> 1\u001b[0m norm \u001b[38;5;241m=\u001b[39m \u001b[43mstats\u001b[49m\u001b[38;5;241;43m.\u001b[39;49m\u001b[43mlognorm\u001b[49m\u001b[38;5;241;43m.\u001b[39;49m\u001b[43mpdf\u001b[49m\u001b[43m(\u001b[49m\u001b[43ms\u001b[49m\u001b[38;5;241;43m=\u001b[39;49m\u001b[38;5;241;43m1.0\u001b[39;49m\u001b[43m,\u001b[49m\u001b[43m \u001b[49m\u001b[43mscale\u001b[49m\u001b[38;5;241;43m=\u001b[39;49m\u001b[43mnp\u001b[49m\u001b[38;5;241;43m.\u001b[39;49m\u001b[43mexp\u001b[49m\u001b[43m(\u001b[49m\u001b[38;5;241;43m1.0\u001b[39;49m\u001b[43m)\u001b[49m\u001b[43m,\u001b[49m\u001b[43m \u001b[49m\u001b[43msize\u001b[49m\u001b[38;5;241;43m=\u001b[39;49m\u001b[38;5;241;43m5000\u001b[39;49m\u001b[43m)\u001b[49m \n\u001b[1;32m      2\u001b[0m sns\u001b[38;5;241m.\u001b[39mhistplot(np\u001b[38;5;241m.\u001b[39mlog(norm), stat\u001b[38;5;241m=\u001b[39m\u001b[38;5;124m\"\u001b[39m\u001b[38;5;124mdensity\u001b[39m\u001b[38;5;124m\"\u001b[39m)\n",
      "\u001b[0;31mTypeError\u001b[0m: rv_continuous.pdf() missing 1 required positional argument: 'x'"
     ]
    }
   ],
   "source": [
    "norm = stats.lognorm.pdf(s=1.0, scale=np.exp(1.0), size=5000) \n",
    "sns.histplot(np.log(norm), stat=\"density\")"
   ]
  },
  {
   "cell_type": "code",
   "execution_count": 21,
   "metadata": {},
   "outputs": [
    {
     "data": {
      "text/plain": [
       "np.float64(0.06475879783294586)"
      ]
     },
     "execution_count": 21,
     "metadata": {},
     "output_type": "execute_result"
    }
   ],
   "source": [
    "stats.lognorm.pdf(1.0, s=2.0, scale=np.exp(3.0)) "
   ]
  },
  {
   "cell_type": "code",
   "execution_count": 20,
   "metadata": {},
   "outputs": [
    {
     "data": {
      "text/plain": [
       "np.float64(0.06475879783294587)"
      ]
     },
     "execution_count": 20,
     "metadata": {},
     "output_type": "execute_result"
    }
   ],
   "source": [
    "stats.norm.pdf(np.log(1.0), 3.0, 2.0) "
   ]
  },
  {
   "cell_type": "code",
   "execution_count": null,
   "metadata": {},
   "outputs": [],
   "source": []
  }
 ],
 "metadata": {
  "kernelspec": {
   "display_name": ".venv",
   "language": "python",
   "name": "python3"
  },
  "language_info": {
   "codemirror_mode": {
    "name": "ipython",
    "version": 3
   },
   "file_extension": ".py",
   "mimetype": "text/x-python",
   "name": "python",
   "nbconvert_exporter": "python",
   "pygments_lexer": "ipython3",
   "version": "3.11.9"
  }
 },
 "nbformat": 4,
 "nbformat_minor": 2
}
