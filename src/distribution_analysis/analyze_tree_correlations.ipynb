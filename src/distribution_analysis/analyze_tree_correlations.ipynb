{
 "cells": [
  {
   "cell_type": "code",
   "execution_count": 1,
   "metadata": {},
   "outputs": [],
   "source": [
    "import seaborn as sns\n",
    "from Bio.Phylo._utils import draw\n",
    "from Bio.Phylo.BaseTree import Clade as BioClade\n",
    "from src.distribution_analysis.process_tree import get_observed_nodes, get_clade_split_df\n",
    "from collections import Counter\n",
    "from src.datasets.load_trees import load_trees, TreeDataset\n",
    "from src.utils.tree_utils import get_taxa_names, to_pruned_newick\n",
    "from scipy.stats import pearsonr\n",
    "import matplotlib.colors as mcolors"
   ]
  },
  {
   "cell_type": "code",
   "execution_count": 2,
   "metadata": {},
   "outputs": [],
   "source": [
    "import warnings\n",
    "warnings.filterwarnings('ignore')\n",
    "sns.set_style(\"whitegrid\")"
   ]
  },
  {
   "cell_type": "code",
   "execution_count": 3,
   "metadata": {},
   "outputs": [],
   "source": [
    "DATA_SET = TreeDataset.YULE_10\n",
    "DATA_SET_NAME = DATA_SET.value"
   ]
  },
  {
   "cell_type": "code",
   "execution_count": 4,
   "metadata": {},
   "outputs": [
    {
     "name": "stderr",
     "output_type": "stream",
     "text": [
      "1it [00:04,  4.98s/it]\n"
     ]
    }
   ],
   "source": [
    "trees = load_trees(DATA_SET, max_files=1)"
   ]
  },
  {
   "cell_type": "code",
   "execution_count": 5,
   "metadata": {},
   "outputs": [
    {
     "name": "stderr",
     "output_type": "stream",
     "text": [
      "35001it [00:01, 27208.70it/s]\n",
      "100%|██████████| 315009/315009 [00:00<00:00, 1423003.94it/s]\n"
     ]
    }
   ],
   "source": [
    "taxa_names = get_taxa_names(trees[0])\n",
    "observed_nodes, observed_clade_splits = get_observed_nodes(trees, taxa_names)\n",
    "df_clade_splits = get_clade_split_df(observed_clade_splits)"
   ]
  },
  {
   "cell_type": "code",
   "execution_count": 6,
   "metadata": {},
   "outputs": [],
   "source": [
    "tree_newicks = [\n",
    "    to_pruned_newick(tree) for tree in trees\n",
    "]\n",
    "most_common_newick = Counter(tree_newicks).most_common(1)[0][0]\n",
    "most_common_tree = next(tree for tree in trees if to_pruned_newick(tree) == most_common_newick)"
   ]
  },
  {
   "cell_type": "code",
   "execution_count": 23,
   "metadata": {},
   "outputs": [
    {
     "data": {
      "image/png": "[encoded data removed]",
      "text/plain": [
       "<Figure size 640x480 with 1 Axes>"
      ]
     },
     "metadata": {},
     "output_type": "display_data"
    }
   ],
   "source": [
    "draw(most_common_tree)"
   ]
  },
  {
   "cell_type": "code",
   "execution_count": 18,
   "metadata": {},
   "outputs": [
    {
     "name": "stdout",
     "output_type": "stream",
     "text": [
      "\n",
      "\n",
      "\n",
      "\n",
      "\n",
      "\n",
      "\n",
      "\n",
      "\n"
     ]
    },
    {
     "data": {
      "text/plain": [
       "1023"
      ]
     },
     "execution_count": 18,
     "metadata": {},
     "output_type": "execute_result"
    }
   ],
   "source": [
    "def _map_bitstrings_to_bio_clades(\n",
    "    bio_clade: BioClade,\n",
    "    bitstring_to_left_clade: dict[str, BioClade],\n",
    "    bitstring_to_right_clade: dict[str, BioClade],\n",
    ") -> int:\n",
    "    if bio_clade.is_terminal():\n",
    "        if not bio_clade.name:\n",
    "            raise ValueError(\"BioClade has no name.\")\n",
    "\n",
    "        clade_bitstring = 1\n",
    "        clade_bitstring = clade_bitstring << taxa_names.index(bio_clade.name)\n",
    "        \n",
    "        return clade_bitstring\n",
    "\n",
    "    left_clade = _map_bitstrings_to_bio_clades(\n",
    "        bio_clade.clades[0],\n",
    "        bitstring_to_left_clade,\n",
    "        bitstring_to_right_clade,\n",
    "    )\n",
    "    right_clade = _map_bitstrings_to_bio_clades(\n",
    "        bio_clade.clades[1],\n",
    "        bitstring_to_left_clade,\n",
    "        bitstring_to_right_clade,\n",
    "    )\n",
    "\n",
    "    clade_bitstring = left_clade | right_clade\n",
    "    \n",
    "    bitstring_to_left_clade[\"{0:010b}||{1:010b}\".format(left_clade, right_clade)] = bio_clade.clades[0]\n",
    "    bitstring_to_right_clade[\"{0:010b}||{1:010b}\".format(left_clade, right_clade)] = bio_clade.clades[1]\n",
    "\n",
    "    print()\n",
    "\n",
    "    return clade_bitstring\n",
    "\n",
    "bitstring_to_left_clade: dict[str, BioClade] = {}\n",
    "bitstring_to_right_clade: dict[str, BioClade] = {}\n",
    "_map_bitstrings_to_bio_clades(most_common_tree.root, bitstring_to_left_clade, bitstring_to_right_clade)"
   ]
  },
  {
   "cell_type": "code",
   "execution_count": 19,
   "metadata": {},
   "outputs": [],
   "source": [
    "def to_color(value):\n",
    "    cmap = mcolors.LinearSegmentedColormap.from_list('red_black_green', ['darkred', '#d1d1d1', 'darkgreen'])\n",
    "    norm = mcolors.Normalize(vmin=-1, vmax=1)    \n",
    "    rgba_color = cmap(norm(value))\n",
    "\n",
    "    return mcolors.rgb2hex(rgba_color)"
   ]
  },
  {
   "cell_type": "code",
   "execution_count": 20,
   "metadata": {},
   "outputs": [],
   "source": [
    "from typing import Literal\n",
    "from src.distribution_analysis.clade import ObservedCladeSplit\n",
    "\n",
    "\n",
    "def draw_clade_correlations(\n",
    "    ref_clade_split: str, branch: Literal[\"left_branch\", \"right_branch\"]\n",
    "):\n",
    "    df_relevant_splits = df_clade_splits[\n",
    "        df_clade_splits[\"newick_tree\"] == to_pruned_newick(most_common_tree)\n",
    "    ]\n",
    "\n",
    "    ref_branch_lengths_per_tree = dict(\n",
    "        zip(\n",
    "            df_relevant_splits[df_relevant_splits[\"clade_split\"] == ref_clade_split][\n",
    "                \"tree_index\"\n",
    "            ],\n",
    "            df_relevant_splits[df_relevant_splits[\"clade_split\"] == ref_clade_split][\n",
    "                branch\n",
    "            ],\n",
    "        )\n",
    "    )\n",
    "    ref_branch_lengths = [\n",
    "        ref_branch_lengths_per_tree[tree_index]\n",
    "        for tree_index in sorted(ref_branch_lengths_per_tree.keys())\n",
    "    ]\n",
    "\n",
    "    for split in df_relevant_splits[\"clade_split\"].unique():\n",
    "        # add correlations with left branch\n",
    "\n",
    "        query_branch_lengths_per_tree = dict(\n",
    "            zip(\n",
    "                df_relevant_splits[df_relevant_splits[\"clade_split\"] == split][\n",
    "                    \"tree_index\"\n",
    "                ],\n",
    "                df_relevant_splits[df_relevant_splits[\"clade_split\"] == split][\n",
    "                    \"left_branch\"\n",
    "                ],\n",
    "            )\n",
    "        )\n",
    "        query_branch_lengths = [\n",
    "            query_branch_lengths_per_tree[tree_index]\n",
    "            for tree_index in sorted(query_branch_lengths_per_tree.keys())\n",
    "        ]\n",
    "\n",
    "        correlation = pearsonr(ref_branch_lengths, query_branch_lengths)[0]\n",
    "        if split in bitstring_to_left_clade:\n",
    "            bitstring_to_left_clade[split].color = to_color(correlation)\n",
    "\n",
    "        # add correlations with right branch\n",
    "\n",
    "        query_branch_lengths_per_tree = dict(   \n",
    "            zip(\n",
    "                df_relevant_splits[df_relevant_splits[\"clade_split\"] == split][\n",
    "                    \"tree_index\"\n",
    "                ],\n",
    "                df_relevant_splits[df_relevant_splits[\"clade_split\"] == split][\n",
    "                    \"right_branch\"\n",
    "                ],\n",
    "            )\n",
    "        )\n",
    "        query_branch_lengths = [\n",
    "            query_branch_lengths_per_tree[tree_index]\n",
    "            for tree_index in sorted(query_branch_lengths_per_tree.keys())\n",
    "        ]\n",
    "\n",
    "        correlation = pearsonr(ref_branch_lengths, query_branch_lengths)[0]\n",
    "        if split in bitstring_to_right_clade:\n",
    "            bitstring_to_right_clade[split].color = to_color(correlation)\n",
    "\n",
    "    draw(most_common_tree)"
   ]
  },
  {
   "cell_type": "code",
   "execution_count": 21,
   "metadata": {},
   "outputs": [
    {
     "data": {
      "text/plain": [
       "array(['0000000100||0000001000', '0000000010||0000001100',\n",
       "       '0000000001||0000001110', '0000001111||0000010000',\n",
       "       '0001000000||0010000000', '0000100000||0011000000',\n",
       "       '0000011111||0011100000', '0100000000||1000000000',\n",
       "       '0011111111||1100000000'], dtype=object)"
      ]
     },
     "execution_count": 21,
     "metadata": {},
     "output_type": "execute_result"
    }
   ],
   "source": [
    "df_clade_splits[df_clade_splits[\"newick_tree\"] == to_pruned_newick(most_common_tree)][\n",
    "    \"clade_split\"\n",
    "].unique()"
   ]
  },
  {
   "cell_type": "code",
   "execution_count": 32,
   "metadata": {},
   "outputs": [
    {
     "data": {
      "image/png": "[encoded data removed]",
      "text/plain": [
       "<Figure size 640x480 with 1 Axes>"
      ]
     },
     "metadata": {},
     "output_type": "display_data"
    }
   ],
   "source": [
    "draw_clade_correlations(\"0011111111||1100000000\", \"right_branch\")"
   ]
  },
  {
   "cell_type": "code",
   "execution_count": null,
   "metadata": {},
   "outputs": [],
   "source": []
  }
 ],
 "metadata": {
  "kernelspec": {
   "display_name": ".venv",
   "language": "python",
   "name": "python3"
  },
  "language_info": {
   "codemirror_mode": {
    "name": "ipython",
    "version": 3
   },
   "file_extension": ".py",
   "mimetype": "text/x-python",
   "name": "python",
   "nbconvert_exporter": "python",
   "pygments_lexer": "ipython3",
   "version": "3.11.9"
  }
 },
 "nbformat": 4,
 "nbformat_minor": 2
}
