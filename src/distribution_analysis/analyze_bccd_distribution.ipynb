{
 "cells": [
  {
   "cell_type": "code",
   "execution_count": 16,
   "metadata": {},
   "outputs": [],
   "source": [
    "import seaborn as sns\n",
    "import matplotlib.pyplot as plt\n",
    "from pathlib import Path\n",
    "from Bio.Phylo._io import parse\n",
    "from Bio.Phylo.BaseTree import Tree as BioTree\n",
    "\n",
    "from src.utils.tree_utils import get_taxa_names\n",
    "from src.utils.tree_utils import get_tree_height\n",
    "from src.distribution_analysis.process_tree import get_observed_nodes, get_clade_split_df"
   ]
  },
  {
   "cell_type": "code",
   "execution_count": 3,
   "metadata": {},
   "outputs": [],
   "source": [
    "import warnings\n",
    "warnings.filterwarnings('ignore')\n",
    "sns.set_style(\"whitegrid\")"
   ]
  },
  {
   "cell_type": "code",
   "execution_count": 4,
   "metadata": {},
   "outputs": [],
   "source": [
    "REFERENCE_TREE_FILE = Path(\"/Users/tobiaochsner/Documents/Thesis/Validation/data/mcmc_runs/yule-10-0.trees\")\n",
    "SAMPLE_TREES_FILE = Path(\"/Users/tobiaochsner/Documents/Thesis/Validation/data/sampled_bccd/yule-10-0.trees\")\n",
    "NUM_TAXA = 10"
   ]
  },
  {
   "cell_type": "code",
   "execution_count": 5,
   "metadata": {},
   "outputs": [],
   "source": [
    "ref_trees: list[BioTree] = list(parse(REFERENCE_TREE_FILE, \"nexus\"))\n",
    "sample_trees: list[BioTree] = list(parse(SAMPLE_TREES_FILE, \"nexus\"))"
   ]
  },
  {
   "cell_type": "code",
   "execution_count": 8,
   "metadata": {},
   "outputs": [],
   "source": [
    "taxa_names = get_taxa_names(ref_trees[0])"
   ]
  },
  {
   "cell_type": "code",
   "execution_count": 11,
   "metadata": {},
   "outputs": [],
   "source": [
    "ref_tree_heights = [\n",
    "    get_tree_height(tree)\n",
    "    for tree in ref_trees\n",
    "]\n",
    "sample_tree_heights = [\n",
    "    get_tree_height(tree)\n",
    "    for tree in sample_trees\n",
    "]"
   ]
  },
  {
   "cell_type": "code",
   "execution_count": 38,
   "metadata": {},
   "outputs": [
    {
     "data": {
      "image/png": "[encoded data removed]",
      "text/plain": [
       "<Figure size 640x480 with 1 Axes>"
      ]
     },
     "metadata": {},
     "output_type": "display_data"
    }
   ],
   "source": [
    "import numpy as np\n",
    "\n",
    "max_displayed_height = np.percentile(sample_tree_heights + sample_tree_heights, 99)\n",
    "\n",
    "sns.histplot(\n",
    "    ref_tree_heights,\n",
    "    stat=\"density\",\n",
    "    label=\"Reference\",\n",
    ")\n",
    "sns.histplot(\n",
    "    sample_tree_heights,\n",
    "    stat=\"density\",\n",
    "    label=\"Sample\",\n",
    ")\n",
    "\n",
    "plt.xlabel(\"Tree height\")\n",
    "plt.xlim(0, max_displayed_height)\n",
    "plt.legend()\n",
    "\n",
    "plt.savefig(\"test.png\", dpi=200)\n",
    "plt.show()"
   ]
  },
  {
   "cell_type": "code",
   "execution_count": 18,
   "metadata": {},
   "outputs": [
    {
     "name": "stderr",
     "output_type": "stream",
     "text": [
      "35001it [00:01, 26674.66it/s]\n",
      "3499it [00:00, 38483.99it/s]\n"
     ]
    }
   ],
   "source": [
    "ref_nodes, ref_clade_splits = get_observed_nodes(ref_trees, taxa_names)\n",
    "sample_nodes, sample_clade_splits = get_observed_nodes(sample_trees, taxa_names)"
   ]
  },
  {
   "cell_type": "code",
   "execution_count": 19,
   "metadata": {},
   "outputs": [
    {
     "name": "stderr",
     "output_type": "stream",
     "text": [
      "100%|██████████| 315009/315009 [00:00<00:00, 1003833.40it/s]\n",
      "100%|██████████| 31491/31491 [00:00<00:00, 1384937.01it/s]\n"
     ]
    }
   ],
   "source": [
    "df_ref_clade_branches = get_clade_split_df(ref_clade_splits)\n",
    "df_sample_clade_branches = get_clade_split_df(sample_clade_splits)"
   ]
  },
  {
   "cell_type": "code",
   "execution_count": 20,
   "metadata": {},
   "outputs": [
    {
     "data": {
      "text/html": [
       "<div>\n",
       "<style scoped>\n",
       "    .dataframe tbody tr th:only-of-type {\n",
       "        vertical-align: middle;\n",
       "    }\n",
       "\n",
       "    .dataframe tbody tr th {\n",
       "        vertical-align: top;\n",
       "    }\n",
       "\n",
       "    .dataframe thead th {\n",
       "        text-align: right;\n",
       "    }\n",
       "</style>\n",
       "<table border=\"1\" class=\"dataframe\">\n",
       "  <thead>\n",
       "    <tr style=\"text-align: right;\">\n",
       "      <th></th>\n",
       "      <th>tree_index</th>\n",
       "      <th>left_branch</th>\n",
       "      <th>right_branch</th>\n",
       "      <th>min_branch</th>\n",
       "      <th>max_branch</th>\n",
       "      <th>distance_to_root</th>\n",
       "      <th>distance_to_leaf</th>\n",
       "      <th>height</th>\n",
       "    </tr>\n",
       "  </thead>\n",
       "  <tbody>\n",
       "    <tr>\n",
       "      <th>count</th>\n",
       "      <td>315009.000000</td>\n",
       "      <td>3.150090e+05</td>\n",
       "      <td>3.150090e+05</td>\n",
       "      <td>3.150090e+05</td>\n",
       "      <td>3.150090e+05</td>\n",
       "      <td>315009.000000</td>\n",
       "      <td>315009.000000</td>\n",
       "      <td>315009.000000</td>\n",
       "    </tr>\n",
       "    <tr>\n",
       "      <th>mean</th>\n",
       "      <td>17500.000000</td>\n",
       "      <td>1.387369e-02</td>\n",
       "      <td>2.246806e-02</td>\n",
       "      <td>1.068820e-02</td>\n",
       "      <td>2.565355e-02</td>\n",
       "      <td>2.586590</td>\n",
       "      <td>2.642537</td>\n",
       "      <td>0.033996</td>\n",
       "    </tr>\n",
       "    <tr>\n",
       "      <th>std</th>\n",
       "      <td>10103.934419</td>\n",
       "      <td>1.416116e-02</td>\n",
       "      <td>2.216634e-02</td>\n",
       "      <td>1.222035e-02</td>\n",
       "      <td>2.162172e-02</td>\n",
       "      <td>1.483713</td>\n",
       "      <td>1.646282</td>\n",
       "      <td>0.023958</td>\n",
       "    </tr>\n",
       "    <tr>\n",
       "      <th>min</th>\n",
       "      <td>0.000000</td>\n",
       "      <td>2.923678e-08</td>\n",
       "      <td>2.923678e-08</td>\n",
       "      <td>2.923678e-08</td>\n",
       "      <td>2.923678e-08</td>\n",
       "      <td>0.000000</td>\n",
       "      <td>1.000000</td>\n",
       "      <td>0.000000</td>\n",
       "    </tr>\n",
       "    <tr>\n",
       "      <th>25%</th>\n",
       "      <td>8750.000000</td>\n",
       "      <td>2.757644e-03</td>\n",
       "      <td>3.596235e-03</td>\n",
       "      <td>2.242390e-03</td>\n",
       "      <td>5.665635e-03</td>\n",
       "      <td>2.000000</td>\n",
       "      <td>1.000000</td>\n",
       "      <td>0.012681</td>\n",
       "    </tr>\n",
       "    <tr>\n",
       "      <th>50%</th>\n",
       "      <td>17500.000000</td>\n",
       "      <td>7.689994e-03</td>\n",
       "      <td>1.154185e-02</td>\n",
       "      <td>5.735506e-03</td>\n",
       "      <td>2.022596e-02</td>\n",
       "      <td>3.000000</td>\n",
       "      <td>2.000000</td>\n",
       "      <td>0.033055</td>\n",
       "    </tr>\n",
       "    <tr>\n",
       "      <th>75%</th>\n",
       "      <td>26250.000000</td>\n",
       "      <td>2.418582e-02</td>\n",
       "      <td>4.096733e-02</td>\n",
       "      <td>1.333832e-02</td>\n",
       "      <td>4.254489e-02</td>\n",
       "      <td>4.000000</td>\n",
       "      <td>4.000000</td>\n",
       "      <td>0.054359</td>\n",
       "    </tr>\n",
       "    <tr>\n",
       "      <th>max</th>\n",
       "      <td>35000.000000</td>\n",
       "      <td>8.867450e-02</td>\n",
       "      <td>1.282626e-01</td>\n",
       "      <td>8.867450e-02</td>\n",
       "      <td>1.282626e-01</td>\n",
       "      <td>6.000000</td>\n",
       "      <td>7.000000</td>\n",
       "      <td>0.127955</td>\n",
       "    </tr>\n",
       "  </tbody>\n",
       "</table>\n",
       "</div>"
      ],
      "text/plain": [
       "          tree_index   left_branch  right_branch    min_branch    max_branch  \\\n",
       "count  315009.000000  3.150090e+05  3.150090e+05  3.150090e+05  3.150090e+05   \n",
       "mean    17500.000000  1.387369e-02  2.246806e-02  1.068820e-02  2.565355e-02   \n",
       "std     10103.934419  1.416116e-02  2.216634e-02  1.222035e-02  2.162172e-02   \n",
       "min         0.000000  2.923678e-08  2.923678e-08  2.923678e-08  2.923678e-08   \n",
       "25%      8750.000000  2.757644e-03  3.596235e-03  2.242390e-03  5.665635e-03   \n",
       "50%     17500.000000  7.689994e-03  1.154185e-02  5.735506e-03  2.022596e-02   \n",
       "75%     26250.000000  2.418582e-02  4.096733e-02  1.333832e-02  4.254489e-02   \n",
       "max     35000.000000  8.867450e-02  1.282626e-01  8.867450e-02  1.282626e-01   \n",
       "\n",
       "       distance_to_root  distance_to_leaf         height  \n",
       "count     315009.000000     315009.000000  315009.000000  \n",
       "mean           2.586590          2.642537       0.033996  \n",
       "std            1.483713          1.646282       0.023958  \n",
       "min            0.000000          1.000000       0.000000  \n",
       "25%            2.000000          1.000000       0.012681  \n",
       "50%            3.000000          2.000000       0.033055  \n",
       "75%            4.000000          4.000000       0.054359  \n",
       "max            6.000000          7.000000       0.127955  "
      ]
     },
     "execution_count": 20,
     "metadata": {},
     "output_type": "execute_result"
    }
   ],
   "source": [
    "df_ref_clade_branches.describe()"
   ]
  },
  {
   "cell_type": "code",
   "execution_count": 21,
   "metadata": {},
   "outputs": [
    {
     "data": {
      "text/html": [
       "<div>\n",
       "<style scoped>\n",
       "    .dataframe tbody tr th:only-of-type {\n",
       "        vertical-align: middle;\n",
       "    }\n",
       "\n",
       "    .dataframe tbody tr th {\n",
       "        vertical-align: top;\n",
       "    }\n",
       "\n",
       "    .dataframe thead th {\n",
       "        text-align: right;\n",
       "    }\n",
       "</style>\n",
       "<table border=\"1\" class=\"dataframe\">\n",
       "  <thead>\n",
       "    <tr style=\"text-align: right;\">\n",
       "      <th></th>\n",
       "      <th>tree_index</th>\n",
       "      <th>left_branch</th>\n",
       "      <th>right_branch</th>\n",
       "      <th>min_branch</th>\n",
       "      <th>max_branch</th>\n",
       "      <th>distance_to_root</th>\n",
       "      <th>distance_to_leaf</th>\n",
       "      <th>height</th>\n",
       "    </tr>\n",
       "  </thead>\n",
       "  <tbody>\n",
       "    <tr>\n",
       "      <th>count</th>\n",
       "      <td>31491.000000</td>\n",
       "      <td>31491.000000</td>\n",
       "      <td>31491.000000</td>\n",
       "      <td>31491.000000</td>\n",
       "      <td>31491.000000</td>\n",
       "      <td>31491.000000</td>\n",
       "      <td>31491.000000</td>\n",
       "      <td>31491.000000</td>\n",
       "    </tr>\n",
       "    <tr>\n",
       "      <th>mean</th>\n",
       "      <td>1749.000000</td>\n",
       "      <td>0.015163</td>\n",
       "      <td>0.024488</td>\n",
       "      <td>0.011436</td>\n",
       "      <td>0.028216</td>\n",
       "      <td>2.583881</td>\n",
       "      <td>2.635515</td>\n",
       "      <td>0.039868</td>\n",
       "    </tr>\n",
       "    <tr>\n",
       "      <th>std</th>\n",
       "      <td>1010.090293</td>\n",
       "      <td>0.019514</td>\n",
       "      <td>0.029287</td>\n",
       "      <td>0.016242</td>\n",
       "      <td>0.029622</td>\n",
       "      <td>1.479394</td>\n",
       "      <td>1.638886</td>\n",
       "      <td>0.039482</td>\n",
       "    </tr>\n",
       "    <tr>\n",
       "      <th>min</th>\n",
       "      <td>0.000000</td>\n",
       "      <td>0.000004</td>\n",
       "      <td>0.000004</td>\n",
       "      <td>0.000004</td>\n",
       "      <td>0.000004</td>\n",
       "      <td>0.000000</td>\n",
       "      <td>1.000000</td>\n",
       "      <td>0.000000</td>\n",
       "    </tr>\n",
       "    <tr>\n",
       "      <th>25%</th>\n",
       "      <td>874.000000</td>\n",
       "      <td>0.002701</td>\n",
       "      <td>0.003737</td>\n",
       "      <td>0.002101</td>\n",
       "      <td>0.006820</td>\n",
       "      <td>2.000000</td>\n",
       "      <td>1.000000</td>\n",
       "      <td>0.012305</td>\n",
       "    </tr>\n",
       "    <tr>\n",
       "      <th>50%</th>\n",
       "      <td>1749.000000</td>\n",
       "      <td>0.007878</td>\n",
       "      <td>0.011270</td>\n",
       "      <td>0.006084</td>\n",
       "      <td>0.025394</td>\n",
       "      <td>3.000000</td>\n",
       "      <td>2.000000</td>\n",
       "      <td>0.037802</td>\n",
       "    </tr>\n",
       "    <tr>\n",
       "      <th>75%</th>\n",
       "      <td>2624.000000</td>\n",
       "      <td>0.028425</td>\n",
       "      <td>0.040620</td>\n",
       "      <td>0.014680</td>\n",
       "      <td>0.042721</td>\n",
       "      <td>4.000000</td>\n",
       "      <td>4.000000</td>\n",
       "      <td>0.057651</td>\n",
       "    </tr>\n",
       "    <tr>\n",
       "      <th>max</th>\n",
       "      <td>3498.000000</td>\n",
       "      <td>1.239440</td>\n",
       "      <td>1.279203</td>\n",
       "      <td>1.239440</td>\n",
       "      <td>1.279203</td>\n",
       "      <td>6.000000</td>\n",
       "      <td>7.000000</td>\n",
       "      <td>1.279036</td>\n",
       "    </tr>\n",
       "  </tbody>\n",
       "</table>\n",
       "</div>"
      ],
      "text/plain": [
       "         tree_index   left_branch  right_branch    min_branch    max_branch  \\\n",
       "count  31491.000000  31491.000000  31491.000000  31491.000000  31491.000000   \n",
       "mean    1749.000000      0.015163      0.024488      0.011436      0.028216   \n",
       "std     1010.090293      0.019514      0.029287      0.016242      0.029622   \n",
       "min        0.000000      0.000004      0.000004      0.000004      0.000004   \n",
       "25%      874.000000      0.002701      0.003737      0.002101      0.006820   \n",
       "50%     1749.000000      0.007878      0.011270      0.006084      0.025394   \n",
       "75%     2624.000000      0.028425      0.040620      0.014680      0.042721   \n",
       "max     3498.000000      1.239440      1.279203      1.239440      1.279203   \n",
       "\n",
       "       distance_to_root  distance_to_leaf        height  \n",
       "count      31491.000000      31491.000000  31491.000000  \n",
       "mean           2.583881          2.635515      0.039868  \n",
       "std            1.479394          1.638886      0.039482  \n",
       "min            0.000000          1.000000      0.000000  \n",
       "25%            2.000000          1.000000      0.012305  \n",
       "50%            3.000000          2.000000      0.037802  \n",
       "75%            4.000000          4.000000      0.057651  \n",
       "max            6.000000          7.000000      1.279036  "
      ]
     },
     "execution_count": 21,
     "metadata": {},
     "output_type": "execute_result"
    }
   ],
   "source": [
    "df_sample_clade_branches.describe()"
   ]
  },
  {
   "cell_type": "code",
   "execution_count": 42,
   "metadata": {},
   "outputs": [
    {
     "data": {
      "image/png": "[encoded data removed]",
      "text/plain": [
       "<Figure size 640x480 with 1 Axes>"
      ]
     },
     "metadata": {},
     "output_type": "display_data"
    }
   ],
   "source": [
    "sns.histplot(\n",
    "    df_ref_clade_branches[\"left_branch\"] + df_ref_clade_branches[\"right_branch\"], \n",
    "    stat=\"density\",\n",
    ")\n",
    "\n",
    "sns.histplot(\n",
    "    df_sample_clade_branches[\"left_branch\"] + df_sample_clade_branches[\"right_branch\"], \n",
    "    stat=\"density\",\n",
    ")\n",
    "\n",
    "plt.xlim([0, 0.08])\n",
    "plt.xlabel(\"Branch length\")\n",
    "plt.title(\"Branch length distribution\")\n",
    "plt.show()"
   ]
  }
 ],
 "metadata": {
  "kernelspec": {
   "display_name": ".venv",
   "language": "python",
   "name": "python3"
  },
  "language_info": {
   "codemirror_mode": {
    "name": "ipython",
    "version": 3
   },
   "file_extension": ".py",
   "mimetype": "text/x-python",
   "name": "python",
   "nbconvert_exporter": "python",
   "pygments_lexer": "ipython3",
   "version": "3.11.9"
  }
 },
 "nbformat": 4,
 "nbformat_minor": 2
}
