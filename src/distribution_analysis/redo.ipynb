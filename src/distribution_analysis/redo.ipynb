{
 "cells": [
  {
   "cell_type": "code",
   "execution_count": 31,
   "metadata": {},
   "outputs": [],
   "source": [
    "import seaborn as sns\n",
    "from Bio.Phylo._utils import draw\n",
    "import matplotlib.pyplot as plt\n",
    "from src.distribution_analysis.process_tree import get_observed_nodes\n",
    "\n",
    "import seaborn as sns\n",
    "from src.distribution_analysis.process_tree import get_observed_nodes, get_clade_split_df\n",
    "from src.datasets.load_trees import load_trees, TreeDataset\n",
    "from src.utils.tree_utils import get_taxa_names\n",
    "import pandas as pd\n",
    "from tqdm import tqdm\n",
    "\n",
    "from src.distribution_analysis.clade import ObservedCladeSplit\n",
    "\n",
    "from Bio.Phylo.BaseTree import Tree, Clade"
   ]
  },
  {
   "cell_type": "code",
   "execution_count": 2,
   "metadata": {},
   "outputs": [],
   "source": [
    "import warnings\n",
    "warnings.filterwarnings('ignore')\n",
    "\n",
    "sns.set_style(\"whitegrid\")"
   ]
  },
  {
   "cell_type": "code",
   "execution_count": 3,
   "metadata": {},
   "outputs": [],
   "source": [
    "DATA_SET = TreeDataset.YULE_10\n",
    "DATA_SET_NAME = DATA_SET.value"
   ]
  },
  {
   "cell_type": "code",
   "execution_count": 4,
   "metadata": {},
   "outputs": [
    {
     "name": "stderr",
     "output_type": "stream",
     "text": [
      "2it [00:10,  5.44s/it]\n"
     ]
    }
   ],
   "source": [
    "trees = load_trees(DATA_SET, max_trees=50_000)"
   ]
  },
  {
   "cell_type": "code",
   "execution_count": 5,
   "metadata": {},
   "outputs": [],
   "source": [
    "taxa_names = get_taxa_names(trees[0])"
   ]
  },
  {
   "cell_type": "code",
   "execution_count": 7,
   "metadata": {},
   "outputs": [],
   "source": []
  },
  {
   "cell_type": "code",
   "execution_count": 46,
   "metadata": {},
   "outputs": [],
   "source": [
    "df_dict = {\n",
    "    \"min_branch_0\": [],\n",
    "    \"min_branch_1\": [],\n",
    "}\n",
    "\n",
    "def process_tree(clade: Clade):\n",
    "    if clade.is_terminal():\n",
    "        return\n",
    "    \n",
    "    process_tree(clade.clades[0])\n",
    "    process_tree(clade.clades[1])\n",
    "\n",
    "    min_clade_idx = 0 if clade.clades[0].branch_length < clade.clades[1].branch_length else 1\n",
    "    \n",
    "    if not clade.clades[min_clade_idx].is_terminal():\n",
    "        min_min_clade_idx = 0 if clade.clades[min_clade_idx].clades[0].branch_length < clade.clades[min_clade_idx].clades[1].branch_length else 1\n",
    "        df_dict[\"min_branch_0\"].append(clade.clades[min_clade_idx].branch_length)\n",
    "        df_dict[\"min_branch_1\"].append(clade.clades[min_clade_idx].clades[min_min_clade_idx].branch_length)\n",
    "\n",
    "for tree in trees:\n",
    "    process_tree(tree.root)"
   ]
  },
  {
   "cell_type": "code",
   "execution_count": 47,
   "metadata": {},
   "outputs": [
    {
     "data": {
      "text/plain": [
       "PearsonRResult(statistic=np.float64(0.44562859182455034), pvalue=np.float64(0.0))"
      ]
     },
     "execution_count": 47,
     "metadata": {},
     "output_type": "execute_result"
    }
   ],
   "source": [
    "from scipy.stats import pearsonr\n",
    "pearsonr(df_dict[\"min_branch_0\"], df_dict[\"min_branch_1\"])"
   ]
  },
  {
   "cell_type": "code",
   "execution_count": 54,
   "metadata": {},
   "outputs": [
    {
     "name": "stdout",
     "output_type": "stream",
     "text": [
      "PearsonRResult(statistic=np.float64(-0.04615891266974981), pvalue=np.float64(9.789518001162844e-211))\n",
      "PearsonRResult(statistic=np.float64(0.11669281039455803), pvalue=np.float64(0.0))\n"
     ]
    }
   ],
   "source": [
    "df_dict = {\n",
    "    \"branch_l\": [],\n",
    "    \"branch_ll\": [],\n",
    "    \"branch_lr\": [],\n",
    "}\n",
    "\n",
    "def process_tree(clade: Clade):\n",
    "    if clade.is_terminal():\n",
    "        return\n",
    "\n",
    "    df_dict[\"branch_l\"].append(clade.branch_length)\n",
    "    df_dict[\"branch_ll\"].append(clade.clades[0].branch_length)\n",
    "    df_dict[\"branch_lr\"].append(clade.clades[1].branch_length)\n",
    "\n",
    "    process_tree(clade.clades[0])\n",
    "    process_tree(clade.clades[1])\n",
    "\n",
    "for tree in trees:\n",
    "    process_tree(tree.root)\n",
    "\n",
    "from scipy.stats import pearsonr\n",
    "print(pearsonr(df_dict[\"branch_l\"], df_dict[\"branch_ll\"]))\n",
    "print(pearsonr(df_dict[\"branch_l\"], df_dict[\"branch_lr\"]))"
   ]
  },
  {
   "cell_type": "code",
   "execution_count": null,
   "metadata": {},
   "outputs": [],
   "source": []
  }
 ],
 "metadata": {
  "kernelspec": {
   "display_name": ".venv",
   "language": "python",
   "name": "python3"
  },
  "language_info": {
   "codemirror_mode": {
    "name": "ipython",
    "version": 3
   },
   "file_extension": ".py",
   "mimetype": "text/x-python",
   "name": "python",
   "nbconvert_exporter": "python",
   "pygments_lexer": "ipython3",
   "version": "3.11.9"
  }
 },
 "nbformat": 4,
 "nbformat_minor": 2
}
