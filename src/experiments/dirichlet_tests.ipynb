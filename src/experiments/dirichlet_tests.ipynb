{
 "cells": [
  {
   "cell_type": "code",
   "execution_count": 79,
   "metadata": {},
   "outputs": [],
   "source": [
    "import numpy as np\n",
    "from scipy.stats._continuous_distns import _digammainv\n",
    "from scipy.special import digamma"
   ]
  },
  {
   "cell_type": "code",
   "execution_count": 95,
   "metadata": {},
   "outputs": [
    {
     "data": {
      "text/plain": [
       "(array([0.73315156, 0.26653941, 2.11235896, 0.96560241, 0.90868645,\n",
       "        1.60801849, 0.48705893, 0.76858858, 2.01629657, 0.13369864]),\n",
       " np.float64(9.999999999999998))"
      ]
     },
     "execution_count": 95,
     "metadata": {},
     "output_type": "execute_result"
    }
   ],
   "source": [
    "alpha = np.random.gamma(1, 1, 10)\n",
    "alpha /= 0.1 * alpha.sum()\n",
    "samples = np.random.dirichlet(alpha, 10000)\n",
    "alpha, sum(alpha)"
   ]
  },
  {
   "cell_type": "code",
   "execution_count": 96,
   "metadata": {},
   "outputs": [],
   "source": [
    "def estimate_1():\n",
    "    a = np.ones(10) * 2 / 10\n",
    "\n",
    "    for _ in range(1000):\n",
    "        a = np.vectorize(_digammainv)(digamma(np.sum(a)) + np.log(samples).mean(axis=0))\n",
    "\n",
    "    return a"
   ]
  },
  {
   "cell_type": "code",
   "execution_count": 97,
   "metadata": {},
   "outputs": [
    {
     "data": {
      "text/plain": [
       "(array([0.73507947, 0.27042103, 2.114327  , 0.96745317, 0.89776739,\n",
       "        1.6200723 , 0.49090667, 0.76790149, 2.01957366, 0.13299391]),\n",
       " np.float64(10.016496092440258))"
      ]
     },
     "execution_count": 97,
     "metadata": {},
     "output_type": "execute_result"
    }
   ],
   "source": [
    "estimate_1(), sum(estimate_1())"
   ]
  },
  {
   "cell_type": "code",
   "execution_count": 98,
   "metadata": {},
   "outputs": [],
   "source": [
    "def estimate_2():\n",
    "    return np.vectorize(_digammainv)(digamma(np.sum(alpha)) + np.log(samples).mean(axis=0))"
   ]
  },
  {
   "cell_type": "code",
   "execution_count": 99,
   "metadata": {},
   "outputs": [
    {
     "data": {
      "text/plain": [
       "(array([0.73441918, 0.27030432, 2.11144897, 0.96645013, 0.89686983,\n",
       "        1.61802158, 0.49056646, 0.76719452, 2.01685537, 0.13296399]),\n",
       " np.float64(10.005094353467758))"
      ]
     },
     "execution_count": 99,
     "metadata": {},
     "output_type": "execute_result"
    }
   ],
   "source": [
    "estimate_2(), sum(estimate_2())"
   ]
  },
  {
   "cell_type": "code",
   "execution_count": 100,
   "metadata": {},
   "outputs": [
    {
     "data": {
      "text/plain": [
       "np.float64(0.0033345218651579245)"
      ]
     },
     "execution_count": 100,
     "metadata": {},
     "output_type": "execute_result"
    }
   ],
   "source": [
    "digamma(np.sum(alpha)) - digamma(alpha[0]) + np.log(samples).mean(axis=0)[0]"
   ]
  }
 ],
 "metadata": {
  "kernelspec": {
   "display_name": ".venv",
   "language": "python",
   "name": "python3"
  },
  "language_info": {
   "codemirror_mode": {
    "name": "ipython",
    "version": 3
   },
   "file_extension": ".py",
   "mimetype": "text/x-python",
   "name": "python",
   "nbconvert_exporter": "python",
   "pygments_lexer": "ipython3",
   "version": "3.11.9"
  }
 },
 "nbformat": 4,
 "nbformat_minor": 2
}
