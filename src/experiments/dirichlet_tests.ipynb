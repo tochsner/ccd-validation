{
 "cells": [
  {
   "cell_type": "code",
   "execution_count": 1,
   "metadata": {},
   "outputs": [],
   "source": [
    "import numpy as np\n",
    "from scipy.stats._continuous_distns import _digammainv\n",
    "from scipy.special import digamma"
   ]
  },
  {
   "cell_type": "code",
   "execution_count": 2,
   "metadata": {},
   "outputs": [
    {
     "data": {
      "text/plain": [
       "(array([2.38045158, 1.04081511, 0.9097523 , 0.34745999, 1.36958778,\n",
       "        0.97541793, 0.518269  , 0.17365085, 0.83038032, 1.45421514]),\n",
       " np.float64(9.999999999999998))"
      ]
     },
     "execution_count": 2,
     "metadata": {},
     "output_type": "execute_result"
    }
   ],
   "source": [
    "alpha = np.random.gamma(1, 1, 10)\n",
    "alpha /= 0.1 * alpha.sum()\n",
    "samples = np.random.dirichlet(alpha, 10000)\n",
    "alpha, sum(alpha)"
   ]
  },
  {
   "cell_type": "code",
   "execution_count": 5,
   "metadata": {},
   "outputs": [],
   "source": [
    "def estimate_1():\n",
    "    a = np.ones(10) * 2 / 10\n",
    "\n",
    "    for _ in range(1000):\n",
    "        a = np.vectorize(_digammainv)(digamma(np.sum(a)) + np.log(samples).mean(axis=0))\n",
    "\n",
    "    return a"
   ]
  },
  {
   "cell_type": "code",
   "execution_count": 6,
   "metadata": {},
   "outputs": [
    {
     "data": {
      "text/plain": [
       "(array([2.39895852, 1.03643842, 0.90333521, 0.34805184, 1.36076576,\n",
       "        0.97726007, 0.52806048, 0.1748804 , 0.84080839, 1.46198064]),\n",
       " np.float64(10.030539733011096))"
      ]
     },
     "execution_count": 6,
     "metadata": {},
     "output_type": "execute_result"
    }
   ],
   "source": [
    "estimate_1(), sum(estimate_1())"
   ]
  },
  {
   "cell_type": "code",
   "execution_count": 98,
   "metadata": {},
   "outputs": [],
   "source": [
    "def estimate_2():\n",
    "    return np.vectorize(_digammainv)(digamma(np.sum(alpha)) + np.log(samples).mean(axis=0))"
   ]
  },
  {
   "cell_type": "code",
   "execution_count": 99,
   "metadata": {},
   "outputs": [
    {
     "data": {
      "text/plain": [
       "(array([0.73441918, 0.27030432, 2.11144897, 0.96645013, 0.89686983,\n",
       "        1.61802158, 0.49056646, 0.76719452, 2.01685537, 0.13296399]),\n",
       " np.float64(10.005094353467758))"
      ]
     },
     "execution_count": 99,
     "metadata": {},
     "output_type": "execute_result"
    }
   ],
   "source": [
    "estimate_2(), sum(estimate_2())"
   ]
  },
  {
   "cell_type": "code",
   "execution_count": 100,
   "metadata": {},
   "outputs": [
    {
     "data": {
      "text/plain": [
       "np.float64(0.0033345218651579245)"
      ]
     },
     "execution_count": 100,
     "metadata": {},
     "output_type": "execute_result"
    }
   ],
   "source": [
    "digamma(np.sum(alpha)) - digamma(alpha[0]) + np.log(samples).mean(axis=0)[0]"
   ]
  }
 ],
 "metadata": {
  "kernelspec": {
   "display_name": ".venv",
   "language": "python",
   "name": "python3"
  },
  "language_info": {
   "codemirror_mode": {
    "name": "ipython",
    "version": 3
   },
   "file_extension": ".py",
   "mimetype": "text/x-python",
   "name": "python",
   "nbconvert_exporter": "python",
   "pygments_lexer": "ipython3",
   "version": "3.11.9"
  }
 },
 "nbformat": 4,
 "nbformat_minor": 2
}
