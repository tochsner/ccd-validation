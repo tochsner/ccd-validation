{
 "cells": [
  {
   "cell_type": "code",
   "execution_count": 200,
   "metadata": {},
   "outputs": [],
   "source": [
    "import numpy as np\n",
    "import seaborn as sns"
   ]
  },
  {
   "cell_type": "code",
   "execution_count": 201,
   "metadata": {},
   "outputs": [],
   "source": [
    "def get_matrix(h, f):\n",
    "    return np.array(\n",
    "        [\n",
    "            [1.0, np.exp(-2*h*f), np.exp(-2*h)],\n",
    "            [np.exp(-2*h*f), 1.0, np.exp(-2*h)],\n",
    "            [np.exp(-2*h), np.exp(-2*h), 1.0],\n",
    "        ]\n",
    "    )"
   ]
  },
  {
   "cell_type": "code",
   "execution_count": 202,
   "metadata": {},
   "outputs": [],
   "source": [
    "def get_distance(m_1, m_2):\n",
    "    eigenvalues = np.linalg.eigvals(m_1.dot(np.linalg.inv(m_2))) \n",
    "    return np.sqrt(0.5*np.sum(np.square(np.log(eigenvalues))))"
   ]
  },
  {
   "cell_type": "code",
   "execution_count": 203,
   "metadata": {},
   "outputs": [],
   "source": [
    "from geomstats.geometry.stratified.wald_space import (\n",
    "    Wald,\n",
    "    WaldSpace,\n",
    "    WaldSpaceMetric,\n",
    "    ForestTopology,\n",
    "    Split,\n",
    "    LocalProjectionSolver,\n",
    "    SuccessiveProjectionGeodesicSolver,\n",
    ")\n",
    "from geomstats.learning.frechet_mean import FrechetMean\n",
    "from functools import partial"
   ]
  },
  {
   "cell_type": "code",
   "execution_count": 204,
   "metadata": {},
   "outputs": [],
   "source": [
    "space = WaldSpace(n_labels=3)\n",
    "space.equip_with_metric(\n",
    "    partial(\n",
    "        WaldSpaceMetric,\n",
    "        projection_solver=LocalProjectionSolver(space, 1e-16),\n",
    "        geodesic_solver=SuccessiveProjectionGeodesicSolver(space, 100),\n",
    "    )\n",
    ")"
   ]
  },
  {
   "cell_type": "code",
   "execution_count": 205,
   "metadata": {},
   "outputs": [
    {
     "data": {
      "text/plain": [
       "np.complex128(2.3263298142106365e-16+0j)"
      ]
     },
     "execution_count": 205,
     "metadata": {},
     "output_type": "execute_result"
    }
   ],
   "source": [
    "get_distance(get_matrix(1.0, 0.5), get_matrix(1.0, 0.5))"
   ]
  },
  {
   "cell_type": "code",
   "execution_count": 206,
   "metadata": {},
   "outputs": [],
   "source": [
    "def get_wald_point(h, f):\n",
    "    return  Wald(\n",
    "        ForestTopology(((0, 1, 2),), ((Split({0}, {1, 2}), Split({0, 1}, {2}), Split({0, 2}, {1})),)),\n",
    "        np.array([1 - np.exp(-2*h*f), 1 - np.exp(-2*h), 1 - np.exp(-2*h*f)]),\n",
    "    )"
   ]
  },
  {
   "cell_type": "code",
   "execution_count": 207,
   "metadata": {},
   "outputs": [],
   "source": [
    "def get_wald_distance(p1, p2):\n",
    "    return space.metric.dist(p1, p2)"
   ]
  },
  {
   "cell_type": "code",
   "execution_count": 208,
   "metadata": {},
   "outputs": [
    {
     "data": {
      "text/plain": [
       "np.float64(0.0026804174097184497)"
      ]
     },
     "execution_count": 208,
     "metadata": {},
     "output_type": "execute_result"
    }
   ],
   "source": [
    "get_wald_distance(get_wald_point(2.0, 0.8), get_wald_point(3.0, 0.8))"
   ]
  },
  {
   "cell_type": "code",
   "execution_count": 210,
   "metadata": {},
   "outputs": [
    {
     "name": "stderr",
     "output_type": "stream",
     "text": [
      "WARNING: ABNORMAL_TERMINATION_IN_LNSRCH\n",
      "WARNING: ABNORMAL_TERMINATION_IN_LNSRCH\n",
      "WARNING: ABNORMAL_TERMINATION_IN_LNSRCH\n",
      "WARNING: ABNORMAL_TERMINATION_IN_LNSRCH\n",
      "WARNING: ABNORMAL_TERMINATION_IN_LNSRCH\n",
      "WARNING: ABNORMAL_TERMINATION_IN_LNSRCH\n",
      "WARNING: ABNORMAL_TERMINATION_IN_LNSRCH\n",
      "WARNING: ABNORMAL_TERMINATION_IN_LNSRCH\n",
      "WARNING: ABNORMAL_TERMINATION_IN_LNSRCH\n",
      "WARNING: ABNORMAL_TERMINATION_IN_LNSRCH\n",
      "WARNING: ABNORMAL_TERMINATION_IN_LNSRCH\n",
      "WARNING: ABNORMAL_TERMINATION_IN_LNSRCH\n",
      "WARNING: ABNORMAL_TERMINATION_IN_LNSRCH\n",
      "WARNING: ABNORMAL_TERMINATION_IN_LNSRCH\n",
      "WARNING: ABNORMAL_TERMINATION_IN_LNSRCH\n",
      "WARNING: ABNORMAL_TERMINATION_IN_LNSRCH\n",
      "WARNING: ABNORMAL_TERMINATION_IN_LNSRCH\n",
      "WARNING: ABNORMAL_TERMINATION_IN_LNSRCH\n",
      "WARNING: ABNORMAL_TERMINATION_IN_LNSRCH\n",
      "WARNING: ABNORMAL_TERMINATION_IN_LNSRCH\n",
      "WARNING: ABNORMAL_TERMINATION_IN_LNSRCH\n",
      "WARNING: ABNORMAL_TERMINATION_IN_LNSRCH\n",
      "WARNING: ABNORMAL_TERMINATION_IN_LNSRCH\n",
      "WARNING: ABNORMAL_TERMINATION_IN_LNSRCH\n",
      "WARNING: ABNORMAL_TERMINATION_IN_LNSRCH\n",
      "WARNING: ABNORMAL_TERMINATION_IN_LNSRCH\n"
     ]
    },
    {
     "data": {
      "text/plain": [
       "<Axes: >"
      ]
     },
     "execution_count": 210,
     "metadata": {},
     "output_type": "execute_result"
    },
    {
     "data": {
      "image/png": "[encoded data removed]",
      "text/plain": [
       "<Figure size 640x480 with 1 Axes>"
      ]
     },
     "metadata": {},
     "output_type": "display_data"
    }
   ],
   "source": [
    "fractions = np.linspace(0.1, 0.9, 100)\n",
    "distances = []\n",
    "for f in fractions:\n",
    "    try:\n",
    "        distances.append(get_wald_distance(get_wald_point(1.0, f), get_wald_point(1.0, 0.1)))\n",
    "    except:\n",
    "        distances.append(0)\n",
    "\n",
    "sns.scatterplot(x=fractions, y=distances)\n",
    "\n",
    "\n",
    "fractions = np.linspace(0.1, 0.9, 100)\n",
    "distances = [get_distance(get_matrix(1.0, f), get_matrix(1.0, 0.1)) for f in fractions]\n",
    "sns.scatterplot(x=fractions, y=distances)"
   ]
  },
  {
   "cell_type": "code",
   "execution_count": null,
   "metadata": {},
   "outputs": [],
   "source": []
  }
 ],
 "metadata": {
  "kernelspec": {
   "display_name": ".venv",
   "language": "python",
   "name": "python3"
  },
  "language_info": {
   "codemirror_mode": {
    "name": "ipython",
    "version": 3
   },
   "file_extension": ".py",
   "mimetype": "text/x-python",
   "name": "python",
   "nbconvert_exporter": "python",
   "pygments_lexer": "ipython3",
   "version": "3.11.9"
  }
 },
 "nbformat": 4,
 "nbformat_minor": 2
}
