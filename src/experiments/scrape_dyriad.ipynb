{
 "cells": [
  {
   "cell_type": "code",
   "execution_count": 65,
   "metadata": {},
   "outputs": [],
   "source": [
    "from bs4 import BeautifulSoup\n",
    "import requests\n",
    "from tqdm import tqdm\n",
    "from time import sleep\n",
    "import pandas as pd"
   ]
  },
  {
   "cell_type": "code",
   "execution_count": 9,
   "metadata": {},
   "outputs": [],
   "source": [
    "search_results = requests.get(\"https://datadryad.org/search?f%5Bdryad_dataset_file_ext_sm%5D%5B%5D=trees&per_page=200\")\n",
    "soup = BeautifulSoup(search_results.text, \"html.parser\")"
   ]
  },
  {
   "cell_type": "code",
   "execution_count": 12,
   "metadata": {},
   "outputs": [
    {
     "data": {
      "text/plain": [
       "100"
      ]
     },
     "execution_count": 12,
     "metadata": {},
     "output_type": "execute_result"
    }
   ],
   "source": [
    "h3_tags = soup.find_all(\"h3\")\n",
    "\n",
    "dataset_links = []\n",
    "\n",
    "for h3 in h3_tags:\n",
    "    a_tags = h3.find_all(\"a\")\n",
    "    for a in a_tags:\n",
    "        href = a.get(\"href\")\n",
    "        if href:\n",
    "            dataset_links.append(href)\n",
    "\n",
    "len(dataset_links)"
   ]
  },
  {
   "cell_type": "code",
   "execution_count": 86,
   "metadata": {},
   "outputs": [
    {
     "name": "stderr",
     "output_type": "stream",
     "text": [
      "  0%|          | 0/100 [00:00<?, ?it/s]"
     ]
    }
   ],
   "source": [
    "df_dict = {\n",
    "    \"dyriad_link\": [],\n",
    "    \"dataset_name\": [],\n",
    "    \"trees_link\": [],\n",
    "    \"trees_name\": [],\n",
    "    \"trees_size\": [],\n",
    "    \"doi\": [],\n",
    "}\n",
    "dataset_link = dataset_links[0]\n",
    "\n",
    "for dataset_link in tqdm(dataset_links):\n",
    "    response = requests.get(f\"https://datadryad.org{dataset_link}\")\n",
    "    soup = BeautifulSoup(response.text, \"html.parser\")\n",
    "    \n",
    "    title = soup.find(\"h1\").text.strip()\n",
    "\n",
    "    all_links = soup.find_all(\"a\")\n",
    "    tree_links = [link for link in all_links if \".trees\" in (link.get(\"title\") or \"\")]\n",
    "\n",
    "    doi = [span for span in soup.find_all(\"span\") if \"o-metadata__group2-item\" in (span.get(\"class\") or \"\") and \"doi.org\" in (span.text or \"\")][0].text.strip()\n",
    "\n",
    "    for tree_link in tree_links:\n",
    "        df_dict[\"dyriad_link\"].append(dataset_link)\n",
    "        df_dict[\"dataset_name\"].append(title)\n",
    "        df_dict[\"trees_link\"].append(tree_link.get(\"href\"))\n",
    "        df_dict[\"trees_name\"].append(tree_link.get(\"title\"))\n",
    "        try:\n",
    "            df_dict[\"trees_size\"].append(\n",
    "                tree_link.find_parent(\"span\").find_next_sibling(\"div\").find(\"input\").get(\"data-size\")\n",
    "            )\n",
    "        except:\n",
    "            df_dict[\"trees_size\"].append(None)\n",
    "        df_dict[\"doi\"].append(doi)\n",
    "\n",
    "    sleep(1)        "
   ]
  },
  {
   "cell_type": "code",
   "execution_count": 85,
   "metadata": {},
   "outputs": [],
   "source": [
    "df = pd.DataFrame(df_dict)\n",
    "df.to_csv(\"data/scraped_dryad.csv\", index=False, sep=\";\")"
   ]
  },
  {
   "cell_type": "code",
   "execution_count": null,
   "metadata": {},
   "outputs": [],
   "source": []
  }
 ],
 "metadata": {
  "kernelspec": {
   "display_name": ".venv",
   "language": "python",
   "name": "python3"
  },
  "language_info": {
   "codemirror_mode": {
    "name": "ipython",
    "version": 3
   },
   "file_extension": ".py",
   "mimetype": "text/x-python",
   "name": "python",
   "nbconvert_exporter": "python",
   "pygments_lexer": "ipython3",
   "version": "3.11.9"
  }
 },
 "nbformat": 4,
 "nbformat_minor": 2
}
