{
 "cells": [
  {
   "cell_type": "code",
   "execution_count": 1,
   "metadata": {},
   "outputs": [],
   "source": [
    "from src.datasets.load_trees import load_trees_from_file\n",
    "from pathlib import Path\n",
    "from Bio.Phylo.BaseTree import Clade\n",
    "import networkx as nx\n",
    "from tqdm import tqdm\n",
    "import numpy as np"
   ]
  },
  {
   "cell_type": "code",
   "execution_count": 2,
   "metadata": {},
   "outputs": [],
   "source": [
    "TREE_FILE = Path(\"data/mcmc_runs/yule-10_2.trees\")\n",
    "NUM_TAXA = 10"
   ]
  },
  {
   "cell_type": "code",
   "execution_count": 3,
   "metadata": {},
   "outputs": [],
   "source": [
    "trees = load_trees_from_file(TREE_FILE)"
   ]
  },
  {
   "cell_type": "code",
   "execution_count": 4,
   "metadata": {},
   "outputs": [],
   "source": [
    "def is_leaf(name: str) -> bool:\n",
    "    return type(name) == int"
   ]
  },
  {
   "cell_type": "code",
   "execution_count": 5,
   "metadata": {},
   "outputs": [
    {
     "name": "stderr",
     "output_type": "stream",
     "text": [
      "100%|██████████| 50001/50001 [00:01<00:00, 44851.39it/s]\n"
     ]
    }
   ],
   "source": [
    "tree_graphs: list[nx.Graph] = []\n",
    "\n",
    "def construct_tree_graph(graph: nx.Graph, vertex: Clade, is_root: bool, running_internal_node_id: list[int]) -> str | int :\n",
    "    vertex_name = None\n",
    "    \n",
    "    if vertex.is_terminal():\n",
    "        assert vertex.name\n",
    "        vertex_name = int(vertex.name)\n",
    "    elif is_root:\n",
    "        vertex_name = \"root\"\n",
    "    else:\n",
    "        vertex_name = f\"internal_{running_internal_node_id[0]}\"\n",
    "\n",
    "    for child in vertex.clades:\n",
    "        running_internal_node_id[0] += 1\n",
    "        child_name = construct_tree_graph(graph, child, False,running_internal_node_id)\n",
    "        graph.add_edge(vertex_name, child_name)\n",
    "\n",
    "    return vertex_name\n",
    "\n",
    "for tree in tqdm(trees):\n",
    "    graph = nx.Graph()\n",
    "    running_internal_node_id = [0]\n",
    "    construct_tree_graph(graph, tree.root, True, running_internal_node_id)\n",
    "    tree_graphs.append(graph)"
   ]
  },
  {
   "cell_type": "code",
   "execution_count": 6,
   "metadata": {},
   "outputs": [
    {
     "name": "stderr",
     "output_type": "stream",
     "text": [
      "100%|██████████| 50001/50001 [00:17<00:00, 2912.74it/s]\n"
     ]
    }
   ],
   "source": [
    "pairwise_scores = np.zeros((NUM_TAXA, NUM_TAXA))\n",
    "\n",
    "for tree_graph in tqdm(tree_graphs):\n",
    "    for leaf1 in list(tree_graph.nodes):\n",
    "        if not is_leaf(leaf1):\n",
    "            continue\n",
    "\n",
    "        for leaf2 in list(tree_graph.nodes):\n",
    "            if not is_leaf(leaf2) or leaf1 == leaf2:\n",
    "                continue\n",
    "            \n",
    "            num_internal_nodes = nx.shortest_path_length(tree_graph, leaf1, leaf2) - 1\n",
    "            score = 2 ** (-num_internal_nodes - 1)\n",
    "            pairwise_scores[leaf1, leaf2] += score\n",
    "            pairwise_scores[leaf2, leaf1] += score\n",
    "\n",
    "pairwise_scores /= len(tree_graphs)"
   ]
  },
  {
   "cell_type": "code",
   "execution_count": 7,
   "metadata": {},
   "outputs": [],
   "source": [
    "score_graph = nx.Graph()\n",
    "\n",
    "for i in range(pairwise_scores.shape[0]):\n",
    "    for j in range(pairwise_scores.shape[1]):\n",
    "        if i < j:\n",
    "            score_graph.add_edge(i, j, weight=pairwise_scores[i, j])"
   ]
  },
  {
   "cell_type": "code",
   "execution_count": 181,
   "metadata": {},
   "outputs": [],
   "source": [
    "# prune score graph\n",
    "\n",
    "# sorted_edges = sorted(\n",
    "#     list(score_graph.edges),\n",
    "#     key=lambda x: score_graph.get_edge_data(*x)[\"weight\"],\n",
    "# )\n",
    "\n",
    "# print(f\"Num edges before pruning: {len(score_graph.edges)}\")\n",
    "\n",
    "# last_removed_edge = None\n",
    "# while nx.is_connected(score_graph):\n",
    "#     last_removed_edge = sorted_edges.pop()\n",
    "#     score_graph.remove_edge(*last_removed_edge)\n",
    "\n",
    "# score_graph.add_edge(*last_removed_edge, weight=pairwise_scores[*last_removed_edge])\n",
    "\n",
    "# print(f\"Num edges after pruning: {len(score_graph.edges)}\")"
   ]
  },
  {
   "cell_type": "code",
   "execution_count": 182,
   "metadata": {},
   "outputs": [],
   "source": [
    "def ranking_score(ranking: list[int]) -> float:\n",
    "    score = 0\n",
    "    for u, v in zip(ranking, ranking[1:]):\n",
    "        score += np.log(pairwise_scores[u, v])\n",
    "    return score"
   ]
  },
  {
   "cell_type": "code",
   "execution_count": 183,
   "metadata": {},
   "outputs": [
    {
     "name": "stderr",
     "output_type": "stream",
     "text": [
      "100%|██████████| 10/10 [00:03<00:00,  2.64it/s]\n"
     ]
    }
   ],
   "source": [
    "all_hamiltonian_paths = []\n",
    "\n",
    "for i in tqdm(list(range(NUM_TAXA))):\n",
    "    for j in range(j, NUM_TAXA):\n",
    "        all_hamiltonian_paths += [\n",
    "            path for path in nx.simple_paths.all_simple_paths(score_graph, i, j)\n",
    "            if len(path) == NUM_TAXA\n",
    "        ]"
   ]
  },
  {
   "cell_type": "code",
   "execution_count": 184,
   "metadata": {},
   "outputs": [],
   "source": [
    "max_hamiltonian_path = max(\n",
    "    all_hamiltonian_paths,\n",
    "    key=ranking_score\n",
    ")"
   ]
  },
  {
   "cell_type": "code",
   "execution_count": 185,
   "metadata": {},
   "outputs": [
    {
     "data": {
      "text/plain": [
       "[1, 3, 2, 5, 8, 0, 6, 7, 4, 9]"
      ]
     },
     "execution_count": 185,
     "metadata": {},
     "output_type": "execute_result"
    }
   ],
   "source": [
    "max_hamiltonian_path"
   ]
  },
  {
   "cell_type": "code",
   "execution_count": 186,
   "metadata": {},
   "outputs": [],
   "source": [
    "def is_subranking_compatible(sub_ranking: list[int], ranking: list[int]) -> bool:\n",
    "    for i, _ in enumerate(ranking):\n",
    "        compatible = True\n",
    "        for j, _ in enumerate(sub_ranking):\n",
    "            if ranking[(i + j) % len(ranking)] != sub_ranking[j]:\n",
    "                compatible = False\n",
    "                break\n",
    "        if compatible:\n",
    "            return True\n",
    "    return False"
   ]
  },
  {
   "cell_type": "code",
   "execution_count": 187,
   "metadata": {},
   "outputs": [],
   "source": [
    "def is_compatible(ranking, node):\n",
    "    if node.is_terminal():\n",
    "        return [[int(node.name)]]\n",
    "    \n",
    "    child_1 = node.clades[0]\n",
    "    child_2 = node.clades[1]\n",
    "\n",
    "    compatible_subrankings_1 = is_compatible(ranking, child_1)\n",
    "    compatible_subrankings_2 = is_compatible(ranking, child_2)\n",
    "\n",
    "    compatible_rankings = []\n",
    "\n",
    "    for sub_ranking_1 in compatible_subrankings_1:\n",
    "        for sub_ranking_2 in compatible_subrankings_2:\n",
    "            if is_subranking_compatible(sub_ranking_1 + sub_ranking_2, ranking):\n",
    "                compatible_rankings.append(sub_ranking_1 + sub_ranking_2)\n",
    "            \n",
    "            if is_subranking_compatible(sub_ranking_2 + sub_ranking_1, ranking):\n",
    "                compatible_rankings.append(sub_ranking_2 + sub_ranking_1)\n",
    "\n",
    "            if is_subranking_compatible(sub_ranking_1[::-1] + sub_ranking_2, ranking):\n",
    "                compatible_rankings.append(sub_ranking_1[::-1] + sub_ranking_2)\n",
    "            \n",
    "            if is_subranking_compatible(sub_ranking_2 + sub_ranking_1[::-1], ranking):\n",
    "                compatible_rankings.append(sub_ranking_2 + sub_ranking_1[::-1])\n",
    "\n",
    "            if is_subranking_compatible(sub_ranking_1 + sub_ranking_2[::-1], ranking):\n",
    "                compatible_rankings.append(sub_ranking_1 + sub_ranking_2[::-1])\n",
    "            \n",
    "            if is_subranking_compatible(sub_ranking_2[::-1] + sub_ranking_1, ranking):\n",
    "                compatible_rankings.append(sub_ranking_2[::-1] + sub_ranking_1)\n",
    "\n",
    "            if is_subranking_compatible(sub_ranking_1[::-1] + sub_ranking_2[::-1], ranking):\n",
    "                compatible_rankings.append(sub_ranking_1[::-1] + sub_ranking_2[::-1])\n",
    "            \n",
    "            if is_subranking_compatible(sub_ranking_2[::-1] + sub_ranking_1[::-1], ranking):\n",
    "                compatible_rankings.append(sub_ranking_2[::-1] + sub_ranking_1[::-1])\n",
    "\n",
    "    return compatible_rankings"
   ]
  },
  {
   "cell_type": "code",
   "execution_count": 188,
   "metadata": {},
   "outputs": [
    {
     "data": {
      "text/plain": [
       "9"
      ]
     },
     "execution_count": 188,
     "metadata": {},
     "output_type": "execute_result"
    }
   ],
   "source": [
    "abs(0 - 9) % 10"
   ]
  },
  {
   "cell_type": "code",
   "execution_count": 189,
   "metadata": {},
   "outputs": [
    {
     "data": {
      "text/plain": [
       "0.757"
      ]
     },
     "execution_count": 189,
     "metadata": {},
     "output_type": "execute_result"
    }
   ],
   "source": [
    "num_compatible_trees = 0\n",
    "\n",
    "for i in range(1000):\n",
    "    if is_compatible(max_hamiltonian_path, trees[i].root):\n",
    "        num_compatible_trees += 1\n",
    "\n",
    "num_compatible_trees / 1000"
   ]
  }
 ],
 "metadata": {
  "kernelspec": {
   "display_name": ".venv",
   "language": "python",
   "name": "python3"
  },
  "language_info": {
   "codemirror_mode": {
    "name": "ipython",
    "version": 3
   },
   "file_extension": ".py",
   "mimetype": "text/x-python",
   "name": "python",
   "nbconvert_exporter": "python",
   "pygments_lexer": "ipython3",
   "version": "3.11.9"
  }
 },
 "nbformat": 4,
 "nbformat_minor": 2
}
