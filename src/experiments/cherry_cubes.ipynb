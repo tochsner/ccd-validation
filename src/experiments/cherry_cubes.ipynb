{
 "cells": [
  {
   "cell_type": "code",
   "execution_count": 5,
   "metadata": {},
   "outputs": [],
   "source": [
    "from src.datasets.load_trees import load_trees_from_file\n",
    "from pathlib import Path\n",
    "from collections import defaultdict\n",
    "from Bio.Phylo.BaseTree import Clade, Tree\n",
    "import networkx as nx\n",
    "from tqdm import tqdm\n",
    "import numpy as np"
   ]
  },
  {
   "cell_type": "code",
   "execution_count": 65,
   "metadata": {},
   "outputs": [],
   "source": [
    "TREE_FILE = Path(\"data/mcmc_runs/yule-10_2.trees\")\n",
    "NUM_TAXA = 10"
   ]
  },
  {
   "cell_type": "code",
   "execution_count": 66,
   "metadata": {},
   "outputs": [],
   "source": [
    "trees = load_trees_from_file(TREE_FILE)"
   ]
  },
  {
   "cell_type": "code",
   "execution_count": 68,
   "metadata": {},
   "outputs": [],
   "source": [
    "cherries = defaultdict(int)\n",
    "\n",
    "def collect_cherries(node: Clade):\n",
    "    if node.clades[0].is_terminal() and node.clades[1].is_terminal():\n",
    "        cherries[(node.clades[0].name, node.clades[1].name)] += 1\n",
    "\n",
    "    if not node.clades[0].is_terminal(): \n",
    "        collect_cherries(node.clades[0])\n",
    "\n",
    "    if not node.clades[1].is_terminal(): \n",
    "        collect_cherries(node.clades[1])\n",
    "\n",
    "for tree in trees:\n",
    "    collect_cherries(tree.root)"
   ]
  },
  {
   "cell_type": "code",
   "execution_count": 69,
   "metadata": {},
   "outputs": [
    {
     "data": {
      "text/plain": [
       "defaultdict(int,\n",
       "            {('0', '6'): 50001,\n",
       "             ('4', '9'): 48397,\n",
       "             ('1', '3'): 49988,\n",
       "             ('2', '5'): 50000,\n",
       "             ('4', '7'): 528,\n",
       "             ('7', '9'): 878})"
      ]
     },
     "execution_count": 69,
     "metadata": {},
     "output_type": "execute_result"
    }
   ],
   "source": [
    "cherries"
   ]
  },
  {
   "cell_type": "code",
   "execution_count": 60,
   "metadata": {},
   "outputs": [
    {
     "data": {
      "text/plain": [
       "defaultdict(int,\n",
       "            {('0', '7'): 49989,\n",
       "             ('4', '8'): 12763,\n",
       "             ('5', '9'): 50001,\n",
       "             ('1', '6'): 50001,\n",
       "             ('0', '2'): 4,\n",
       "             ('2', '7'): 8})"
      ]
     },
     "execution_count": 60,
     "metadata": {},
     "output_type": "execute_result"
    }
   ],
   "source": [
    "cherries"
   ]
  },
  {
   "cell_type": "code",
   "execution_count": 199,
   "metadata": {},
   "outputs": [],
   "source": [
    "parts = []\n",
    "\n",
    "for component in components:\n",
    "    longest_path = max(\n",
    "        (\n",
    "            path\n",
    "            for source in component\n",
    "            for target in component\n",
    "            for path in nx.all_simple_paths(G, source, target)\n",
    "        ),\n",
    "        key=lambda x: sum(G.get_edge_data(*edge)[\"w\"] for edge in zip(x, x[1:])),\n",
    "        default=[],\n",
    "    )\n",
    "    parts.append(longest_path)\n",
    "\n",
    "for node in range(10):\n",
    "    node = str(node)\n",
    "    \n",
    "    if node not in G.nodes():\n",
    "        parts.append([node])"
   ]
  },
  {
   "cell_type": "code",
   "execution_count": 200,
   "metadata": {},
   "outputs": [
    {
     "data": {
      "text/plain": [
       "[['0', '7', '2'], ['4', '8'], ['9', '5'], ['6', '1'], ['3']]"
      ]
     },
     "execution_count": 200,
     "metadata": {},
     "output_type": "execute_result"
    }
   ],
   "source": [
    "def score_ranking(ranking: list[int], terminals: list[Clade]) -> float:\n",
    "    total_score = 0\n",
    "\n",
    "    for a, b in zip(ranking, ranking[1:]):\n",
    "        score += G.get_path()"
   ]
  },
  {
   "cell_type": "code",
   "execution_count": 201,
   "metadata": {},
   "outputs": [],
   "source": [
    "from random import shuffle\n",
    "\n",
    "shuffle(parts)\n",
    "\n",
    "ranking = sum(parts, [])"
   ]
  },
  {
   "cell_type": "code",
   "execution_count": 202,
   "metadata": {},
   "outputs": [
    {
     "data": {
      "text/plain": [
       "['6', '1', '3', '4', '8', '0', '7', '2', '9', '5']"
      ]
     },
     "execution_count": 202,
     "metadata": {},
     "output_type": "execute_result"
    }
   ],
   "source": [
    "ranking"
   ]
  },
  {
   "cell_type": "code",
   "execution_count": 203,
   "metadata": {},
   "outputs": [],
   "source": [
    "tree = trees[0]"
   ]
  },
  {
   "cell_type": "code",
   "execution_count": 204,
   "metadata": {},
   "outputs": [
    {
     "data": {
      "text/plain": [
       "Tree(name='STATE_0', rooted=False, weight=1.0)"
      ]
     },
     "execution_count": 204,
     "metadata": {},
     "output_type": "execute_result"
    }
   ],
   "source": [
    "tree"
   ]
  },
  {
   "cell_type": "code",
   "execution_count": 205,
   "metadata": {},
   "outputs": [],
   "source": [
    "def is_compatible(node_to_rank, node):\n",
    "    if node.is_terminal():\n",
    "        return {(node.name, node.name)}\n",
    "    \n",
    "    child_1 = node.clades[0]\n",
    "    child_2 = node.clades[1]\n",
    "\n",
    "    compatible_border_1 = is_compatible(node_to_rank, child_1)\n",
    "    compatible_border_2 = is_compatible(node_to_rank, child_2)\n",
    "\n",
    "    compatible_borders = set()\n",
    "\n",
    "    for border_1_1, border_1_2 in compatible_border_1:\n",
    "        rank_1_1 = node_to_rank[border_1_1]\n",
    "        rank_1_2 = node_to_rank[border_1_2]\n",
    "\n",
    "        for border_2_1, border_2_2 in compatible_border_2:\n",
    "            rank_2_1 = node_to_rank[border_2_1]\n",
    "            rank_2_2 = node_to_rank[border_2_2]\n",
    "\n",
    "            if abs(rank_1_1 - rank_2_1) % 9 == 1:\n",
    "                compatible_borders.add((border_1_2, border_2_2))\n",
    "\n",
    "            if abs(rank_1_1 - rank_2_2) % 9 == 1:\n",
    "                compatible_borders.add((border_1_2, border_2_1))\n",
    "\n",
    "            if abs(rank_1_2 - rank_2_1) % 9 == 1:\n",
    "                compatible_borders.add((border_1_1, border_2_2))\n",
    "\n",
    "            if abs(rank_1_2 - rank_2_2) % 9 == 1:\n",
    "                compatible_borders.add((border_1_1, border_2_1))\n",
    "    \n",
    "    return compatible_borders"
   ]
  },
  {
   "cell_type": "code",
   "execution_count": 206,
   "metadata": {},
   "outputs": [],
   "source": [
    "for i in range(len(trees)):\n",
    "    if is_compatible({r: i for i, r in enumerate(ranking)}, trees[i].root) == {}:\n",
    "        print(\"HURRAY\")"
   ]
  },
  {
   "cell_type": "code",
   "execution_count": 207,
   "metadata": {},
   "outputs": [
    {
     "data": {
      "text/plain": [
       "[Clade(branch_length=0.0018137667043779978, name='0'),\n",
       " Clade(branch_length=0.0018137667043779978, name='7'),\n",
       " Clade(branch_length=0.007344551860021729, name='2'),\n",
       " Clade(branch_length=0.03919349863276149, name='3'),\n",
       " Clade(branch_length=0.024114672292863383, name='4'),\n",
       " Clade(branch_length=0.024114672292863383, name='8'),\n",
       " Clade(branch_length=0.012416811531248986, name='5'),\n",
       " Clade(branch_length=0.012416811531248986, name='9'),\n",
       " Clade(branch_length=0.03704886004558185, name='1'),\n",
       " Clade(branch_length=0.03704886004558185, name='6')]"
      ]
     },
     "execution_count": 207,
     "metadata": {},
     "output_type": "execute_result"
    }
   ],
   "source": [
    "trees[0].get_terminals(order=\"postorder\")"
   ]
  },
  {
   "cell_type": "code",
   "execution_count": 210,
   "metadata": {},
   "outputs": [
    {
     "data": {
      "text/plain": [
       "{('0', '6')}"
      ]
     },
     "execution_count": 210,
     "metadata": {},
     "output_type": "execute_result"
    }
   ],
   "source": [
    "is_compatible(\n",
    "    {\n",
    "        \"0\": 9,\n",
    "        \"7\": 8,\n",
    "        \"2\": 7,\n",
    "        \"3\": 6,\n",
    "        \"4\": 5,\n",
    "        \"8\": 4,\n",
    "        \"5\": 3,\n",
    "        \"9\": 2,\n",
    "        \"1\": 1,\n",
    "        \"6\": 0,\n",
    "    },\n",
    "    trees[0].root,\n",
    ")"
   ]
  },
  {
   "cell_type": "code",
   "execution_count": null,
   "metadata": {},
   "outputs": [],
   "source": []
  }
 ],
 "metadata": {
  "kernelspec": {
   "display_name": ".venv",
   "language": "python",
   "name": "python3"
  },
  "language_info": {
   "codemirror_mode": {
    "name": "ipython",
    "version": 3
   },
   "file_extension": ".py",
   "mimetype": "text/x-python",
   "name": "python",
   "nbconvert_exporter": "python",
   "pygments_lexer": "ipython3",
   "version": "3.11.9"
  }
 },
 "nbformat": 4,
 "nbformat_minor": 2
}
