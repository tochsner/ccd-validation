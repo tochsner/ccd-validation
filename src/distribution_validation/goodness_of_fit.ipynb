{
 "cells": [
  {
   "cell_type": "code",
   "execution_count": 90,
   "metadata": {},
   "outputs": [],
   "source": [
    "import seaborn as sns\n",
    "import matplotlib.pyplot as plt\n",
    "from pathlib import Path\n",
    "import numpy as np\n",
    "import pandas as pd\n",
    "from Bio.Phylo._io import parse\n",
    "from Bio.Phylo.BaseTree import Tree as BioTree\n",
    "\n",
    "from src.datasets.load_trees import load_trees_from_file\n",
    "from src.utils.tree_utils import get_taxa_names\n",
    "from src.utils.tree_utils import get_tree_height\n",
    "from src.distribution_analysis.process_tree import get_observed_nodes, get_clade_split_df\n",
    "\n",
    "from scipy.stats import ks_2samp\n",
    "\n",
    "from collections import Counter"
   ]
  },
  {
   "cell_type": "code",
   "execution_count": 91,
   "metadata": {},
   "outputs": [],
   "source": [
    "\n",
    "import warnings\n",
    "warnings.filterwarnings('ignore')\n",
    "sns.set_style(\"whitegrid\")"
   ]
  },
  {
   "cell_type": "code",
   "execution_count": 92,
   "metadata": {},
   "outputs": [],
   "source": [
    "REFERENCE_TREE_FILE = Path(\"data/beast/yule-10-0.trees\")\n",
    "SAMPLE_TREES_FILE_1 = Path(\"data/validation/yule-10-0_sampled-trees_mu-sigma-local-beta-old-old.trees\")\n",
    "SAMPLE_TREES_FILE_2 = Path(\"data/validation/yule-10-0_sampled-trees_mu-sigma.trees\")\n",
    "SAMPLE_TREES_FILE_3 = Path(\"data/validation/yule-10-0_sampled-trees_mu-sigma-local-beta-old-small-old-big.trees\")\n",
    "SAMPLE_TREES_FILE_4 = Path(\"data/validation/yule-10-0_sampled-trees_gamma-mu-sigma.trees\")\n",
    "NUM_TAXA = 10"
   ]
  },
  {
   "cell_type": "code",
   "execution_count": 93,
   "metadata": {},
   "outputs": [],
   "source": [
    "ref_trees = load_trees_from_file(REFERENCE_TREE_FILE)\n",
    "sample_trees_1 = load_trees_from_file(SAMPLE_TREES_FILE_1)\n",
    "sample_trees_2 = load_trees_from_file(SAMPLE_TREES_FILE_2)\n",
    "sample_trees_3 = load_trees_from_file(SAMPLE_TREES_FILE_3)\n",
    "sample_trees_4 = load_trees_from_file(SAMPLE_TREES_FILE_4)"
   ]
  },
  {
   "cell_type": "code",
   "execution_count": 94,
   "metadata": {},
   "outputs": [],
   "source": [
    "taxa_names = get_taxa_names(ref_trees[0])\n",
    "\n",
    "_, sample_clade_splits_1 = get_observed_nodes(sample_trees_1, taxa_names)\n",
    "_, sample_clade_splits_2 = get_observed_nodes(sample_trees_2, taxa_names)\n",
    "_, sample_clade_splits_3 = get_observed_nodes(sample_trees_3, taxa_names)\n",
    "_, sample_clade_splits_4 = get_observed_nodes(sample_trees_4, taxa_names)\n",
    "_, ref_clade_splits = get_observed_nodes(ref_trees, taxa_names)\n",
    "\n",
    "sample_branches_1 = get_clade_split_df(sample_clade_splits_1)\n",
    "sample_branches_2 = get_clade_split_df(sample_clade_splits_2)\n",
    "sample_branches_3 = get_clade_split_df(sample_clade_splits_3)\n",
    "sample_branches_4 = get_clade_split_df(sample_clade_splits_4)\n",
    "ref_branches = get_clade_split_df(ref_clade_splits)"
   ]
  },
  {
   "cell_type": "code",
   "execution_count": 95,
   "metadata": {},
   "outputs": [],
   "source": [
    "sample_gof_1 = sample_branches_1.groupby(\"clade_split\").apply(\n",
    "    lambda s: ks_2samp(\n",
    "        s.min_branch,\n",
    "        ref_branches[ref_branches.clade_split == s.clade_split.iloc[0]].min_branch,\n",
    "    ).statistic\n",
    ")\n",
    "\n",
    "sample_gof_2 = sample_branches_2.groupby(\"clade_split\").apply(\n",
    "    lambda s: ks_2samp(\n",
    "        s.min_branch,\n",
    "        ref_branches[ref_branches.clade_split == s.clade_split.iloc[0]].min_branch,\n",
    "    ).statistic\n",
    ")\n",
    "\n",
    "sample_gof_3 = sample_branches_3.groupby(\"clade_split\").apply(\n",
    "    lambda s: ks_2samp(\n",
    "        s.min_branch,\n",
    "        ref_branches[ref_branches.clade_split == s.clade_split.iloc[0]].min_branch,\n",
    "    ).statistic\n",
    ")\n",
    "\n",
    "sample_gof_4 = sample_branches_4.groupby(\"clade_split\").apply(\n",
    "    lambda s: ks_2samp(\n",
    "        s.min_branch,\n",
    "        ref_branches[ref_branches.clade_split == s.clade_split.iloc[0]].min_branch,\n",
    "    ).statistic\n",
    ")"
   ]
  },
  {
   "cell_type": "code",
   "execution_count": 96,
   "metadata": {},
   "outputs": [
    {
     "data": {
      "text/plain": [
       "Text(0, 0.5, 'Model')"
      ]
     },
     "execution_count": 96,
     "metadata": {},
     "output_type": "execute_result"
    },
    {
     "data": {
      "image/png": "[encoded data removed]",
      "text/plain": [
       "<Figure size 640x480 with 1 Axes>"
      ]
     },
     "metadata": {},
     "output_type": "display_data"
    }
   ],
   "source": [
    "sns.barplot({\n",
    "    \"gamma-mu-sigma\": np.mean(sample_gof_4.values),\n",
    "    \"mu-sigma-local-beta-old-old\": np.mean(sample_gof_1.values),\n",
    "    \"mu-sigma\": np.mean(sample_gof_2.values),\n",
    "    \"mu-sigma-local-beta-old-small-old-big\": np.mean(sample_gof_3.values),\n",
    "}, orient=\"y\")\n",
    "plt.xlabel(\"Mean Goodness of Fit for Clade Splits\")\n",
    "plt.ylabel(\"Model\")"
   ]
  },
  {
   "cell_type": "code",
   "execution_count": 97,
   "metadata": {},
   "outputs": [],
   "source": [
    "difference = sample_gof_1.to_frame().join(sample_gof_2.to_frame(), lsuffix=\"-mu-sigma\", rsuffix=\"-mu-sigma-beta\", how=\"inner\")\n",
    "difference[\"difference\"] = difference[\"0-mu-sigma\"] - difference[\"0-mu-sigma-beta\"]"
   ]
  },
  {
   "cell_type": "code",
   "execution_count": 98,
   "metadata": {},
   "outputs": [
    {
     "data": {
      "text/plain": [
       "0-mu-sigma         0.261774\n",
       "0-mu-sigma-beta    0.266062\n",
       "difference        -0.004288\n",
       "dtype: float64"
      ]
     },
     "execution_count": 98,
     "metadata": {},
     "output_type": "execute_result"
    }
   ],
   "source": [
    "difference.mean()"
   ]
  },
  {
   "cell_type": "code",
   "execution_count": 99,
   "metadata": {},
   "outputs": [
    {
     "data": {
      "text/html": [
       "<div>\n",
       "<style scoped>\n",
       "    .dataframe tbody tr th:only-of-type {\n",
       "        vertical-align: middle;\n",
       "    }\n",
       "\n",
       "    .dataframe tbody tr th {\n",
       "        vertical-align: top;\n",
       "    }\n",
       "\n",
       "    .dataframe thead th {\n",
       "        text-align: right;\n",
       "    }\n",
       "</style>\n",
       "<table border=\"1\" class=\"dataframe\">\n",
       "  <thead>\n",
       "    <tr style=\"text-align: right;\">\n",
       "      <th></th>\n",
       "      <th>0-mu-sigma</th>\n",
       "      <th>0-mu-sigma-beta</th>\n",
       "      <th>difference</th>\n",
       "    </tr>\n",
       "    <tr>\n",
       "      <th>clade_split</th>\n",
       "      <th></th>\n",
       "      <th></th>\n",
       "      <th></th>\n",
       "    </tr>\n",
       "  </thead>\n",
       "  <tbody>\n",
       "    <tr>\n",
       "      <th>0000000001||0000000010</th>\n",
       "      <td>0.060405</td>\n",
       "      <td>0.027598</td>\n",
       "      <td>0.032807</td>\n",
       "    </tr>\n",
       "    <tr>\n",
       "      <th>0000000001||0000000100</th>\n",
       "      <td>0.036529</td>\n",
       "      <td>0.037015</td>\n",
       "      <td>-0.000486</td>\n",
       "    </tr>\n",
       "    <tr>\n",
       "      <th>0000000001||0000000110</th>\n",
       "      <td>0.089507</td>\n",
       "      <td>0.080679</td>\n",
       "      <td>0.008828</td>\n",
       "    </tr>\n",
       "    <tr>\n",
       "      <th>0000000011||0000000100</th>\n",
       "      <td>0.059265</td>\n",
       "      <td>0.085693</td>\n",
       "      <td>-0.026428</td>\n",
       "    </tr>\n",
       "    <tr>\n",
       "      <th>0000000100||0000000010</th>\n",
       "      <td>0.017968</td>\n",
       "      <td>0.037386</td>\n",
       "      <td>-0.019418</td>\n",
       "    </tr>\n",
       "    <tr>\n",
       "      <th>...</th>\n",
       "      <td>...</td>\n",
       "      <td>...</td>\n",
       "      <td>...</td>\n",
       "    </tr>\n",
       "    <tr>\n",
       "      <th>1111100111||0000011000</th>\n",
       "      <td>0.428571</td>\n",
       "      <td>0.350000</td>\n",
       "      <td>0.078571</td>\n",
       "    </tr>\n",
       "    <tr>\n",
       "      <th>1111101000||0000010000</th>\n",
       "      <td>0.107646</td>\n",
       "      <td>0.125605</td>\n",
       "      <td>-0.017959</td>\n",
       "    </tr>\n",
       "    <tr>\n",
       "      <th>1111101111||0000010000</th>\n",
       "      <td>0.098780</td>\n",
       "      <td>0.107666</td>\n",
       "      <td>-0.008886</td>\n",
       "    </tr>\n",
       "    <tr>\n",
       "      <th>1111110000||0000001000</th>\n",
       "      <td>0.205882</td>\n",
       "      <td>0.406863</td>\n",
       "      <td>-0.200980</td>\n",
       "    </tr>\n",
       "    <tr>\n",
       "      <th>1111110111||0000001000</th>\n",
       "      <td>0.181545</td>\n",
       "      <td>0.159946</td>\n",
       "      <td>0.021599</td>\n",
       "    </tr>\n",
       "  </tbody>\n",
       "</table>\n",
       "<p>246 rows × 3 columns</p>\n",
       "</div>"
      ],
      "text/plain": [
       "                        0-mu-sigma  0-mu-sigma-beta  difference\n",
       "clade_split                                                    \n",
       "0000000001||0000000010    0.060405         0.027598    0.032807\n",
       "0000000001||0000000100    0.036529         0.037015   -0.000486\n",
       "0000000001||0000000110    0.089507         0.080679    0.008828\n",
       "0000000011||0000000100    0.059265         0.085693   -0.026428\n",
       "0000000100||0000000010    0.017968         0.037386   -0.019418\n",
       "...                            ...              ...         ...\n",
       "1111100111||0000011000    0.428571         0.350000    0.078571\n",
       "1111101000||0000010000    0.107646         0.125605   -0.017959\n",
       "1111101111||0000010000    0.098780         0.107666   -0.008886\n",
       "1111110000||0000001000    0.205882         0.406863   -0.200980\n",
       "1111110111||0000001000    0.181545         0.159946    0.021599\n",
       "\n",
       "[246 rows x 3 columns]"
      ]
     },
     "execution_count": 99,
     "metadata": {},
     "output_type": "execute_result"
    }
   ],
   "source": [
    "difference"
   ]
  },
  {
   "cell_type": "code",
   "execution_count": 100,
   "metadata": {},
   "outputs": [
    {
     "data": {
      "text/plain": [
       "np.float64(0.2898765657711332)"
      ]
     },
     "execution_count": 100,
     "metadata": {},
     "output_type": "execute_result"
    }
   ],
   "source": [
    "sample_gof_2.mean()"
   ]
  },
  {
   "cell_type": "code",
   "execution_count": 101,
   "metadata": {},
   "outputs": [
    {
     "data": {
      "text/plain": [
       "<Axes: xlabel='difference', ylabel='Count'>"
      ]
     },
     "execution_count": 101,
     "metadata": {},
     "output_type": "execute_result"
    },
    {
     "data": {
      "image/png": "[encoded data removed]",
      "text/plain": [
       "<Figure size 640x480 with 1 Axes>"
      ]
     },
     "metadata": {},
     "output_type": "display_data"
    }
   ],
   "source": [
    "sns.histplot(difference.difference)"
   ]
  },
  {
   "cell_type": "code",
   "execution_count": 102,
   "metadata": {},
   "outputs": [
    {
     "data": {
      "text/html": [
       "<div>\n",
       "<style scoped>\n",
       "    .dataframe tbody tr th:only-of-type {\n",
       "        vertical-align: middle;\n",
       "    }\n",
       "\n",
       "    .dataframe tbody tr th {\n",
       "        vertical-align: top;\n",
       "    }\n",
       "\n",
       "    .dataframe thead th {\n",
       "        text-align: right;\n",
       "    }\n",
       "</style>\n",
       "<table border=\"1\" class=\"dataframe\">\n",
       "  <thead>\n",
       "    <tr style=\"text-align: right;\">\n",
       "      <th></th>\n",
       "      <th>0-mu-sigma</th>\n",
       "      <th>0-mu-sigma-beta</th>\n",
       "      <th>difference</th>\n",
       "    </tr>\n",
       "    <tr>\n",
       "      <th>clade_split</th>\n",
       "      <th></th>\n",
       "      <th></th>\n",
       "      <th></th>\n",
       "    </tr>\n",
       "  </thead>\n",
       "  <tbody>\n",
       "    <tr>\n",
       "      <th>0000010000||1110000000</th>\n",
       "      <td>0.200000</td>\n",
       "      <td>0.900000</td>\n",
       "      <td>-0.700000</td>\n",
       "    </tr>\n",
       "    <tr>\n",
       "      <th>1110000111||0000010000</th>\n",
       "      <td>0.333333</td>\n",
       "      <td>1.000000</td>\n",
       "      <td>-0.666667</td>\n",
       "    </tr>\n",
       "    <tr>\n",
       "      <th>0110010111||1000001000</th>\n",
       "      <td>0.500000</td>\n",
       "      <td>1.000000</td>\n",
       "      <td>-0.500000</td>\n",
       "    </tr>\n",
       "    <tr>\n",
       "      <th>0110000111||0001100000</th>\n",
       "      <td>0.285714</td>\n",
       "      <td>0.714286</td>\n",
       "      <td>-0.428571</td>\n",
       "    </tr>\n",
       "    <tr>\n",
       "      <th>0001101000||1110000000</th>\n",
       "      <td>0.285714</td>\n",
       "      <td>0.700000</td>\n",
       "      <td>-0.414286</td>\n",
       "    </tr>\n",
       "    <tr>\n",
       "      <th>...</th>\n",
       "      <td>...</td>\n",
       "      <td>...</td>\n",
       "      <td>...</td>\n",
       "    </tr>\n",
       "    <tr>\n",
       "      <th>0000010000||1000000000</th>\n",
       "      <td>0.028316</td>\n",
       "      <td>0.029853</td>\n",
       "      <td>-0.001537</td>\n",
       "    </tr>\n",
       "    <tr>\n",
       "      <th>1001101000||0110000000</th>\n",
       "      <td>0.170130</td>\n",
       "      <td>0.171429</td>\n",
       "      <td>-0.001299</td>\n",
       "    </tr>\n",
       "    <tr>\n",
       "      <th>0111100000||1000001000</th>\n",
       "      <td>0.169935</td>\n",
       "      <td>0.171123</td>\n",
       "      <td>-0.001188</td>\n",
       "    </tr>\n",
       "    <tr>\n",
       "      <th>0111101000||1000010000</th>\n",
       "      <td>0.126667</td>\n",
       "      <td>0.127302</td>\n",
       "      <td>-0.000635</td>\n",
       "    </tr>\n",
       "    <tr>\n",
       "      <th>0000000001||0000000100</th>\n",
       "      <td>0.036529</td>\n",
       "      <td>0.037015</td>\n",
       "      <td>-0.000486</td>\n",
       "    </tr>\n",
       "  </tbody>\n",
       "</table>\n",
       "<p>121 rows × 3 columns</p>\n",
       "</div>"
      ],
      "text/plain": [
       "                        0-mu-sigma  0-mu-sigma-beta  difference\n",
       "clade_split                                                    \n",
       "0000010000||1110000000    0.200000         0.900000   -0.700000\n",
       "1110000111||0000010000    0.333333         1.000000   -0.666667\n",
       "0110010111||1000001000    0.500000         1.000000   -0.500000\n",
       "0110000111||0001100000    0.285714         0.714286   -0.428571\n",
       "0001101000||1110000000    0.285714         0.700000   -0.414286\n",
       "...                            ...              ...         ...\n",
       "0000010000||1000000000    0.028316         0.029853   -0.001537\n",
       "1001101000||0110000000    0.170130         0.171429   -0.001299\n",
       "0111100000||1000001000    0.169935         0.171123   -0.001188\n",
       "0111101000||1000010000    0.126667         0.127302   -0.000635\n",
       "0000000001||0000000100    0.036529         0.037015   -0.000486\n",
       "\n",
       "[121 rows x 3 columns]"
      ]
     },
     "execution_count": 102,
     "metadata": {},
     "output_type": "execute_result"
    }
   ],
   "source": [
    "difference[difference.difference < 0].sort_values(\"difference\")"
   ]
  },
  {
   "cell_type": "code",
   "execution_count": 103,
   "metadata": {},
   "outputs": [
    {
     "data": {
      "text/html": [
       "<div>\n",
       "<style scoped>\n",
       "    .dataframe tbody tr th:only-of-type {\n",
       "        vertical-align: middle;\n",
       "    }\n",
       "\n",
       "    .dataframe tbody tr th {\n",
       "        vertical-align: top;\n",
       "    }\n",
       "\n",
       "    .dataframe thead th {\n",
       "        text-align: right;\n",
       "    }\n",
       "</style>\n",
       "<table border=\"1\" class=\"dataframe\">\n",
       "  <thead>\n",
       "    <tr style=\"text-align: right;\">\n",
       "      <th></th>\n",
       "      <th>0-mu-sigma</th>\n",
       "      <th>0-mu-sigma-beta</th>\n",
       "      <th>difference</th>\n",
       "    </tr>\n",
       "    <tr>\n",
       "      <th>clade_split</th>\n",
       "      <th></th>\n",
       "      <th></th>\n",
       "      <th></th>\n",
       "    </tr>\n",
       "  </thead>\n",
       "  <tbody>\n",
       "    <tr>\n",
       "      <th>0000011111||1001100000</th>\n",
       "      <td>0.345455</td>\n",
       "      <td>0.418182</td>\n",
       "      <td>-0.072727</td>\n",
       "    </tr>\n",
       "  </tbody>\n",
       "</table>\n",
       "</div>"
      ],
      "text/plain": [
       "                        0-mu-sigma  0-mu-sigma-beta  difference\n",
       "clade_split                                                    \n",
       "0000011111||1001100000    0.345455         0.418182   -0.072727"
      ]
     },
     "execution_count": 103,
     "metadata": {},
     "output_type": "execute_result"
    }
   ],
   "source": [
    "difference[difference.index == \"0000011111||1001100000\"]"
   ]
  },
  {
   "cell_type": "code",
   "execution_count": 104,
   "metadata": {},
   "outputs": [
    {
     "data": {
      "text/plain": [
       "10"
      ]
     },
     "execution_count": 104,
     "metadata": {},
     "output_type": "execute_result"
    }
   ],
   "source": [
    "len(sample_branches_1[sample_branches_1.clade_split == \"0000011111||1001100000\"])"
   ]
  },
  {
   "cell_type": "code",
   "execution_count": null,
   "metadata": {},
   "outputs": [],
   "source": []
  }
 ],
 "metadata": {
  "kernelspec": {
   "display_name": ".venv",
   "language": "python",
   "name": "python3"
  },
  "language_info": {
   "codemirror_mode": {
    "name": "ipython",
    "version": 3
   },
   "file_extension": ".py",
   "mimetype": "text/x-python",
   "name": "python",
   "nbconvert_exporter": "python",
   "pygments_lexer": "ipython3",
   "version": "3.11.9"
  }
 },
 "nbformat": 4,
 "nbformat_minor": 2
}
