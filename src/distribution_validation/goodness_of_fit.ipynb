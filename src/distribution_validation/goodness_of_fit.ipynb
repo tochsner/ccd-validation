{
 "cells": [
  {
   "cell_type": "code",
   "execution_count": 1,
   "metadata": {},
   "outputs": [],
   "source": [
    "import seaborn as sns\n",
    "import matplotlib.pyplot as plt\n",
    "from pathlib import Path\n",
    "import numpy as np\n",
    "import pandas as pd\n",
    "from Bio.Phylo._io import parse\n",
    "from Bio.Phylo.BaseTree import Tree as BioTree\n",
    "\n",
    "from src.datasets.load_trees import load_trees_from_file\n",
    "from src.utils.tree_utils import get_taxa_names\n",
    "from src.utils.tree_utils import get_tree_height\n",
    "from src.distribution_analysis.process_tree import get_observed_nodes, get_clade_split_df\n",
    "\n",
    "from scipy.stats import ks_2samp\n",
    "\n",
    "from collections import Counter"
   ]
  },
  {
   "cell_type": "code",
   "execution_count": 2,
   "metadata": {},
   "outputs": [],
   "source": [
    "\n",
    "import warnings\n",
    "warnings.filterwarnings('ignore')\n",
    "sns.set_style(\"whitegrid\")"
   ]
  },
  {
   "cell_type": "code",
   "execution_count": 176,
   "metadata": {},
   "outputs": [],
   "source": [
    "REFERENCE_TREE_FILE = Path(\"data/mcmc_runs/yule-10-0.trees\")\n",
    "SAMPLE_TREES_FILE_1 = Path(\"data/distribution_validation/yule-10-0_sampled-trees_gamma-mu-sigma-beta-old-old.trees\")\n",
    "SAMPLE_TREES_FILE_2 = Path(\"data/distribution_validation/yule-10-0_sampled-trees_gamma-mu-sigma.trees\")\n",
    "SAMPLE_TREES_FILE_3 = Path(\"data/distribution_validation/yule-10-0_sampled-trees_gamma-mu-sigma-exact.trees\")\n",
    "SAMPLE_TREES_FILE_4 = Path(\"data/distribution_validation/yule-10-0_sampled-trees_mu-sigma.trees\")\n",
    "SAMPLE_TREES_FILE_5 = Path(\"data/distribution_validation/yule-10-0_sampled-trees_mu-sigma-beta-old-old.trees\")\n",
    "NUM_TAXA = 10"
   ]
  },
  {
   "cell_type": "code",
   "execution_count": 177,
   "metadata": {},
   "outputs": [],
   "source": [
    "ref_trees = load_trees_from_file(REFERENCE_TREE_FILE)\n",
    "# sample_trees_1 = load_trees_from_file(SAMPLE_TREES_FILE_1)\n",
    "# sample_trees_2 = load_trees_from_file(SAMPLE_TREES_FILE_2)\n",
    "# sample_trees_3 = load_trees_from_file(SAMPLE_TREES_FILE_3)\n",
    "sample_trees_4 = load_trees_from_file(SAMPLE_TREES_FILE_4)\n",
    "sample_trees_5 = load_trees_from_file(SAMPLE_TREES_FILE_5)"
   ]
  },
  {
   "cell_type": "code",
   "execution_count": 178,
   "metadata": {},
   "outputs": [],
   "source": [
    "taxa_names = get_taxa_names(ref_trees[0])\n",
    "\n",
    "_, sample_clade_splits_1 = get_observed_nodes(sample_trees_1, taxa_names)\n",
    "_, sample_clade_splits_2 = get_observed_nodes(sample_trees_2, taxa_names)\n",
    "_, sample_clade_splits_3 = get_observed_nodes(sample_trees_3, taxa_names)\n",
    "_, sample_clade_splits_4 = get_observed_nodes(sample_trees_4, taxa_names)\n",
    "_, sample_clade_splits_5 = get_observed_nodes(sample_trees_5, taxa_names)\n",
    "_, ref_clade_splits = get_observed_nodes(ref_trees, taxa_names)\n",
    "\n",
    "sample_branches_1 = get_clade_split_df(sample_clade_splits_1)\n",
    "sample_branches_2 = get_clade_split_df(sample_clade_splits_2)\n",
    "sample_branches_3 = get_clade_split_df(sample_clade_splits_3)\n",
    "sample_branches_4 = get_clade_split_df(sample_clade_splits_4)\n",
    "sample_branches_5 = get_clade_split_df(sample_clade_splits_5)\n",
    "ref_branches = get_clade_split_df(ref_clade_splits)"
   ]
  },
  {
   "cell_type": "code",
   "execution_count": 325,
   "metadata": {},
   "outputs": [],
   "source": [
    "sample_gof_1 = sample_branches_1.groupby(\"clade_split\").apply(\n",
    "    lambda s: ks_2samp(\n",
    "        s.min_branch,\n",
    "        ref_branches[ref_branches.clade_split == s.clade_split.iloc[0]].min_branch_down,\n",
    "    ).statistic\n",
    ")\n",
    "\n",
    "sample_gof_2 = sample_branches_2.groupby(\"clade_split\").apply(\n",
    "    lambda s: ks_2samp(\n",
    "        s.min_branch_down,\n",
    "        ref_branches[ref_branches.clade_split == s.clade_split.iloc[0]].min_branch_down,\n",
    "    ).statistic\n",
    ")\n",
    "\n",
    "sample_gof_3 = sample_branches_3.groupby(\"clade_split\").apply(\n",
    "    lambda s: ks_2samp(\n",
    "        s.min_branch_down,\n",
    "        ref_branches[ref_branches.clade_split == s.clade_split.iloc[0]].min_branch_down,\n",
    "    ).statistic\n",
    ")\n",
    "\n",
    "sample_gof_4 = sample_branches_4.groupby(\"clade_split\").apply(\n",
    "    lambda s: ks_2samp(\n",
    "        s.min_branch_down,\n",
    "        ref_branches[ref_branches.clade_split == s.clade_split.iloc[0]].min_branch_down,\n",
    "    ).statistic\n",
    ")\n",
    "\n",
    "sample_gof_5 = sample_branches_5.groupby(\"clade_split\").apply(\n",
    "    lambda s: ks_2samp(\n",
    "        s.min_branch_down,\n",
    "        ref_branches[ref_branches.clade_split == s.clade_split.iloc[0]].min_branch_down,\n",
    "    ).statistic\n",
    ")"
   ]
  },
  {
   "cell_type": "code",
   "execution_count": 329,
   "metadata": {},
   "outputs": [
    {
     "data": {
      "text/plain": [
       "np.float64(nan)"
      ]
     },
     "execution_count": 329,
     "metadata": {},
     "output_type": "execute_result"
    }
   ],
   "source": [
    "np.mean(sample_gof_1.values)"
   ]
  },
  {
   "cell_type": "code",
   "execution_count": 328,
   "metadata": {},
   "outputs": [
    {
     "data": {
      "text/plain": [
       "Text(0, 0.5, 'Model')"
      ]
     },
     "execution_count": 328,
     "metadata": {},
     "output_type": "execute_result"
    },
    {
     "data": {
      "image/png": "[encoded data removed]",
      "text/plain": [
       "<Figure size 640x480 with 1 Axes>"
      ]
     },
     "metadata": {},
     "output_type": "display_data"
    }
   ],
   "source": [
    "sns.barplot({\n",
    "    \"gamma-mu-sigma-beta-old-old\": np.mean(sample_gof_1.values),\n",
    "    \"gamma-mu-sigma\": np.mean(sample_gof_2.values),\n",
    "    \"gamma-mu-sigma-exact\": np.mean(sample_gof_3.values),\n",
    "    \"mu-sigma\": np.mean(sample_gof_4.values),\n",
    "    \"mu-sigma-beta-old-old\": np.mean(sample_gof_5.values),\n",
    "}, orient=\"y\")\n",
    "plt.xlabel(\"Mean Goodness of Fit for Clade Splits\")\n",
    "plt.ylabel(\"Model\")"
   ]
  },
  {
   "cell_type": "code",
   "execution_count": 246,
   "metadata": {},
   "outputs": [],
   "source": [
    "difference = sample_gof_1.to_frame().join(sample_gof_2.to_frame(), lsuffix=\"-gamma-mu-sigma-beta-old-old\", rsuffix=\"-gamma-mu-sigma\", how=\"inner\")\n",
    "difference[\"difference\"] = difference[\"0-gamma-mu-sigma\"] - difference[\"0-gamma-mu-sigma-beta-old-old\"]"
   ]
  },
  {
   "cell_type": "code",
   "execution_count": 247,
   "metadata": {},
   "outputs": [
    {
     "data": {
      "text/plain": [
       "0-gamma-mu-sigma-beta-old-old    0.246803\n",
       "0-gamma-mu-sigma                 0.222800\n",
       "difference                      -0.024003\n",
       "dtype: float64"
      ]
     },
     "execution_count": 247,
     "metadata": {},
     "output_type": "execute_result"
    }
   ],
   "source": [
    "difference.mean()"
   ]
  },
  {
   "cell_type": "code",
   "execution_count": 248,
   "metadata": {},
   "outputs": [
    {
     "data": {
      "text/html": [
       "<div>\n",
       "<style scoped>\n",
       "    .dataframe tbody tr th:only-of-type {\n",
       "        vertical-align: middle;\n",
       "    }\n",
       "\n",
       "    .dataframe tbody tr th {\n",
       "        vertical-align: top;\n",
       "    }\n",
       "\n",
       "    .dataframe thead th {\n",
       "        text-align: right;\n",
       "    }\n",
       "</style>\n",
       "<table border=\"1\" class=\"dataframe\">\n",
       "  <thead>\n",
       "    <tr style=\"text-align: right;\">\n",
       "      <th></th>\n",
       "      <th>0-gamma-mu-sigma-beta-old-old</th>\n",
       "      <th>0-gamma-mu-sigma</th>\n",
       "      <th>difference</th>\n",
       "    </tr>\n",
       "    <tr>\n",
       "      <th>clade_split</th>\n",
       "      <th></th>\n",
       "      <th></th>\n",
       "      <th></th>\n",
       "    </tr>\n",
       "  </thead>\n",
       "  <tbody>\n",
       "    <tr>\n",
       "      <th>0000000001||0000000010</th>\n",
       "      <td>0.026343</td>\n",
       "      <td>0.016870</td>\n",
       "      <td>-0.009473</td>\n",
       "    </tr>\n",
       "    <tr>\n",
       "      <th>0000000001||0000000100</th>\n",
       "      <td>0.007200</td>\n",
       "      <td>0.005882</td>\n",
       "      <td>-0.001318</td>\n",
       "    </tr>\n",
       "    <tr>\n",
       "      <th>0000000001||0000000110</th>\n",
       "      <td>0.041374</td>\n",
       "      <td>0.037245</td>\n",
       "      <td>-0.004129</td>\n",
       "    </tr>\n",
       "    <tr>\n",
       "      <th>0000000011||0000000100</th>\n",
       "      <td>0.022278</td>\n",
       "      <td>0.023271</td>\n",
       "      <td>0.000993</td>\n",
       "    </tr>\n",
       "    <tr>\n",
       "      <th>0000000100||0000000010</th>\n",
       "      <td>0.010811</td>\n",
       "      <td>0.011462</td>\n",
       "      <td>0.000651</td>\n",
       "    </tr>\n",
       "    <tr>\n",
       "      <th>...</th>\n",
       "      <td>...</td>\n",
       "      <td>...</td>\n",
       "      <td>...</td>\n",
       "    </tr>\n",
       "    <tr>\n",
       "      <th>1111100111||0000011000</th>\n",
       "      <td>0.200000</td>\n",
       "      <td>0.175000</td>\n",
       "      <td>-0.025000</td>\n",
       "    </tr>\n",
       "    <tr>\n",
       "      <th>1111101000||0000010000</th>\n",
       "      <td>0.046287</td>\n",
       "      <td>0.050470</td>\n",
       "      <td>0.004183</td>\n",
       "    </tr>\n",
       "    <tr>\n",
       "      <th>1111101111||0000010000</th>\n",
       "      <td>0.074295</td>\n",
       "      <td>0.074086</td>\n",
       "      <td>-0.000209</td>\n",
       "    </tr>\n",
       "    <tr>\n",
       "      <th>1111110000||0000001000</th>\n",
       "      <td>0.315508</td>\n",
       "      <td>0.222222</td>\n",
       "      <td>-0.093286</td>\n",
       "    </tr>\n",
       "    <tr>\n",
       "      <th>1111110111||0000001000</th>\n",
       "      <td>0.074856</td>\n",
       "      <td>0.044056</td>\n",
       "      <td>-0.030800</td>\n",
       "    </tr>\n",
       "  </tbody>\n",
       "</table>\n",
       "<p>264 rows × 3 columns</p>\n",
       "</div>"
      ],
      "text/plain": [
       "                        0-gamma-mu-sigma-beta-old-old  0-gamma-mu-sigma  \\\n",
       "clade_split                                                               \n",
       "0000000001||0000000010                       0.026343          0.016870   \n",
       "0000000001||0000000100                       0.007200          0.005882   \n",
       "0000000001||0000000110                       0.041374          0.037245   \n",
       "0000000011||0000000100                       0.022278          0.023271   \n",
       "0000000100||0000000010                       0.010811          0.011462   \n",
       "...                                               ...               ...   \n",
       "1111100111||0000011000                       0.200000          0.175000   \n",
       "1111101000||0000010000                       0.046287          0.050470   \n",
       "1111101111||0000010000                       0.074295          0.074086   \n",
       "1111110000||0000001000                       0.315508          0.222222   \n",
       "1111110111||0000001000                       0.074856          0.044056   \n",
       "\n",
       "                        difference  \n",
       "clade_split                         \n",
       "0000000001||0000000010   -0.009473  \n",
       "0000000001||0000000100   -0.001318  \n",
       "0000000001||0000000110   -0.004129  \n",
       "0000000011||0000000100    0.000993  \n",
       "0000000100||0000000010    0.000651  \n",
       "...                            ...  \n",
       "1111100111||0000011000   -0.025000  \n",
       "1111101000||0000010000    0.004183  \n",
       "1111101111||0000010000   -0.000209  \n",
       "1111110000||0000001000   -0.093286  \n",
       "1111110111||0000001000   -0.030800  \n",
       "\n",
       "[264 rows x 3 columns]"
      ]
     },
     "execution_count": 248,
     "metadata": {},
     "output_type": "execute_result"
    }
   ],
   "source": [
    "difference"
   ]
  },
  {
   "cell_type": "code",
   "execution_count": 249,
   "metadata": {},
   "outputs": [
    {
     "data": {
      "text/plain": [
       "np.float64(0.23414837036129046)"
      ]
     },
     "execution_count": 249,
     "metadata": {},
     "output_type": "execute_result"
    }
   ],
   "source": [
    "sample_gof_2.mean()"
   ]
  },
  {
   "cell_type": "code",
   "execution_count": 250,
   "metadata": {},
   "outputs": [
    {
     "data": {
      "text/plain": [
       "<Axes: xlabel='difference', ylabel='Count'>"
      ]
     },
     "execution_count": 250,
     "metadata": {},
     "output_type": "execute_result"
    },
    {
     "data": {
      "image/png": "[encoded data removed]",
      "text/plain": [
       "<Figure size 640x480 with 1 Axes>"
      ]
     },
     "metadata": {},
     "output_type": "display_data"
    }
   ],
   "source": [
    "sns.histplot(difference.difference)"
   ]
  },
  {
   "cell_type": "code",
   "execution_count": 253,
   "metadata": {},
   "outputs": [
    {
     "data": {
      "text/html": [
       "<div>\n",
       "<style scoped>\n",
       "    .dataframe tbody tr th:only-of-type {\n",
       "        vertical-align: middle;\n",
       "    }\n",
       "\n",
       "    .dataframe tbody tr th {\n",
       "        vertical-align: top;\n",
       "    }\n",
       "\n",
       "    .dataframe thead th {\n",
       "        text-align: right;\n",
       "    }\n",
       "</style>\n",
       "<table border=\"1\" class=\"dataframe\">\n",
       "  <thead>\n",
       "    <tr style=\"text-align: right;\">\n",
       "      <th></th>\n",
       "      <th>0-gamma-mu-sigma-beta-old-old</th>\n",
       "      <th>0-gamma-mu-sigma</th>\n",
       "      <th>difference</th>\n",
       "    </tr>\n",
       "    <tr>\n",
       "      <th>clade_split</th>\n",
       "      <th></th>\n",
       "      <th></th>\n",
       "      <th></th>\n",
       "    </tr>\n",
       "  </thead>\n",
       "  <tbody>\n",
       "    <tr>\n",
       "      <th>0000010111||1000001000</th>\n",
       "      <td>1.000000</td>\n",
       "      <td>0.333333</td>\n",
       "      <td>-0.666667</td>\n",
       "    </tr>\n",
       "    <tr>\n",
       "      <th>1001111000||0110000000</th>\n",
       "      <td>1.000000</td>\n",
       "      <td>0.333333</td>\n",
       "      <td>-0.666667</td>\n",
       "    </tr>\n",
       "    <tr>\n",
       "      <th>1000011000||0110000000</th>\n",
       "      <td>1.000000</td>\n",
       "      <td>0.500000</td>\n",
       "      <td>-0.500000</td>\n",
       "    </tr>\n",
       "    <tr>\n",
       "      <th>0001100111||1000001000</th>\n",
       "      <td>1.000000</td>\n",
       "      <td>0.500000</td>\n",
       "      <td>-0.500000</td>\n",
       "    </tr>\n",
       "    <tr>\n",
       "      <th>0001101000||0000010000</th>\n",
       "      <td>1.000000</td>\n",
       "      <td>0.500000</td>\n",
       "      <td>-0.500000</td>\n",
       "    </tr>\n",
       "    <tr>\n",
       "      <th>0111110000||1000001000</th>\n",
       "      <td>1.000000</td>\n",
       "      <td>0.500000</td>\n",
       "      <td>-0.500000</td>\n",
       "    </tr>\n",
       "    <tr>\n",
       "      <th>0111100000||1000011000</th>\n",
       "      <td>0.750000</td>\n",
       "      <td>0.321429</td>\n",
       "      <td>-0.428571</td>\n",
       "    </tr>\n",
       "    <tr>\n",
       "      <th>0001100000||1000001000</th>\n",
       "      <td>0.535714</td>\n",
       "      <td>0.164286</td>\n",
       "      <td>-0.371429</td>\n",
       "    </tr>\n",
       "    <tr>\n",
       "      <th>0001101111||1110010000</th>\n",
       "      <td>0.571429</td>\n",
       "      <td>0.214286</td>\n",
       "      <td>-0.357143</td>\n",
       "    </tr>\n",
       "    <tr>\n",
       "      <th>0110010111||1001101000</th>\n",
       "      <td>1.000000</td>\n",
       "      <td>0.666667</td>\n",
       "      <td>-0.333333</td>\n",
       "    </tr>\n",
       "    <tr>\n",
       "      <th>0000000111||0110010000</th>\n",
       "      <td>1.000000</td>\n",
       "      <td>0.666667</td>\n",
       "      <td>-0.333333</td>\n",
       "    </tr>\n",
       "    <tr>\n",
       "      <th>0110010111||1000001000</th>\n",
       "      <td>1.000000</td>\n",
       "      <td>0.666667</td>\n",
       "      <td>-0.333333</td>\n",
       "    </tr>\n",
       "    <tr>\n",
       "      <th>0000011111||0001100000</th>\n",
       "      <td>0.469697</td>\n",
       "      <td>0.172249</td>\n",
       "      <td>-0.297448</td>\n",
       "    </tr>\n",
       "    <tr>\n",
       "      <th>1110010000||0000001000</th>\n",
       "      <td>1.000000</td>\n",
       "      <td>0.750000</td>\n",
       "      <td>-0.250000</td>\n",
       "    </tr>\n",
       "    <tr>\n",
       "      <th>0001101111||0110010000</th>\n",
       "      <td>1.000000</td>\n",
       "      <td>0.750000</td>\n",
       "      <td>-0.250000</td>\n",
       "    </tr>\n",
       "    <tr>\n",
       "      <th>0001100111||0110011000</th>\n",
       "      <td>0.750000</td>\n",
       "      <td>0.500000</td>\n",
       "      <td>-0.250000</td>\n",
       "    </tr>\n",
       "    <tr>\n",
       "      <th>0001100111||0000010000</th>\n",
       "      <td>0.500000</td>\n",
       "      <td>0.250000</td>\n",
       "      <td>-0.250000</td>\n",
       "    </tr>\n",
       "    <tr>\n",
       "      <th>1001100000||0110010000</th>\n",
       "      <td>0.500000</td>\n",
       "      <td>0.250000</td>\n",
       "      <td>-0.250000</td>\n",
       "    </tr>\n",
       "    <tr>\n",
       "      <th>0000000111||0110011000</th>\n",
       "      <td>0.411111</td>\n",
       "      <td>0.178363</td>\n",
       "      <td>-0.232749</td>\n",
       "    </tr>\n",
       "    <tr>\n",
       "      <th>0000000111||0000011000</th>\n",
       "      <td>0.571429</td>\n",
       "      <td>0.349206</td>\n",
       "      <td>-0.222222</td>\n",
       "    </tr>\n",
       "  </tbody>\n",
       "</table>\n",
       "</div>"
      ],
      "text/plain": [
       "                        0-gamma-mu-sigma-beta-old-old  0-gamma-mu-sigma  \\\n",
       "clade_split                                                               \n",
       "0000010111||1000001000                       1.000000          0.333333   \n",
       "1001111000||0110000000                       1.000000          0.333333   \n",
       "1000011000||0110000000                       1.000000          0.500000   \n",
       "0001100111||1000001000                       1.000000          0.500000   \n",
       "0001101000||0000010000                       1.000000          0.500000   \n",
       "0111110000||1000001000                       1.000000          0.500000   \n",
       "0111100000||1000011000                       0.750000          0.321429   \n",
       "0001100000||1000001000                       0.535714          0.164286   \n",
       "0001101111||1110010000                       0.571429          0.214286   \n",
       "0110010111||1001101000                       1.000000          0.666667   \n",
       "0000000111||0110010000                       1.000000          0.666667   \n",
       "0110010111||1000001000                       1.000000          0.666667   \n",
       "0000011111||0001100000                       0.469697          0.172249   \n",
       "1110010000||0000001000                       1.000000          0.750000   \n",
       "0001101111||0110010000                       1.000000          0.750000   \n",
       "0001100111||0110011000                       0.750000          0.500000   \n",
       "0001100111||0000010000                       0.500000          0.250000   \n",
       "1001100000||0110010000                       0.500000          0.250000   \n",
       "0000000111||0110011000                       0.411111          0.178363   \n",
       "0000000111||0000011000                       0.571429          0.349206   \n",
       "\n",
       "                        difference  \n",
       "clade_split                         \n",
       "0000010111||1000001000   -0.666667  \n",
       "1001111000||0110000000   -0.666667  \n",
       "1000011000||0110000000   -0.500000  \n",
       "0001100111||1000001000   -0.500000  \n",
       "0001101000||0000010000   -0.500000  \n",
       "0111110000||1000001000   -0.500000  \n",
       "0111100000||1000011000   -0.428571  \n",
       "0001100000||1000001000   -0.371429  \n",
       "0001101111||1110010000   -0.357143  \n",
       "0110010111||1001101000   -0.333333  \n",
       "0000000111||0110010000   -0.333333  \n",
       "0110010111||1000001000   -0.333333  \n",
       "0000011111||0001100000   -0.297448  \n",
       "1110010000||0000001000   -0.250000  \n",
       "0001101111||0110010000   -0.250000  \n",
       "0001100111||0110011000   -0.250000  \n",
       "0001100111||0000010000   -0.250000  \n",
       "1001100000||0110010000   -0.250000  \n",
       "0000000111||0110011000   -0.232749  \n",
       "0000000111||0000011000   -0.222222  "
      ]
     },
     "execution_count": 253,
     "metadata": {},
     "output_type": "execute_result"
    }
   ],
   "source": [
    "difference[difference.difference < 0].sort_values(\"difference\", ascending=True).head(20)"
   ]
  },
  {
   "cell_type": "code",
   "execution_count": 265,
   "metadata": {},
   "outputs": [
    {
     "data": {
      "text/plain": [
       "7"
      ]
     },
     "execution_count": 265,
     "metadata": {},
     "output_type": "execute_result"
    }
   ],
   "source": [
    "ref_counter[\"0000000111||0000011000\"]"
   ]
  },
  {
   "cell_type": "code",
   "execution_count": 308,
   "metadata": {},
   "outputs": [
    {
     "data": {
      "text/html": [
       "<div>\n",
       "<style scoped>\n",
       "    .dataframe tbody tr th:only-of-type {\n",
       "        vertical-align: middle;\n",
       "    }\n",
       "\n",
       "    .dataframe tbody tr th {\n",
       "        vertical-align: top;\n",
       "    }\n",
       "\n",
       "    .dataframe thead th {\n",
       "        text-align: right;\n",
       "    }\n",
       "</style>\n",
       "<table border=\"1\" class=\"dataframe\">\n",
       "  <thead>\n",
       "    <tr style=\"text-align: right;\">\n",
       "      <th></th>\n",
       "      <th>0-gamma-mu-sigma-beta-old-old</th>\n",
       "      <th>0-gamma-mu-sigma</th>\n",
       "      <th>difference</th>\n",
       "      <th>count</th>\n",
       "    </tr>\n",
       "    <tr>\n",
       "      <th>clade_split</th>\n",
       "      <th></th>\n",
       "      <th></th>\n",
       "      <th></th>\n",
       "      <th></th>\n",
       "    </tr>\n",
       "  </thead>\n",
       "  <tbody>\n",
       "    <tr>\n",
       "      <th>0000000111||1111100000</th>\n",
       "      <td>0.070734</td>\n",
       "      <td>0.137255</td>\n",
       "      <td>0.066521</td>\n",
       "      <td>78</td>\n",
       "    </tr>\n",
       "    <tr>\n",
       "      <th>0000011111||1000000000</th>\n",
       "      <td>0.068993</td>\n",
       "      <td>0.134912</td>\n",
       "      <td>0.065919</td>\n",
       "      <td>100</td>\n",
       "    </tr>\n",
       "    <tr>\n",
       "      <th>1000001111||0001100000</th>\n",
       "      <td>0.092898</td>\n",
       "      <td>0.155625</td>\n",
       "      <td>0.062727</td>\n",
       "      <td>64</td>\n",
       "    </tr>\n",
       "    <tr>\n",
       "      <th>0110001111||0000010000</th>\n",
       "      <td>0.080667</td>\n",
       "      <td>0.143260</td>\n",
       "      <td>0.062593</td>\n",
       "      <td>250</td>\n",
       "    </tr>\n",
       "    <tr>\n",
       "      <th>0110001111||1000010000</th>\n",
       "      <td>0.106847</td>\n",
       "      <td>0.164119</td>\n",
       "      <td>0.057272</td>\n",
       "      <td>147</td>\n",
       "    </tr>\n",
       "    <tr>\n",
       "      <th>1111100000||0000010000</th>\n",
       "      <td>0.080124</td>\n",
       "      <td>0.131052</td>\n",
       "      <td>0.050928</td>\n",
       "      <td>110</td>\n",
       "    </tr>\n",
       "    <tr>\n",
       "      <th>0110011111||1001100000</th>\n",
       "      <td>0.080740</td>\n",
       "      <td>0.126280</td>\n",
       "      <td>0.045540</td>\n",
       "      <td>134</td>\n",
       "    </tr>\n",
       "    <tr>\n",
       "      <th>0000011111||1111100000</th>\n",
       "      <td>0.086171</td>\n",
       "      <td>0.130827</td>\n",
       "      <td>0.044656</td>\n",
       "      <td>102</td>\n",
       "    </tr>\n",
       "    <tr>\n",
       "      <th>1000010111||0001100000</th>\n",
       "      <td>0.047574</td>\n",
       "      <td>0.081760</td>\n",
       "      <td>0.034186</td>\n",
       "      <td>271</td>\n",
       "    </tr>\n",
       "    <tr>\n",
       "      <th>0000000111||0001100000</th>\n",
       "      <td>0.050222</td>\n",
       "      <td>0.084291</td>\n",
       "      <td>0.034069</td>\n",
       "      <td>239</td>\n",
       "    </tr>\n",
       "  </tbody>\n",
       "</table>\n",
       "</div>"
      ],
      "text/plain": [
       "                        0-gamma-mu-sigma-beta-old-old  0-gamma-mu-sigma  \\\n",
       "clade_split                                                               \n",
       "0000000111||1111100000                       0.070734          0.137255   \n",
       "0000011111||1000000000                       0.068993          0.134912   \n",
       "1000001111||0001100000                       0.092898          0.155625   \n",
       "0110001111||0000010000                       0.080667          0.143260   \n",
       "0110001111||1000010000                       0.106847          0.164119   \n",
       "1111100000||0000010000                       0.080124          0.131052   \n",
       "0110011111||1001100000                       0.080740          0.126280   \n",
       "0000011111||1111100000                       0.086171          0.130827   \n",
       "1000010111||0001100000                       0.047574          0.081760   \n",
       "0000000111||0001100000                       0.050222          0.084291   \n",
       "\n",
       "                        difference  count  \n",
       "clade_split                                \n",
       "0000000111||1111100000    0.066521     78  \n",
       "0000011111||1000000000    0.065919    100  \n",
       "1000001111||0001100000    0.062727     64  \n",
       "0110001111||0000010000    0.062593    250  \n",
       "0110001111||1000010000    0.057272    147  \n",
       "1111100000||0000010000    0.050928    110  \n",
       "0110011111||1001100000    0.045540    134  \n",
       "0000011111||1111100000    0.044656    102  \n",
       "1000010111||0001100000    0.034186    271  \n",
       "0000000111||0001100000    0.034069    239  "
      ]
     },
     "execution_count": 308,
     "metadata": {},
     "output_type": "execute_result"
    }
   ],
   "source": [
    "from collections import Counter\n",
    "ref_counter = Counter(ref_branches.clade_split)\n",
    "difference[\"count\"] = difference.index.map(lambda x: ref_counter[x])\n",
    "difference[difference[\"count\"] > 60].sort_values(\"difference\", ascending=False).head(10)"
   ]
  },
  {
   "cell_type": "code",
   "execution_count": 86,
   "metadata": {},
   "outputs": [
    {
     "data": {
      "text/html": [
       "<div>\n",
       "<style scoped>\n",
       "    .dataframe tbody tr th:only-of-type {\n",
       "        vertical-align: middle;\n",
       "    }\n",
       "\n",
       "    .dataframe tbody tr th {\n",
       "        vertical-align: top;\n",
       "    }\n",
       "\n",
       "    .dataframe thead th {\n",
       "        text-align: right;\n",
       "    }\n",
       "</style>\n",
       "<table border=\"1\" class=\"dataframe\">\n",
       "  <thead>\n",
       "    <tr style=\"text-align: right;\">\n",
       "      <th></th>\n",
       "      <th>0-gamma-mu-sigma-beta-old-old</th>\n",
       "      <th>0-gamma-mu-sigma</th>\n",
       "      <th>difference</th>\n",
       "    </tr>\n",
       "    <tr>\n",
       "      <th>clade_split</th>\n",
       "      <th></th>\n",
       "      <th></th>\n",
       "      <th></th>\n",
       "    </tr>\n",
       "  </thead>\n",
       "  <tbody>\n",
       "    <tr>\n",
       "      <th>0110000111||0001100000</th>\n",
       "      <td>0.142857</td>\n",
       "      <td>0.571429</td>\n",
       "      <td>0.428571</td>\n",
       "    </tr>\n",
       "  </tbody>\n",
       "</table>\n",
       "</div>"
      ],
      "text/plain": [
       "                        0-gamma-mu-sigma-beta-old-old  0-gamma-mu-sigma  \\\n",
       "clade_split                                                               \n",
       "0110000111||0001100000                       0.142857          0.571429   \n",
       "\n",
       "                        difference  \n",
       "clade_split                         \n",
       "0110000111||0001100000    0.428571  "
      ]
     },
     "execution_count": 86,
     "metadata": {},
     "output_type": "execute_result"
    }
   ],
   "source": [
    "difference[difference.index == \"0110000111||0001100000\"]"
   ]
  },
  {
   "cell_type": "code",
   "execution_count": 74,
   "metadata": {},
   "outputs": [
    {
     "data": {
      "text/plain": [
       "18"
      ]
     },
     "execution_count": 74,
     "metadata": {},
     "output_type": "execute_result"
    }
   ],
   "source": [
    "len(sample_branches_1[sample_branches_1.clade_split == \"0000011111||1001100000\"])"
   ]
  },
  {
   "cell_type": "code",
   "execution_count": 156,
   "metadata": {},
   "outputs": [
    {
     "data": {
      "text/plain": [
       "598       0.039454\n",
       "7636      0.039981\n",
       "11743     0.039477\n",
       "37885     0.024509\n",
       "39183     0.030712\n",
       "            ...   \n",
       "300919    0.040247\n",
       "301407    0.034142\n",
       "307023    0.037842\n",
       "311242    0.023698\n",
       "312341    0.034068\n",
       "Name: min_branch_down, Length: 61, dtype: float64"
      ]
     },
     "execution_count": 156,
     "metadata": {},
     "output_type": "execute_result"
    }
   ],
   "source": [
    "ref_branches[ref_branches.clade_split == \"0000010000||0110001000\"].min_branch_down"
   ]
  },
  {
   "cell_type": "code",
   "execution_count": 315,
   "metadata": {},
   "outputs": [
    {
     "data": {
      "text/plain": [
       "(0.0, 0.05)"
      ]
     },
     "execution_count": 315,
     "metadata": {},
     "output_type": "execute_result"
    },
    {
     "data": {
      "image/png": "[encoded data removed]",
      "text/plain": [
       "<Figure size 640x480 with 1 Axes>"
      ]
     },
     "metadata": {},
     "output_type": "display_data"
    }
   ],
   "source": [
    "sns.scatterplot(\n",
    "    x=sample_branches_1[sample_branches_1.clade_split == \"1000010111||0001100000\"].min_branch,\n",
    "    y=sample_branches_1[sample_branches_1.clade_split == \"1000010111||0001100000\"].min_branch_down,\n",
    ")\n",
    "plt.xlim((0, 0.025))\n",
    "plt.ylim((0, 0.05))"
   ]
  },
  {
   "cell_type": "code",
   "execution_count": 316,
   "metadata": {},
   "outputs": [
    {
     "data": {
      "text/plain": [
       "(0.0, 0.05)"
      ]
     },
     "execution_count": 316,
     "metadata": {},
     "output_type": "execute_result"
    },
    {
     "data": {
      "image/png": "[encoded data removed]",
      "text/plain": [
       "<Figure size 640x480 with 1 Axes>"
      ]
     },
     "metadata": {},
     "output_type": "display_data"
    }
   ],
   "source": [
    "sns.scatterplot(\n",
    "    x=sample_branches_2[sample_branches_2.clade_split == \"1000010111||0001100000\"].min_branch,\n",
    "    y=sample_branches_2[sample_branches_2.clade_split == \"1000010111||0001100000\"].min_branch_down,\n",
    ")\n",
    "plt.xlim((0, 0.025))\n",
    "plt.ylim((0, 0.05))"
   ]
  },
  {
   "cell_type": "code",
   "execution_count": 317,
   "metadata": {},
   "outputs": [
    {
     "data": {
      "text/plain": [
       "(0.0, 0.05)"
      ]
     },
     "execution_count": 317,
     "metadata": {},
     "output_type": "execute_result"
    },
    {
     "data": {
      "image/png": "[encoded data removed]",
      "text/plain": [
       "<Figure size 640x480 with 1 Axes>"
      ]
     },
     "metadata": {},
     "output_type": "display_data"
    }
   ],
   "source": [
    "sns.scatterplot(\n",
    "    x=ref_branches[ref_branches.clade_split == \"1000010111||0001100000\"].min_branch,\n",
    "    y=ref_branches[ref_branches.clade_split == \"1000010111||0001100000\"].min_branch_down,\n",
    ")\n",
    "plt.xlim((0, 0.025))\n",
    "plt.ylim((0, 0.05))"
   ]
  },
  {
   "cell_type": "code",
   "execution_count": 324,
   "metadata": {},
   "outputs": [
    {
     "data": {
      "text/plain": [
       "<matplotlib.legend.Legend at 0x324c83810>"
      ]
     },
     "execution_count": 324,
     "metadata": {},
     "output_type": "execute_result"
    },
    {
     "data": {
      "image/png": "[encoded data removed]",
      "text/plain": [
       "<Figure size 640x480 with 1 Axes>"
      ]
     },
     "metadata": {},
     "output_type": "display_data"
    }
   ],
   "source": [
    "sns.histplot(\n",
    "    x=sample_branches_1[sample_branches_1.clade_split == \"0111100000||0000010000\"].min_branch_down,\n",
    "    label=\"1\"\n",
    ")\n",
    "sns.histplot(\n",
    "    x=sample_branches_2[sample_branches_2.clade_split == \"0111100000||0000010000\"].min_branch_down,\n",
    "    label=\"2\"\n",
    ")\n",
    "sns.histplot(\n",
    "    x=ref_branches[ref_branches.clade_split == \"0111100000||0000010000\"].min_branch_down,\n",
    "    label=\"Reference\",\n",
    ")\n",
    "\n",
    "plt.legend()"
   ]
  },
  {
   "cell_type": "markdown",
   "metadata": {},
   "source": []
  },
  {
   "cell_type": "code",
   "execution_count": 320,
   "metadata": {},
   "outputs": [
    {
     "data": {
      "text/plain": [
       "array([[ 1.        , -0.08689918],\n",
       "       [-0.08689918,  1.        ]])"
      ]
     },
     "execution_count": 320,
     "metadata": {},
     "output_type": "execute_result"
    }
   ],
   "source": [
    "np.corrcoef(\n",
    "    np.log(sample_branches_1[sample_branches_1.clade_split == \"0000000111||0110001000\"].min_branch.fillna(0)),\n",
    "    np.log(sample_branches_1[sample_branches_1.clade_split == \"0000000111||0110001000\"].height.fillna(0)),\n",
    ")"
   ]
  },
  {
   "cell_type": "code",
   "execution_count": 240,
   "metadata": {},
   "outputs": [
    {
     "data": {
      "text/plain": [
       "array([[ 1.        , -0.02049647],\n",
       "       [-0.02049647,  1.        ]])"
      ]
     },
     "execution_count": 240,
     "metadata": {},
     "output_type": "execute_result"
    }
   ],
   "source": [
    "np.corrcoef(\n",
    "    sample_branches_2[sample_branches_2.clade_split == \"0000000111||0110001000\"].min_branch,\n",
    "    sample_branches_2[sample_branches_2.clade_split == \"0000000111||0110001000\"].min_branch_down,\n",
    ")"
   ]
  },
  {
   "cell_type": "code",
   "execution_count": 137,
   "metadata": {},
   "outputs": [
    {
     "data": {
      "text/plain": [
       "clade_split\n",
       "0000000001||0000000010             NaN\n",
       "0000000001||0000000100             NaN\n",
       "0000000001||0000000110   -1.388903e-06\n",
       "0000000011||0000000100   -1.751288e-07\n",
       "0000000100||0000000010             NaN\n",
       "                              ...     \n",
       "1111100111||0000011000   -8.452225e-06\n",
       "1111101000||0000010000   -4.099847e-06\n",
       "1111101111||0000010000   -5.258856e-06\n",
       "1111110000||0000001000    2.771587e-07\n",
       "1111110111||0000001000   -6.447979e-07\n",
       "Length: 279, dtype: float64"
      ]
     },
     "execution_count": 137,
     "metadata": {},
     "output_type": "execute_result"
    }
   ],
   "source": []
  },
  {
   "cell_type": "code",
   "execution_count": 226,
   "metadata": {},
   "outputs": [
    {
     "data": {
      "text/plain": [
       "(np.float64(-0.13086911818117142),\n",
       " np.float64(-0.06174997497480198),\n",
       " np.float64(-0.000344369024026595))"
      ]
     },
     "execution_count": 226,
     "metadata": {},
     "output_type": "execute_result"
    }
   ],
   "source": [
    "sample_gof_1"
   ]
  },
  {
   "cell_type": "code",
   "execution_count": null,
   "metadata": {},
   "outputs": [],
   "source": []
  },
  {
   "cell_type": "code",
   "execution_count": null,
   "metadata": {},
   "outputs": [],
   "source": []
  }
 ],
 "metadata": {
  "kernelspec": {
   "display_name": ".venv",
   "language": "python",
   "name": "python3"
  },
  "language_info": {
   "codemirror_mode": {
    "name": "ipython",
    "version": 3
   },
   "file_extension": ".py",
   "mimetype": "text/x-python",
   "name": "python",
   "nbconvert_exporter": "python",
   "pygments_lexer": "ipython3",
   "version": "3.11.9"
  }
 },
 "nbformat": 4,
 "nbformat_minor": 2
}
