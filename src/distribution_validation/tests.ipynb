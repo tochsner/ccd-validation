{
 "cells": [
  {
   "cell_type": "code",
   "execution_count": 1,
   "metadata": {},
   "outputs": [],
   "source": [
    "import pandas as pd\n",
    "import numpy as np"
   ]
  },
  {
   "cell_type": "code",
   "execution_count": 2,
   "metadata": {},
   "outputs": [],
   "source": [
    "log = pd.read_csv(\"data/likelihood_data/yule-10_140_100_logs_gamma-beta-corr.log\")\n",
    "normal = pd.read_csv(\"data/likelihood_data_non_log/yule-10_140_100_logs_gamma-beta-corr.log\")"
   ]
  },
  {
   "cell_type": "code",
   "execution_count": 3,
   "metadata": {},
   "outputs": [
    {
     "name": "stderr",
     "output_type": "stream",
     "text": [
      "/Users/tobiaochsner/Documents/Thesis/Validation/.venv/lib/python3.11/site-packages/pandas/core/arraylike.py:399: RuntimeWarning: divide by zero encountered in log\n",
      "  result = getattr(ufunc, method)(*inputs, **kwargs)\n"
     ]
    }
   ],
   "source": [
    "normal.log_posterior = np.log(normal.log_posterior)"
   ]
  },
  {
   "cell_type": "code",
   "execution_count": 4,
   "metadata": {},
   "outputs": [],
   "source": [
    "normal = normal.sort_values(\"state\")\n",
    "log = log.sort_values(\"state\")"
   ]
  },
  {
   "cell_type": "code",
   "execution_count": 5,
   "metadata": {},
   "outputs": [
    {
     "name": "stderr",
     "output_type": "stream",
     "text": [
      "/Users/tobiaochsner/Documents/Thesis/Validation/.venv/lib/python3.11/site-packages/pandas/core/nanops.py:1016: RuntimeWarning: invalid value encountered in subtract\n",
      "  sqr = _ensure_numeric((avg - values) ** 2)\n"
     ]
    },
    {
     "data": {
      "text/plain": [
       "count    4.924700e+04\n",
       "mean             -inf\n",
       "std               NaN\n",
       "min              -inf\n",
       "25%      3.501807e+01\n",
       "50%      3.754887e+01\n",
       "75%      3.929080e+01\n",
       "max      4.875719e+01\n",
       "Name: log_posterior, dtype: float64"
      ]
     },
     "execution_count": 5,
     "metadata": {},
     "output_type": "execute_result"
    }
   ],
   "source": [
    "normal.log_posterior.describe()"
   ]
  },
  {
   "cell_type": "code",
   "execution_count": 6,
   "metadata": {},
   "outputs": [
    {
     "name": "stderr",
     "output_type": "stream",
     "text": [
      "/Users/tobiaochsner/Documents/Thesis/Validation/.venv/lib/python3.11/site-packages/pandas/core/nanops.py:1016: RuntimeWarning: invalid value encountered in subtract\n",
      "  sqr = _ensure_numeric((avg - values) ** 2)\n"
     ]
    },
    {
     "data": {
      "text/plain": [
       "count    4.924700e+04\n",
       "mean             -inf\n",
       "std               NaN\n",
       "min              -inf\n",
       "25%      3.528666e+01\n",
       "50%      3.759947e+01\n",
       "75%      3.929982e+01\n",
       "max      4.405939e+01\n",
       "Name: log_posterior, dtype: float64"
      ]
     },
     "execution_count": 6,
     "metadata": {},
     "output_type": "execute_result"
    }
   ],
   "source": [
    "log.log_posterior.describe()"
   ]
  },
  {
   "cell_type": "code",
   "execution_count": 7,
   "metadata": {},
   "outputs": [
    {
     "data": {
      "text/plain": [
       "count    4.687000e+04\n",
       "mean    -2.444540e+01\n",
       "std      9.646902e+03\n",
       "min     -2.048282e+06\n",
       "25%      3.572515e+01\n",
       "50%      3.777903e+01\n",
       "75%      3.938190e+01\n",
       "max      4.405939e+01\n",
       "Name: log_posterior, dtype: float64"
      ]
     },
     "execution_count": 7,
     "metadata": {},
     "output_type": "execute_result"
    }
   ],
   "source": [
    "log.log_posterior[log.log_posterior != -np.inf].describe()"
   ]
  },
  {
   "cell_type": "code",
   "execution_count": 8,
   "metadata": {},
   "outputs": [
    {
     "data": {
      "text/plain": [
       "count    44836.000000\n",
       "mean        37.284243\n",
       "std          7.788570\n",
       "min       -699.757632\n",
       "25%         35.905847\n",
       "50%         37.882650\n",
       "75%         39.450699\n",
       "max         48.757193\n",
       "Name: log_posterior, dtype: float64"
      ]
     },
     "execution_count": 8,
     "metadata": {},
     "output_type": "execute_result"
    }
   ],
   "source": [
    "normal.log_posterior[normal.log_posterior != -np.inf].describe()"
   ]
  },
  {
   "cell_type": "code",
   "execution_count": 9,
   "metadata": {},
   "outputs": [
    {
     "data": {
      "text/plain": [
       "46870"
      ]
     },
     "execution_count": 9,
     "metadata": {},
     "output_type": "execute_result"
    }
   ],
   "source": [
    "len(log.log_posterior[log.log_posterior != -np.inf])"
   ]
  },
  {
   "cell_type": "code",
   "execution_count": 10,
   "metadata": {},
   "outputs": [
    {
     "data": {
      "text/plain": [
       "44836"
      ]
     },
     "execution_count": 10,
     "metadata": {},
     "output_type": "execute_result"
    }
   ],
   "source": [
    "len(normal.log_posterior[normal.log_posterior != -np.inf])"
   ]
  },
  {
   "cell_type": "code",
   "execution_count": 11,
   "metadata": {},
   "outputs": [
    {
     "data": {
      "text/html": [
       "<div>\n",
       "<style scoped>\n",
       "    .dataframe tbody tr th:only-of-type {\n",
       "        vertical-align: middle;\n",
       "    }\n",
       "\n",
       "    .dataframe tbody tr th {\n",
       "        vertical-align: top;\n",
       "    }\n",
       "\n",
       "    .dataframe thead th {\n",
       "        text-align: right;\n",
       "    }\n",
       "</style>\n",
       "<table border=\"1\" class=\"dataframe\">\n",
       "  <thead>\n",
       "    <tr style=\"text-align: right;\">\n",
       "      <th></th>\n",
       "      <th>state</th>\n",
       "      <th>log_posterior</th>\n",
       "    </tr>\n",
       "  </thead>\n",
       "  <tbody>\n",
       "    <tr>\n",
       "      <th>14199</th>\n",
       "      <td>STATE_25153000</td>\n",
       "      <td>-2.048282e+06</td>\n",
       "    </tr>\n",
       "    <tr>\n",
       "      <th>15040</th>\n",
       "      <td>STATE_24881000</td>\n",
       "      <td>-2.820045e+05</td>\n",
       "    </tr>\n",
       "    <tr>\n",
       "      <th>33709</th>\n",
       "      <td>STATE_38835000</td>\n",
       "      <td>-2.522150e+05</td>\n",
       "    </tr>\n",
       "    <tr>\n",
       "      <th>41141</th>\n",
       "      <td>STATE_23611000</td>\n",
       "      <td>-1.340467e+05</td>\n",
       "    </tr>\n",
       "    <tr>\n",
       "      <th>7702</th>\n",
       "      <td>STATE_1626000</td>\n",
       "      <td>-4.364588e+04</td>\n",
       "    </tr>\n",
       "    <tr>\n",
       "      <th>11449</th>\n",
       "      <td>STATE_18799000</td>\n",
       "      <td>-3.558875e+04</td>\n",
       "    </tr>\n",
       "    <tr>\n",
       "      <th>23267</th>\n",
       "      <td>STATE_24920000</td>\n",
       "      <td>-3.091623e+04</td>\n",
       "    </tr>\n",
       "    <tr>\n",
       "      <th>6592</th>\n",
       "      <td>STATE_32367000</td>\n",
       "      <td>-3.008083e+04</td>\n",
       "    </tr>\n",
       "    <tr>\n",
       "      <th>28554</th>\n",
       "      <td>STATE_33657000</td>\n",
       "      <td>-8.504268e+03</td>\n",
       "    </tr>\n",
       "    <tr>\n",
       "      <th>37479</th>\n",
       "      <td>STATE_30127000</td>\n",
       "      <td>-4.907828e+03</td>\n",
       "    </tr>\n",
       "  </tbody>\n",
       "</table>\n",
       "</div>"
      ],
      "text/plain": [
       "                state  log_posterior\n",
       "14199  STATE_25153000  -2.048282e+06\n",
       "15040  STATE_24881000  -2.820045e+05\n",
       "33709  STATE_38835000  -2.522150e+05\n",
       "41141  STATE_23611000  -1.340467e+05\n",
       "7702    STATE_1626000  -4.364588e+04\n",
       "11449  STATE_18799000  -3.558875e+04\n",
       "23267  STATE_24920000  -3.091623e+04\n",
       "6592   STATE_32367000  -3.008083e+04\n",
       "28554  STATE_33657000  -8.504268e+03\n",
       "37479  STATE_30127000  -4.907828e+03"
      ]
     },
     "execution_count": 11,
     "metadata": {},
     "output_type": "execute_result"
    }
   ],
   "source": [
    "log[log.log_posterior != -np.inf].sort_values(\"log_posterior\", ascending=True).head(10)"
   ]
  },
  {
   "cell_type": "code",
   "execution_count": 12,
   "metadata": {},
   "outputs": [
    {
     "data": {
      "text/html": [
       "<div>\n",
       "<style scoped>\n",
       "    .dataframe tbody tr th:only-of-type {\n",
       "        vertical-align: middle;\n",
       "    }\n",
       "\n",
       "    .dataframe tbody tr th {\n",
       "        vertical-align: top;\n",
       "    }\n",
       "\n",
       "    .dataframe thead th {\n",
       "        text-align: right;\n",
       "    }\n",
       "</style>\n",
       "<table border=\"1\" class=\"dataframe\">\n",
       "  <thead>\n",
       "    <tr style=\"text-align: right;\">\n",
       "      <th></th>\n",
       "      <th>state</th>\n",
       "      <th>log_posterior</th>\n",
       "    </tr>\n",
       "  </thead>\n",
       "  <tbody>\n",
       "    <tr>\n",
       "      <th>18255</th>\n",
       "      <td>STATE_44920000</td>\n",
       "      <td>-699.757632</td>\n",
       "    </tr>\n",
       "    <tr>\n",
       "      <th>17826</th>\n",
       "      <td>STATE_8167000</td>\n",
       "      <td>-641.784978</td>\n",
       "    </tr>\n",
       "    <tr>\n",
       "      <th>28498</th>\n",
       "      <td>STATE_36276000</td>\n",
       "      <td>-573.930941</td>\n",
       "    </tr>\n",
       "    <tr>\n",
       "      <th>47456</th>\n",
       "      <td>STATE_40241000</td>\n",
       "      <td>-466.100639</td>\n",
       "    </tr>\n",
       "    <tr>\n",
       "      <th>31430</th>\n",
       "      <td>STATE_31634000</td>\n",
       "      <td>-391.791318</td>\n",
       "    </tr>\n",
       "    <tr>\n",
       "      <th>17925</th>\n",
       "      <td>STATE_39716000</td>\n",
       "      <td>-286.889533</td>\n",
       "    </tr>\n",
       "    <tr>\n",
       "      <th>30442</th>\n",
       "      <td>STATE_18424000</td>\n",
       "      <td>-233.268434</td>\n",
       "    </tr>\n",
       "    <tr>\n",
       "      <th>24787</th>\n",
       "      <td>STATE_45842000</td>\n",
       "      <td>-226.364668</td>\n",
       "    </tr>\n",
       "    <tr>\n",
       "      <th>3974</th>\n",
       "      <td>STATE_18564000</td>\n",
       "      <td>-195.812591</td>\n",
       "    </tr>\n",
       "    <tr>\n",
       "      <th>31035</th>\n",
       "      <td>STATE_20707000</td>\n",
       "      <td>-171.030354</td>\n",
       "    </tr>\n",
       "  </tbody>\n",
       "</table>\n",
       "</div>"
      ],
      "text/plain": [
       "                state  log_posterior\n",
       "18255  STATE_44920000    -699.757632\n",
       "17826   STATE_8167000    -641.784978\n",
       "28498  STATE_36276000    -573.930941\n",
       "47456  STATE_40241000    -466.100639\n",
       "31430  STATE_31634000    -391.791318\n",
       "17925  STATE_39716000    -286.889533\n",
       "30442  STATE_18424000    -233.268434\n",
       "24787  STATE_45842000    -226.364668\n",
       "3974   STATE_18564000    -195.812591\n",
       "31035  STATE_20707000    -171.030354"
      ]
     },
     "execution_count": 12,
     "metadata": {},
     "output_type": "execute_result"
    }
   ],
   "source": [
    "normal[normal.log_posterior != -np.inf].sort_values(\"log_posterior\", ascending=True).head(10)"
   ]
  },
  {
   "cell_type": "code",
   "execution_count": null,
   "metadata": {},
   "outputs": [],
   "source": []
  }
 ],
 "metadata": {
  "kernelspec": {
   "display_name": ".venv",
   "language": "python",
   "name": "python3"
  },
  "language_info": {
   "codemirror_mode": {
    "name": "ipython",
    "version": 3
   },
   "file_extension": ".py",
   "mimetype": "text/x-python",
   "name": "python",
   "nbconvert_exporter": "python",
   "pygments_lexer": "ipython3",
   "version": "3.11.9"
  }
 },
 "nbformat": 4,
 "nbformat_minor": 2
}
