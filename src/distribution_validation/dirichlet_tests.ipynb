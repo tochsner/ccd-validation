{
 "cells": [
  {
   "cell_type": "code",
   "execution_count": 95,
   "metadata": {},
   "outputs": [],
   "source": [
    "import numpy as np\n",
    "from scipy.stats._continuous_distns import _digammainv\n",
    "from scipy.special import digamma"
   ]
  },
  {
   "cell_type": "code",
   "execution_count": 96,
   "metadata": {},
   "outputs": [
    {
     "data": {
      "text/plain": [
       "array([0.16977405, 1.21056234, 2.77021185, 0.61632493, 0.35530837,\n",
       "       0.04510913, 0.34576634, 0.34996197, 1.4987906 , 1.06746012])"
      ]
     },
     "execution_count": 96,
     "metadata": {},
     "output_type": "execute_result"
    }
   ],
   "source": [
    "alpha = np.random.gamma(1, 1, 10)\n",
    "samples = np.random.dirichlet(alpha, 1000)\n",
    "alpha"
   ]
  },
  {
   "cell_type": "code",
   "execution_count": 97,
   "metadata": {},
   "outputs": [],
   "source": [
    "def estimate_1():\n",
    "    a = np.ones(10) * 2 / 10\n",
    "\n",
    "    for _ in range(1000):\n",
    "        a = np.vectorize(_digammainv)(digamma(np.sum(a)) + np.log(samples).mean(axis=0))\n",
    "\n",
    "    return a"
   ]
  },
  {
   "cell_type": "code",
   "execution_count": 98,
   "metadata": {},
   "outputs": [
    {
     "data": {
      "text/plain": [
       "array([0.16974449, 1.24197326, 2.85404119, 0.59260869, 0.36408666,\n",
       "       0.04628738, 0.33656734, 0.36737494, 1.54333726, 1.09568957])"
      ]
     },
     "execution_count": 98,
     "metadata": {},
     "output_type": "execute_result"
    }
   ],
   "source": [
    "estimate_1()"
   ]
  },
  {
   "cell_type": "code",
   "execution_count": 99,
   "metadata": {},
   "outputs": [],
   "source": [
    "def estimate_2():\n",
    "    return np.vectorize(_digammainv)(digamma(np.sum(alpha)) + np.log(samples).mean(axis=0))"
   ]
  },
  {
   "cell_type": "code",
   "execution_count": 100,
   "metadata": {},
   "outputs": [
    {
     "data": {
      "text/plain": [
       "array([0.16911602, 1.22336384, 2.800394  , 0.58653875, 0.36146388,\n",
       "       0.04623892, 0.33429121, 0.36470955, 1.51836961, 1.0800886 ])"
      ]
     },
     "execution_count": 100,
     "metadata": {},
     "output_type": "execute_result"
    }
   ],
   "source": [
    "estimate_2()"
   ]
  },
  {
   "cell_type": "code",
   "execution_count": null,
   "metadata": {},
   "outputs": [],
   "source": []
  }
 ],
 "metadata": {
  "kernelspec": {
   "display_name": ".venv",
   "language": "python",
   "name": "python3"
  },
  "language_info": {
   "codemirror_mode": {
    "name": "ipython",
    "version": 3
   },
   "file_extension": ".py",
   "mimetype": "text/x-python",
   "name": "python",
   "nbconvert_exporter": "python",
   "pygments_lexer": "ipython3",
   "version": "3.11.9"
  }
 },
 "nbformat": 4,
 "nbformat_minor": 2
}
