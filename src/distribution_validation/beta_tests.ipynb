{
 "cells": [
  {
   "cell_type": "code",
   "execution_count": 1,
   "metadata": {},
   "outputs": [],
   "source": [
    "import numpy as np\n",
    "from scipy.stats._continuous_distns import _tri\n",
    "from scipy.special import digamma"
   ]
  },
  {
   "cell_type": "code",
   "execution_count": 7,
   "metadata": {},
   "outputs": [],
   "source": [
    "scale = 0.1\n",
    "shape = 0.5\n",
    "samples = np.random.gamma(shape, scale, 10000)"
   ]
  },
  {
   "cell_type": "code",
   "execution_count": 15,
   "metadata": {},
   "outputs": [
    {
     "name": "stdout",
     "output_type": "stream",
     "text": [
      "0.3886948311070268\n",
      "0.14360128378077638\n",
      "0.02263902431316944\n",
      "0.000538808068105625\n",
      "2.912209816524133e-07\n",
      "8.480998856240371e-14\n",
      "7.192734159972339e-27\n",
      "5.173542469603299e-53\n",
      "2.6765541684788998e-105\n",
      "7.163942216801775e-210\n"
     ]
    },
    {
     "name": "stderr",
     "output_type": "stream",
     "text": [
      "/var/folders/f_/r0jt4c1153v7d286lm9gbgx80000gn/T/ipykernel_289/2306303291.py:10: RuntimeWarning: divide by zero encountered in scalar divide\n",
      "  + (lm - np.log(m) + np.log(x) - digamma(x)) / (x**2 * (1 / x - _digammainv(x)))\n"
     ]
    },
    {
     "data": {
      "text/plain": [
       "np.float64(0.0)"
      ]
     },
     "execution_count": 15,
     "metadata": {},
     "output_type": "execute_result"
    }
   ],
   "source": [
    "m = np.mean(samples)\n",
    "lm = np.mean(np.log(samples))\n",
    "\n",
    "x = 0.5 / (np.log(m) - lm)\n",
    "\n",
    "for _ in range(10):\n",
    "    print(x)\n",
    "    x = 1 / (\n",
    "        1 / x\n",
    "        + (lm - np.log(m) + np.log(x) - digamma(x)) / (x**2 * (1 / x - _digammainv(x)))\n",
    "    )\n",
    "\n",
    "x"
   ]
  },
  {
   "cell_type": "code",
   "execution_count": 98,
   "metadata": {},
   "outputs": [
    {
     "data": {
      "text/plain": [
       "array([0.16974449, 1.24197326, 2.85404119, 0.59260869, 0.36408666,\n",
       "       0.04628738, 0.33656734, 0.36737494, 1.54333726, 1.09568957])"
      ]
     },
     "execution_count": 98,
     "metadata": {},
     "output_type": "execute_result"
    }
   ],
   "source": [
    "estimate_1()"
   ]
  },
  {
   "cell_type": "code",
   "execution_count": 99,
   "metadata": {},
   "outputs": [],
   "source": [
    "def estimate_2():\n",
    "    return np.vectorize(_digammainv)(digamma(np.sum(alpha)) + np.log(samples).mean(axis=0))"
   ]
  },
  {
   "cell_type": "code",
   "execution_count": 100,
   "metadata": {},
   "outputs": [
    {
     "data": {
      "text/plain": [
       "array([0.16911602, 1.22336384, 2.800394  , 0.58653875, 0.36146388,\n",
       "       0.04623892, 0.33429121, 0.36470955, 1.51836961, 1.0800886 ])"
      ]
     },
     "execution_count": 100,
     "metadata": {},
     "output_type": "execute_result"
    }
   ],
   "source": [
    "estimate_2()"
   ]
  },
  {
   "cell_type": "code",
   "execution_count": null,
   "metadata": {},
   "outputs": [],
   "source": []
  }
 ],
 "metadata": {
  "kernelspec": {
   "display_name": ".venv",
   "language": "python",
   "name": "python3"
  },
  "language_info": {
   "codemirror_mode": {
    "name": "ipython",
    "version": 3
   },
   "file_extension": ".py",
   "mimetype": "text/x-python",
   "name": "python",
   "nbconvert_exporter": "python",
   "pygments_lexer": "ipython3",
   "version": "3.11.9"
  }
 },
 "nbformat": 4,
 "nbformat_minor": 2
}
