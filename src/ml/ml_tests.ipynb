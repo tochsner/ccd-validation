{
 "cells": [
  {
   "cell_type": "code",
   "execution_count": 1,
   "metadata": {},
   "outputs": [],
   "source": [
    "from typing import Any\n",
    "\n",
    "import lightning.pytorch as pl\n",
    "import torch\n",
    "from lightning.pytorch.callbacks import ModelCheckpoint\n",
    "import mlflow\n",
    "from torch.utils.data import DataLoader, Dataset\n",
    "\n",
    "from src.ml.data.splitting import create_data_splits\n",
    "from src.ml.modeling import (\n",
    "    model_factory,\n",
    "    optimizer_factory,\n",
    ")\n",
    "from src.ml.utils.set_seed import set_seed\n",
    "\n",
    "from datetime import datetime\n",
    "from loguru import logger\n",
    "from pathlib import Path\n",
    "from shutil import copy, copytree, rmtree\n",
    "\n",
    "import yaml\n",
    "\n",
    "from src.ml.train_neural_network import train_neural_network\n",
    "from src.ml.data import data_sets_factory\n",
    "from src.ml.preprocessing import preprocessing_factory\n",
    "from src.ml.utils.set_seed import set_seed"
   ]
  },
  {
   "cell_type": "code",
   "execution_count": 2,
   "metadata": {},
   "outputs": [],
   "source": [
    "CONFIG_FILE = Path(\"src/ml/config.yaml\")"
   ]
  },
  {
   "cell_type": "code",
   "execution_count": 3,
   "metadata": {},
   "outputs": [],
   "source": [
    "torch.set_default_device(torch.device(\"cpu\"))"
   ]
  },
  {
   "cell_type": "code",
   "execution_count": 4,
   "metadata": {},
   "outputs": [
    {
     "name": "stderr",
     "output_type": "stream",
     "text": [
      "\u001b[32m2025-01-09 13:35:59.043\u001b[0m | \u001b[1mINFO    \u001b[0m | \u001b[36m__main__\u001b[0m:\u001b[36m<module>\u001b[0m:\u001b[36m3\u001b[0m - \u001b[1mLoading config file.\u001b[0m\n"
     ]
    }
   ],
   "source": [
    "# load config file\n",
    "\n",
    "logger.info(\"Loading config file.\")\n",
    "\n",
    "with open(CONFIG_FILE, \"r\") as f:\n",
    "    config = yaml.safe_load(f)"
   ]
  },
  {
   "cell_type": "code",
   "execution_count": 5,
   "metadata": {},
   "outputs": [
    {
     "name": "stderr",
     "output_type": "stream",
     "text": [
      "\u001b[32m2025-01-09 13:35:59.049\u001b[0m | \u001b[1mINFO    \u001b[0m | \u001b[36m__main__\u001b[0m:\u001b[36m<module>\u001b[0m:\u001b[36m3\u001b[0m - \u001b[1mLoading data.\u001b[0m\n",
      "\u001b[32m2025-01-09 13:36:06.879\u001b[0m | \u001b[1mINFO    \u001b[0m | \u001b[36m__main__\u001b[0m:\u001b[36m<module>\u001b[0m:\u001b[36m9\u001b[0m - \u001b[1mStart preprocessing.\u001b[0m\n",
      "\u001b[32m2025-01-09 13:36:06.879\u001b[0m | \u001b[1mINFO    \u001b[0m | \u001b[36m__main__\u001b[0m:\u001b[36m<module>\u001b[0m:\u001b[36m12\u001b[0m - \u001b[1mPerform add_taxa_names preprocessing.\u001b[0m\n",
      "\u001b[32m2025-01-09 13:36:07.801\u001b[0m | \u001b[1mINFO    \u001b[0m | \u001b[36m__main__\u001b[0m:\u001b[36m<module>\u001b[0m:\u001b[36m12\u001b[0m - \u001b[1mPerform add_relative_clade_information preprocessing.\u001b[0m\n",
      "\u001b[32m2025-01-09 13:36:09.251\u001b[0m | \u001b[1mINFO    \u001b[0m | \u001b[36m__main__\u001b[0m:\u001b[36m<module>\u001b[0m:\u001b[36m12\u001b[0m - \u001b[1mPerform remove_tree preprocessing.\u001b[0m\n"
     ]
    }
   ],
   "source": [
    "# load data\n",
    "\n",
    "logger.info(\"Loading data.\")\n",
    "\n",
    "_, data_sets = next(iter(data_sets_factory(**config[\"data_set\"])))\n",
    "\n",
    "# preprocess data\n",
    "\n",
    "logger.info(\"Start preprocessing.\")\n",
    "\n",
    "for preprocessing_step in config[\"preprocessing\"]:\n",
    "    logger.info(\"Perform {} preprocessing.\", preprocessing_step[\"name\"])\n",
    "\n",
    "    transform = preprocessing_factory(**preprocessing_step)\n",
    "    data_sets = transform(data_sets)\n",
    "\n",
    "dataset = data_sets"
   ]
  },
  {
   "cell_type": "code",
   "execution_count": 6,
   "metadata": {},
   "outputs": [],
   "source": [
    "train_dataset, val_dataset, test_dataset = create_data_splits(\n",
    "    dataset, **config[\"training\"][\"splitting_config\"]\n",
    ")"
   ]
  },
  {
   "cell_type": "code",
   "execution_count": 7,
   "metadata": {},
   "outputs": [],
   "source": [
    "train_loader = DataLoader(train_dataset, **config[\"training\"][\"dataloader_config\"])\n",
    "test_loader = DataLoader(test_dataset,batch_size=2)\n",
    "val_loader = DataLoader(val_dataset, batch_size=128)\n",
    "\n",
    "optimizer = optimizer_factory(**config[\"training\"][\"optimizer_config\"])\n",
    "model = model_factory(\n",
    "    optimizer=optimizer,\n",
    "    input_example=train_dataset[0],\n",
    "    **config[\"training\"][\"model_config\"],\n",
    ")"
   ]
  },
  {
   "cell_type": "code",
   "execution_count": 8,
   "metadata": {},
   "outputs": [],
   "source": [
    "from src.ml.modeling.weight_sharing_tree_flow import WeightSharingTreeFlow\n",
    "\n",
    "model = WeightSharingTreeFlow.load_from_checkpoint(\"ml_data/models/debug_2025_01_09_13_31_47/yule-10_140/epoch=19-val_loss=-24.53.ckpt\")\n",
    "model = model.eval()"
   ]
  },
  {
   "cell_type": "code",
   "execution_count": 17,
   "metadata": {},
   "outputs": [
    {
     "data": {
      "text/plain": [
       "array([[0. , 0. , 0. , ..., 0.5, 0.5, 0.5],\n",
       "       [0. , 0. , 0. , ..., 0.5, 0.5, 0.5],\n",
       "       [0. , 0. , 0. , ..., 0.5, 0.5, 0.5],\n",
       "       ...,\n",
       "       [0.5, 0. , 0. , ..., 0.5, 0.5, 0.5],\n",
       "       [0. , 0. , 0. , ..., 0.5, 0.5, 0.5],\n",
       "       [0. , 0. , 0. , ..., 0.5, 0.5, 0.5]], dtype=float32)"
      ]
     },
     "execution_count": 17,
     "metadata": {},
     "output_type": "execute_result"
    }
   ],
   "source": [
    "latent_space"
   ]
  },
  {
   "cell_type": "code",
   "execution_count": 16,
   "metadata": {},
   "outputs": [
    {
     "data": {
      "text/plain": [
       "<Axes: xlabel='None', ylabel='None'>"
      ]
     },
     "execution_count": 16,
     "metadata": {},
     "output_type": "execute_result"
    },
    {
     "data": {
      "image/png": "[encoded data removed]",
      "text/plain": [
       "<Figure size 640x480 with 1 Axes>"
      ]
     },
     "metadata": {},
     "output_type": "display_data"
    }
   ],
   "source": [
    "import seaborn as sns\n",
    "sample = next(iter(val_loader))\n",
    "latent_space = model.forward(sample)[\"z\"].detach().numpy()\n",
    "sns.scatterplot(x=latent_space[:, -4], y=latent_space[:, 5])\n",
    "\n",
    "prior_latent_space = model.sample_from_base((100,))\n",
    "sns.scatterplot(x=prior_latent_space[:, 0], y=prior_latent_space[:, 1])"
   ]
  },
  {
   "cell_type": "code",
   "execution_count": 18,
   "metadata": {},
   "outputs": [],
   "source": [
    "latent = model.forward(sample)\n",
    "output = model.inverse(latent)"
   ]
  },
  {
   "cell_type": "code",
   "execution_count": 31,
   "metadata": {},
   "outputs": [
    {
     "name": "stdout",
     "output_type": "stream",
     "text": [
      "InverseSigmoidFlowLayer()\n"
     ]
    },
    {
     "data": {
      "text/plain": [
       "tensor(5.7504)"
      ]
     },
     "execution_count": 31,
     "metadata": {},
     "output_type": "execute_result"
    }
   ],
   "source": [
    "batch_mask = model.get_batch_mask(sample)\n",
    "transformed = model.encode(sample)\n",
    "\n",
    "for flow in model.flows[:1]:\n",
    "    transformed[\"z\"] = transformed[\"z\"] * batch_mask\n",
    "\n",
    "    result = flow.forward(**transformed)\n",
    "\n",
    "    transformed[\"z\"] = torch.nan_to_num(result[\"z\"] * batch_mask)\n",
    "    transformed[\"log_dj\"] += torch.sum(\n",
    "        torch.nan_to_num(result[\"log_dj\"] * batch_mask),\n",
    "        dim=list(range(1, result[\"log_dj\"].dim())),\n",
    "    )\n",
    "\n",
    "    print(flow)\n",
    "\n",
    "transformed[\"z\"].max()"
   ]
  },
  {
   "cell_type": "code",
   "execution_count": 19,
   "metadata": {},
   "outputs": [
    {
     "data": {
      "text/plain": [
       "(tensor([1.7367e-01, 6.0198e-01, 2.9673e-02, 2.8269e-01, 6.8822e-01, 9.0598e-01,\n",
       "         6.4103e-01, 9.4204e-01, 1.0000e-06]),\n",
       " tensor([0.5000, 0.5000, 0.5000, 0.5000, 0.5000, 0.5000, 0.5000, 0.5000, 0.5000],\n",
       "        grad_fn=<SelectBackward0>))"
      ]
     },
     "execution_count": 19,
     "metadata": {},
     "output_type": "execute_result"
    }
   ],
   "source": [
    "sample[\"branch_lengths\"][0], output[\"branch_lengths\"][0]"
   ]
  },
  {
   "cell_type": "code",
   "execution_count": 12,
   "metadata": {},
   "outputs": [
    {
     "ename": "RuntimeError",
     "evalue": "The size of tensor a (63) must match the size of tensor b (128) at non-singleton dimension 1",
     "output_type": "error",
     "traceback": [
      "\u001b[0;31m---------------------------------------------------------------------------\u001b[0m",
      "\u001b[0;31mRuntimeError\u001b[0m                              Traceback (most recent call last)",
      "Cell \u001b[0;32mIn[12], line 11\u001b[0m\n\u001b[1;32m      9\u001b[0m latent \u001b[38;5;241m=\u001b[39m model\u001b[38;5;241m.\u001b[39mforward(sample)\n\u001b[1;32m     10\u001b[0m latent[\u001b[38;5;124m\"\u001b[39m\u001b[38;5;124mz\u001b[39m\u001b[38;5;124m\"\u001b[39m] \u001b[38;5;241m=\u001b[39m prior\u001b[38;5;241m.\u001b[39mclone()\n\u001b[0;32m---> 11\u001b[0m rs \u001b[38;5;241m=\u001b[39m \u001b[43mmodel\u001b[49m\u001b[38;5;241;43m.\u001b[39;49m\u001b[43msample\u001b[49m\u001b[43m(\u001b[49m\u001b[43msample\u001b[49m\u001b[43m)\u001b[49m[\u001b[38;5;124m\"\u001b[39m\u001b[38;5;124mbranch_lengths\u001b[39m\u001b[38;5;124m\"\u001b[39m]\n\u001b[1;32m     12\u001b[0m rs \u001b[38;5;241m=\u001b[39m rs\u001b[38;5;241m.\u001b[39mdetach()\u001b[38;5;241m.\u001b[39mnumpy()\n\u001b[1;32m     13\u001b[0m sns\u001b[38;5;241m.\u001b[39mhistplot(rs[:,\u001b[38;5;241m7\u001b[39m])\n",
      "File \u001b[0;32m~/Documents/Thesis/Validation/src/ml/modeling/weight_sharing_tree_flow.py:222\u001b[0m, in \u001b[0;36mWeightSharingTreeFlow.sample\u001b[0;34m(self, batch)\u001b[0m\n\u001b[1;32m    221\u001b[0m \u001b[38;5;28;01mdef\u001b[39;00m \u001b[38;5;21msample\u001b[39m(\u001b[38;5;28mself\u001b[39m, batch):\n\u001b[0;32m--> 222\u001b[0m     sample \u001b[38;5;241m=\u001b[39m \u001b[38;5;28;43msuper\u001b[39;49m\u001b[43m(\u001b[49m\u001b[43m)\u001b[49m\u001b[38;5;241;43m.\u001b[39;49m\u001b[43msample\u001b[49m\u001b[43m(\u001b[49m\u001b[43mbatch\u001b[49m\u001b[43m)\u001b[49m\n\u001b[1;32m    224\u001b[0m     \u001b[38;5;28;01mif\u001b[39;00m \u001b[38;5;28mself\u001b[39m\u001b[38;5;241m.\u001b[39mheight_model:\n\u001b[1;32m    225\u001b[0m         sample[\u001b[38;5;124m\"\u001b[39m\u001b[38;5;124mtree_height\u001b[39m\u001b[38;5;124m\"\u001b[39m] \u001b[38;5;241m=\u001b[39m \u001b[38;5;28mself\u001b[39m\u001b[38;5;241m.\u001b[39mheight_model\u001b[38;5;241m.\u001b[39msample(\n\u001b[1;32m    226\u001b[0m             (batch[\u001b[38;5;124m\"\u001b[39m\u001b[38;5;124mbranch_lengths\u001b[39m\u001b[38;5;124m\"\u001b[39m]\u001b[38;5;241m.\u001b[39mshape[\u001b[38;5;241m0\u001b[39m],)\n\u001b[1;32m    227\u001b[0m         )\n",
      "File \u001b[0;32m~/Documents/Thesis/Validation/src/ml/modeling/normalizing_flow.py:83\u001b[0m, in \u001b[0;36mNormalizingFlow.sample\u001b[0;34m(self, batch)\u001b[0m\n\u001b[1;32m     80\u001b[0m prior_sample \u001b[38;5;241m=\u001b[39m \u001b[38;5;28mself\u001b[39m\u001b[38;5;241m.\u001b[39msample_from_base(transformed[\u001b[38;5;124m\"\u001b[39m\u001b[38;5;124mz\u001b[39m\u001b[38;5;124m\"\u001b[39m]\u001b[38;5;241m.\u001b[39mshape)\n\u001b[1;32m     81\u001b[0m transformed[\u001b[38;5;124m\"\u001b[39m\u001b[38;5;124mz\u001b[39m\u001b[38;5;124m\"\u001b[39m] \u001b[38;5;241m=\u001b[39m prior_sample\n\u001b[0;32m---> 83\u001b[0m \u001b[38;5;28;01mreturn\u001b[39;00m \u001b[38;5;28;43mself\u001b[39;49m\u001b[38;5;241;43m.\u001b[39;49m\u001b[43minverse\u001b[49m\u001b[43m(\u001b[49m\u001b[43m{\u001b[49m\u001b[38;5;241;43m*\u001b[39;49m\u001b[38;5;241;43m*\u001b[39;49m\u001b[43mbatch\u001b[49m\u001b[43m,\u001b[49m\u001b[43m \u001b[49m\u001b[38;5;241;43m*\u001b[39;49m\u001b[38;5;241;43m*\u001b[39;49m\u001b[43mtransformed\u001b[49m\u001b[43m}\u001b[49m\u001b[43m)\u001b[49m\n",
      "File \u001b[0;32m~/Documents/Thesis/Validation/src/ml/modeling/weight_sharing_tree_flow.py:149\u001b[0m, in \u001b[0;36mWeightSharingTreeFlow.inverse\u001b[0;34m(self, batch)\u001b[0m\n\u001b[1;32m    146\u001b[0m transformed \u001b[38;5;241m=\u001b[39m batch\n\u001b[1;32m    148\u001b[0m \u001b[38;5;28;01mfor\u001b[39;00m flow \u001b[38;5;129;01min\u001b[39;00m \u001b[38;5;28mself\u001b[39m\u001b[38;5;241m.\u001b[39mflows[::\u001b[38;5;241m-\u001b[39m\u001b[38;5;241m1\u001b[39m]:\n\u001b[0;32m--> 149\u001b[0m     transformed[\u001b[38;5;124m\"\u001b[39m\u001b[38;5;124mz\u001b[39m\u001b[38;5;124m\"\u001b[39m] \u001b[38;5;241m=\u001b[39m \u001b[43mtransformed\u001b[49m\u001b[43m[\u001b[49m\u001b[38;5;124;43m\"\u001b[39;49m\u001b[38;5;124;43mz\u001b[39;49m\u001b[38;5;124;43m\"\u001b[39;49m\u001b[43m]\u001b[49m\u001b[43m \u001b[49m\u001b[38;5;241;43m*\u001b[39;49m\u001b[43m \u001b[49m\u001b[43mbatch_mask\u001b[49m\n\u001b[1;32m    151\u001b[0m     result \u001b[38;5;241m=\u001b[39m flow\u001b[38;5;241m.\u001b[39minverse(\u001b[38;5;241m*\u001b[39m\u001b[38;5;241m*\u001b[39mtransformed)\n\u001b[1;32m    153\u001b[0m     transformed[\u001b[38;5;124m\"\u001b[39m\u001b[38;5;124mz\u001b[39m\u001b[38;5;124m\"\u001b[39m] \u001b[38;5;241m=\u001b[39m torch\u001b[38;5;241m.\u001b[39mnan_to_num(result[\u001b[38;5;124m\"\u001b[39m\u001b[38;5;124mz\u001b[39m\u001b[38;5;124m\"\u001b[39m] \u001b[38;5;241m*\u001b[39m batch_mask)\n",
      "File \u001b[0;32m~/Documents/Thesis/Validation/.venv/lib/python3.11/site-packages/torch/utils/_device.py:106\u001b[0m, in \u001b[0;36mDeviceContext.__torch_function__\u001b[0;34m(self, func, types, args, kwargs)\u001b[0m\n\u001b[1;32m    104\u001b[0m \u001b[38;5;28;01mif\u001b[39;00m func \u001b[38;5;129;01min\u001b[39;00m _device_constructors() \u001b[38;5;129;01mand\u001b[39;00m kwargs\u001b[38;5;241m.\u001b[39mget(\u001b[38;5;124m'\u001b[39m\u001b[38;5;124mdevice\u001b[39m\u001b[38;5;124m'\u001b[39m) \u001b[38;5;129;01mis\u001b[39;00m \u001b[38;5;28;01mNone\u001b[39;00m:\n\u001b[1;32m    105\u001b[0m     kwargs[\u001b[38;5;124m'\u001b[39m\u001b[38;5;124mdevice\u001b[39m\u001b[38;5;124m'\u001b[39m] \u001b[38;5;241m=\u001b[39m \u001b[38;5;28mself\u001b[39m\u001b[38;5;241m.\u001b[39mdevice\n\u001b[0;32m--> 106\u001b[0m \u001b[38;5;28;01mreturn\u001b[39;00m \u001b[43mfunc\u001b[49m\u001b[43m(\u001b[49m\u001b[38;5;241;43m*\u001b[39;49m\u001b[43margs\u001b[49m\u001b[43m,\u001b[49m\u001b[43m \u001b[49m\u001b[38;5;241;43m*\u001b[39;49m\u001b[38;5;241;43m*\u001b[39;49m\u001b[43mkwargs\u001b[49m\u001b[43m)\u001b[49m\n",
      "\u001b[0;31mRuntimeError\u001b[0m: The size of tensor a (63) must match the size of tensor b (128) at non-singleton dimension 1"
     ]
    },
    {
     "data": {
      "image/png": "[encoded data removed]",
      "text/plain": [
       "<Figure size 640x480 with 1 Axes>"
      ]
     },
     "metadata": {},
     "output_type": "display_data"
    }
   ],
   "source": [
    "import matplotlib.pyplot as plt\n",
    "prior = model.prior.sample((128, 63,))\n",
    "latent = model.forward(sample)\n",
    "rs = model.inverse(latent)[\"branch_lengths\"]\n",
    "rs = rs.detach().numpy()\n",
    "sns.histplot(rs[:, 7])\n",
    "\n",
    "prior = model.prior.sample((128, 63,))\n",
    "latent = model.forward(sample)\n",
    "latent[\"z\"] = prior.clone()\n",
    "rs = model.sample(sample)[\"branch_lengths\"]\n",
    "rs = rs.detach().numpy()\n",
    "sns.histplot(rs[:,7])"
   ]
  },
  {
   "cell_type": "code",
   "execution_count": null,
   "metadata": {},
   "outputs": [
    {
     "data": {
      "text/plain": [
       "<Axes: ylabel='Density'>"
      ]
     },
     "execution_count": 13,
     "metadata": {},
     "output_type": "execute_result"
    },
    {
     "data": {
      "image/png": "[encoded data removed]",
      "text/plain": [
       "<Figure size 640x480 with 1 Axes>"
      ]
     },
     "metadata": {},
     "output_type": "display_data"
    }
   ],
   "source": [
    "sns.histplot(model.height_model.sample((10000,)), stat=\"density\")\n",
    "sns.histplot(sample[\"tree_height\"], stat=\"density\")"
   ]
  },
  {
   "cell_type": "code",
   "execution_count": null,
   "metadata": {},
   "outputs": [
    {
     "data": {
      "text/plain": [
       "tensor(0.6096, dtype=torch.float64, grad_fn=<MeanBackward0>)"
      ]
     },
     "execution_count": 122,
     "metadata": {},
     "output_type": "execute_result"
    }
   ],
   "source": [
    "model.height_model.get_log_likelihood(**sample).mean()"
   ]
  },
  {
   "cell_type": "code",
   "execution_count": null,
   "metadata": {},
   "outputs": [
    {
     "data": {
      "text/plain": [
       "(Parameter containing:\n",
       " tensor(-1.1880, requires_grad=True),\n",
       " Parameter containing:\n",
       " tensor(3.2635, requires_grad=True))"
      ]
     },
     "execution_count": 123,
     "metadata": {},
     "output_type": "execute_result"
    }
   ],
   "source": [
    "model.height_model.concentration, model.height_model.rate"
   ]
  },
  {
   "cell_type": "code",
   "execution_count": null,
   "metadata": {},
   "outputs": [
    {
     "data": {
      "text/plain": [
       "tensor(0.6096, dtype=torch.float64, grad_fn=<MeanBackward0>)"
      ]
     },
     "execution_count": 124,
     "metadata": {},
     "output_type": "execute_result"
    }
   ],
   "source": [
    "tree_height = sample[\"tree_height\"]\n",
    "concentration = 1.0 + torch.exp(model.height_model.concentration)\n",
    "(\n",
    "    torch.xlogy(concentration, model.height_model.rate)\n",
    "    + torch.xlogy(concentration - 1, tree_height)\n",
    "    - model.height_model.rate * tree_height\n",
    "    - torch.lgamma(concentration)\n",
    ").mean()"
   ]
  },
  {
   "cell_type": "code",
   "execution_count": null,
   "metadata": {},
   "outputs": [
    {
     "data": {
      "text/plain": [
       "tensor(-2.1911, dtype=torch.float64, grad_fn=<MeanBackward0>)"
      ]
     },
     "execution_count": 130,
     "metadata": {},
     "output_type": "execute_result"
    }
   ],
   "source": [
    "tree_height = sample[\"tree_height\"]\n",
    "concentration = 1.0 + torch.exp(model.height_model.concentration)\n",
    "(\n",
    "    torch.xlogy(concentration, model.height_model.rate * 0.1)\n",
    "    + torch.xlogy(concentration - 1, tree_height)\n",
    "    - model.height_model.rate* 0.1 * tree_height\n",
    "    - torch.lgamma(concentration)\n",
    ").mean()"
   ]
  },
  {
   "cell_type": "code",
   "execution_count": null,
   "metadata": {},
   "outputs": [],
   "source": [
    "from loguru import logger\n",
    "from pathlib import Path\n",
    "import numpy as np\n",
    "import torch\n",
    "from torch.utils.data import DataLoader\n",
    "\n",
    "import yaml\n",
    "\n",
    "from src.ml.preprocessing.add_relative_clade_information import AddRelativeCladeInformation\n",
    "from src.ml.data.tree_dataset import TreeDataset\n",
    "from src.ml.modeling import model_factory, optimizer_factory\n",
    "from src.ml.modeling.conditional_tree_flow import ConditionalTreeFlow\n",
    "from src.ml.modeling.weight_sharing_tree_flow import WeightSharingTreeFlow\n",
    "from src.ml.preprocessing import preprocessing_factory\n",
    "\n",
    "from src.datasets.load_trees import write_trees_to_file, load_trees_from_file\n",
    "\n",
    "OUTPUT_DIR = Path(\"data/map_data\")\n",
    "\n",
    "MODEL_NAME = \"nf-weight-sharing\"\n",
    "MODELS_PATH = Path(\"ml_data/models/debug_2025_01_09_13_31_47\")\n",
    "CONFIG_PATH = Path(\"ml_data/output/config.yaml\")\n",
    "\n",
    "\n",
    "def _load_config():\n",
    "    with open(CONFIG_PATH, \"r\") as f:\n",
    "        return yaml.safe_load(f)\n",
    "\n",
    "\n",
    "def _load_data(trees_file: Path):\n",
    "    logger.info(\"Loading data.\")\n",
    "    data_sets = [TreeDataset(trees_file)]\n",
    "    return data_sets\n",
    "\n",
    "\n",
    "def _preprocess_data(config, data_sets):\n",
    "    logger.info(\"Start preprocessing.\")\n",
    "\n",
    "    for preprocessing_step in config[\"preprocessing\"]:\n",
    "        logger.info(\"Perform {} preprocessing.\", preprocessing_step[\"name\"])\n",
    "\n",
    "        transform = preprocessing_factory(**preprocessing_step)\n",
    "        data_sets = [transform(data_set) for data_set in data_sets]\n",
    "\n",
    "    data_loader = DataLoader(data_sets[0], shuffle=False)\n",
    "\n",
    "    return data_loader, data_sets[0][0]\n",
    "\n",
    "def _load_model(config, input_example, data_set_name):\n",
    "    optimizer = optimizer_factory(**config[\"training\"][\"optimizer_config\"])\n",
    "    model = model_factory(\n",
    "        optimizer=optimizer,\n",
    "        input_example=input_example,\n",
    "        **config[\"training\"][\"model_config\"],\n",
    "    )\n",
    "\n",
    "    model = WeightSharingTreeFlow.load_from_checkpoint(\n",
    "        next((MODELS_PATH / data_set_name).glob(\"*.ckpt\"))\n",
    "    )\n",
    "    model = model.eval()\n",
    "\n",
    "    return model"
   ]
  },
  {
   "cell_type": "code",
   "execution_count": null,
   "metadata": {},
   "outputs": [],
   "source": [
    "map_tree_file = Path(\"data/map_data/yule-10_140_49247_mrca.trees\")\n",
    "dataset, run, num_samples, _ = map_tree_file.stem.split(\"_\")"
   ]
  },
  {
   "cell_type": "code",
   "execution_count": null,
   "metadata": {},
   "outputs": [
    {
     "name": "stderr",
     "output_type": "stream",
     "text": [
      "\u001b[32m2025-01-08 16:53:00.217\u001b[0m | \u001b[1mINFO    \u001b[0m | \u001b[36m__main__\u001b[0m:\u001b[36m_load_data\u001b[0m:\u001b[36m31\u001b[0m - \u001b[1mLoading data.\u001b[0m\n",
      "\u001b[32m2025-01-08 16:53:00.221\u001b[0m | \u001b[1mINFO    \u001b[0m | \u001b[36m__main__\u001b[0m:\u001b[36m_preprocess_data\u001b[0m:\u001b[36m37\u001b[0m - \u001b[1mStart preprocessing.\u001b[0m\n",
      "\u001b[32m2025-01-08 16:53:00.221\u001b[0m | \u001b[1mINFO    \u001b[0m | \u001b[36m__main__\u001b[0m:\u001b[36m_preprocess_data\u001b[0m:\u001b[36m40\u001b[0m - \u001b[1mPerform add_taxa_names preprocessing.\u001b[0m\n",
      "\u001b[32m2025-01-08 16:53:00.222\u001b[0m | \u001b[1mINFO    \u001b[0m | \u001b[36m__main__\u001b[0m:\u001b[36m_preprocess_data\u001b[0m:\u001b[36m40\u001b[0m - \u001b[1mPerform add_relative_clade_information preprocessing.\u001b[0m\n",
      "\u001b[32m2025-01-08 16:53:00.223\u001b[0m | \u001b[1mINFO    \u001b[0m | \u001b[36m__main__\u001b[0m:\u001b[36m_preprocess_data\u001b[0m:\u001b[36m40\u001b[0m - \u001b[1mPerform remove_tree preprocessing.\u001b[0m\n"
     ]
    }
   ],
   "source": [
    "data_sets = _load_data(map_tree_file)\n",
    "data_loader, input_example = _preprocess_data(config, data_sets)"
   ]
  },
  {
   "cell_type": "code",
   "execution_count": null,
   "metadata": {},
   "outputs": [],
   "source": [
    "model = _load_model(config, input_example, f\"{dataset}_{run}\")"
   ]
  },
  {
   "cell_type": "code",
   "execution_count": null,
   "metadata": {},
   "outputs": [],
   "source": [
    "first_and_only_batch = next(iter(data_loader))\n",
    "samples = [\n",
    "    model.sample(first_and_only_batch)[\"branch_lengths\"] for _ in range(500)\n",
    "]\n",
    "samples = torch.cat(samples, dim=0)  # type: ignore\n",
    "mean_sample = torch.mean(samples, dim=0)\n",
    "\n",
    "# mean_sample = first_and_only_batch[\"branch_lengths\"][0]\n",
    "\n",
    "tree = load_trees_from_file(map_tree_file)[0]\n",
    "\n",
    "AddRelativeCladeInformation.set_branch_lengths(\n",
    "    tree,\n",
    "    mean_sample.detach().numpy().tolist(),\n",
    "    [int(x.detach()) for x in first_and_only_batch[\"clades\"]],\n",
    "    model.height_model.mode()\n",
    ")"
   ]
  },
  {
   "cell_type": "code",
   "execution_count": null,
   "metadata": {},
   "outputs": [
    {
     "data": {
      "text/plain": [
       "0.03565124049782753"
      ]
     },
     "execution_count": 11,
     "metadata": {},
     "output_type": "execute_result"
    }
   ],
   "source": [
    "model.height_model.mode()"
   ]
  },
  {
   "cell_type": "code",
   "execution_count": null,
   "metadata": {},
   "outputs": [
    {
     "data": {
      "text/plain": [
       "tensor(0.2397)"
      ]
     },
     "execution_count": 12,
     "metadata": {},
     "output_type": "execute_result"
    }
   ],
   "source": [
    "model.height_model.sample((100,)).mean()"
   ]
  },
  {
   "cell_type": "code",
   "execution_count": null,
   "metadata": {},
   "outputs": [
    {
     "data": {
      "text/plain": [
       "tensor([0.0577], dtype=torch.float64)"
      ]
     },
     "execution_count": 12,
     "metadata": {},
     "output_type": "execute_result"
    }
   ],
   "source": [
    "first_and_only_batch[\"tree_height\"]"
   ]
  },
  {
   "cell_type": "code",
   "execution_count": null,
   "metadata": {},
   "outputs": [],
   "source": [
    "write_trees_to_file(\n",
    "    [tree], \"test.trees\"\n",
    ")"
   ]
  },
  {
   "cell_type": "code",
   "execution_count": null,
   "metadata": {},
   "outputs": [
    {
     "data": {
      "text/plain": [
       "[('0b110', tensor(1.)),\n",
       " ('0b1110', tensor(0.1195)),\n",
       " ('0b11110', tensor(0.4552)),\n",
       " ('0b11111', tensor(0.0728)),\n",
       " ('0b1100000', tensor(1.)),\n",
       " ('0b11100000', tensor(0.3626)),\n",
       " ('0b11111111', tensor(0.2785)),\n",
       " ('0b1100000000', tensor(1.)),\n",
       " ('0b1111111111', tensor(0.5770))]"
      ]
     },
     "execution_count": 12,
     "metadata": {},
     "output_type": "execute_result"
    }
   ],
   "source": [
    "list(zip([bin(int(x)) for x in first_and_only_batch[\"clades\"]] , list(first_and_only_batch[\"branch_lengths\"][0]) ))"
   ]
  },
  {
   "cell_type": "code",
   "execution_count": null,
   "metadata": {},
   "outputs": [
    {
     "data": {
      "text/plain": [
       "[1, 6, 8, 7, 9, 4, 5, 10, 2, 3]"
      ]
     },
     "execution_count": 13,
     "metadata": {},
     "output_type": "execute_result"
    }
   ],
   "source": [
    "[int(x[0]) + 1 for x in first_and_only_batch[\"taxa_names\"]]\n"
   ]
  },
  {
   "cell_type": "code",
   "execution_count": null,
   "metadata": {},
   "outputs": [
    {
     "data": {
      "text/plain": [
       "0.5656559999999999"
      ]
     },
     "execution_count": 15,
     "metadata": {},
     "output_type": "execute_result"
    }
   ],
   "source": [
    "0.3626 * (1 + 0.56)"
   ]
  },
  {
   "cell_type": "code",
   "execution_count": 51,
   "metadata": {},
   "outputs": [
    {
     "data": {
      "text/plain": [
       "({'z': tensor([0.9000, 0.1000]), 'log_dj': tensor([-2.4079, -2.4079])},\n",
       " {'z': tensor([ 2.1972, -2.1972]), 'log_dj': tensor([2.4079, 2.4079])})"
      ]
     },
     "execution_count": 51,
     "metadata": {},
     "output_type": "execute_result"
    }
   ],
   "source": [
    "from src.ml.modeling.layers.inverse_sigmoid_flow_layer import InverseSigmoidFlowLayer\n",
    "from src.ml.modeling.layers.sigmoid_flow_layer import SigmoidFlowLayer\n",
    "\n",
    "\n",
    "a = InverseSigmoidFlowLayer()\n",
    "\n",
    "b = a.forward(torch.tensor([0.9, 0.1])) \n",
    "a.inverse(b[\"z\"]), b"
   ]
  },
  {
   "cell_type": "code",
   "execution_count": 43,
   "metadata": {},
   "outputs": [
    {
     "data": {
      "text/plain": [
       "tensor([0.5250, 0.1192])"
      ]
     },
     "execution_count": 43,
     "metadata": {},
     "output_type": "execute_result"
    }
   ],
   "source": [
    "b[\"z\"]"
   ]
  },
  {
   "cell_type": "code",
   "execution_count": 44,
   "metadata": {},
   "outputs": [],
   "source": [
    "d = torch.sigmoid(torch.tensor([0.1, -2.0]))"
   ]
  },
  {
   "cell_type": "code",
   "execution_count": 45,
   "metadata": {},
   "outputs": [
    {
     "data": {
      "text/plain": [
       "tensor([ 0.1000, -2.0000])"
      ]
     },
     "execution_count": 45,
     "metadata": {},
     "output_type": "execute_result"
    }
   ],
   "source": [
    "torch.log(d / (1 - d))"
   ]
  },
  {
   "cell_type": "code",
   "execution_count": 47,
   "metadata": {},
   "outputs": [
    {
     "data": {
      "text/plain": [
       "{'z': tensor([ 0.1000, -2.0000]), 'log_dj': tensor([1.3888, 2.2539])}"
      ]
     },
     "execution_count": 47,
     "metadata": {},
     "output_type": "execute_result"
    }
   ],
   "source": [
    "a.inverse(d)"
   ]
  },
  {
   "cell_type": "code",
   "execution_count": null,
   "metadata": {},
   "outputs": [],
   "source": []
  }
 ],
 "metadata": {
  "kernelspec": {
   "display_name": ".venv",
   "language": "python",
   "name": "python3"
  },
  "language_info": {
   "codemirror_mode": {
    "name": "ipython",
    "version": 3
   },
   "file_extension": ".py",
   "mimetype": "text/x-python",
   "name": "python",
   "nbconvert_exporter": "python",
   "pygments_lexer": "ipython3",
   "version": "3.11.9"
  }
 },
 "nbformat": 4,
 "nbformat_minor": 2
}
