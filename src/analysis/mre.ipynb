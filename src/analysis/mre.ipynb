{
 "cells": [
  {
   "cell_type": "code",
   "execution_count": 35,
   "metadata": {},
   "outputs": [],
   "source": [
    "import pandas as pd\n",
    "import numpy as np\n",
    "import seaborn as sns\n",
    "import matplotlib.pyplot as plt\n",
    "from tqdm import tqdm\n",
    "\n",
    "from pathlib import Path"
   ]
  },
  {
   "cell_type": "code",
   "execution_count": 36,
   "metadata": {},
   "outputs": [],
   "source": [
    "sns.set_theme(style=\"darkgrid\")"
   ]
  },
  {
   "cell_type": "code",
   "execution_count": 37,
   "metadata": {},
   "outputs": [],
   "source": [
    "PROBABILITIES_DIR = Path(\"../../data/probabilities\")"
   ]
  },
  {
   "cell_type": "code",
   "execution_count": 38,
   "metadata": {},
   "outputs": [],
   "source": [
    "# load all probabilities into a dataframe\n",
    "\n",
    "df_dict = {\n",
    "    \"simulation\": [],\n",
    "    \"replica\": [],\n",
    "    \"sample_size\": [],\n",
    "    \"tree\": [],\n",
    "    \"probability\": [],\n",
    "    \"method\": [],\n",
    "    \"newick\": [],\n",
    "}\n",
    "\n",
    "for file in PROBABILITIES_DIR.glob(\"*.csv\"):\n",
    "    name_parts = file.stem.split(\"-\")\n",
    "    simulation_name = \"-\".join(name_parts[:-3])\n",
    "    replica_name = name_parts[-3]\n",
    "    sample_name = name_parts[-2]\n",
    "    method_name = name_parts[-1]\n",
    "\n",
    "    with open(file, \"r\") as handle:\n",
    "        for line in handle:\n",
    "            parts = line.strip().split(\",\") \n",
    "            tree_name = parts[0]\n",
    "            probability = parts[1]\n",
    "\n",
    "            df_dict[\"simulation\"].append(simulation_name)\n",
    "            df_dict[\"replica\"].append(replica_name)\n",
    "            df_dict[\"sample_size\"].append(int(sample_name))\n",
    "            df_dict[\"tree\"].append(tree_name)\n",
    "            df_dict[\"probability\"].append(float(probability))\n",
    "            df_dict[\"method\"].append(method_name)\n",
    "\n",
    "            if len(parts) > 2:\n",
    "                df_dict[\"newick\"].append(\"-\".join(parts[2:]))\n",
    "            else:\n",
    "                df_dict[\"newick\"].append(\"\")\n",
    "\n",
    "df = pd.DataFrame(df_dict)"
   ]
  },
  {
   "cell_type": "code",
   "execution_count": null,
   "metadata": {},
   "outputs": [],
   "source": [
    "# calculate the absolute error between the golden probability and the probability of the simulation\n",
    "\n",
    "golden_df = df[df[\"method\"] == \"golden\"]\n",
    "df[\"golden_probability\"] = df.merge(golden_df, on=[\"simulation\", \"replica\", \"tree\"], how=\"left\")[\"probability_y\"]\n",
    "df[\"absolute_error\"] = (df.golden_probability - df.probability).abs()"
   ]
  },
  {
   "cell_type": "code",
   "execution_count": null,
   "metadata": {},
   "outputs": [
    {
     "name": "stderr",
     "output_type": "stream",
     "text": [
      "/var/folders/f_/r0jt4c1153v7d286lm9gbgx80000gn/T/ipykernel_24824/4064625578.py:15: SettingWithCopyWarning: \n",
      "A value is trying to be set on a copy of a slice from a DataFrame.\n",
      "Try using .loc[row_indexer,col_indexer] = value instead\n",
      "\n",
      "See the caveats in the documentation: https://pandas.pydata.org/pandas-docs/stable/user_guide/indexing.html#returning-a-view-versus-a-copy\n",
      "  golden_df[\"50_credible\"] = golden_df.newick.isin(credibility_50_newick)\n"
     ]
    }
   ],
   "source": [
    "# determine the trees within credibility intervals\n",
    "unique_binary_trees = golden_df.drop_duplicates([\"simulation\", \"replica\", \"newick\"])\n",
    "unique_binary_trees = unique_binary_trees.sort_values(\"probability\", inplace=False)\n",
    "unique_binary_trees[\"cum_probability\"] = (\n",
    "    unique_binary_trees\n",
    "    [[\"simulation\", \"replica\", \"probability\"]]\n",
    "    .groupby([\"simulation\", \"replica\"])\n",
    "    [\"probability\"]\n",
    "    .cumsum()\n",
    ")\n",
    "\n",
    "credibility_50_trees = unique_binary_trees[0.5 < unique_binary_trees.cum_probability]\n",
    "credibility_50_newick = set(credibility_50_trees.newick)\n",
    "\n",
    "golden_df[\"50_credible\"] = golden_df.newick.isin(credibility_50_newick)\n",
    "df[\"50_credible\"] = df.merge(golden_df, on=[\"simulation\", \"replica\", \"tree\"], how=\"left\")[\"50_credible\"]"
   ]
  },
  {
   "cell_type": "code",
   "execution_count": null,
   "metadata": {},
   "outputs": [
    {
     "data": {
      "text/plain": [
       "Text(0, 0.5, 'MAE')"
      ]
     },
     "execution_count": 32,
     "metadata": {},
     "output_type": "execute_result"
    },
    {
     "data": {
      "image/png": "[encoded data removed]",
      "text/plain": [
       "<Figure size 640x480 with 1 Axes>"
      ]
     },
     "metadata": {},
     "output_type": "display_data"
    }
   ],
   "source": [
    "sns.lineplot(data=df[df[\"50_credible\"]], x=\"sample_size\", y=\"absolute_error\", estimator=\"median\", errorbar=None, hue=\"method\")\n",
    "plt.xlabel(\"Sample size\")\n",
    "plt.xlim([0, 10_000])\n",
    "plt.ylabel(\"MAE\")"
   ]
  },
  {
   "cell_type": "code",
   "execution_count": null,
   "metadata": {},
   "outputs": [],
   "source": []
  }
 ],
 "metadata": {
  "kernelspec": {
   "display_name": ".venv",
   "language": "python",
   "name": "python3"
  },
  "language_info": {
   "codemirror_mode": {
    "name": "ipython",
    "version": 3
   },
   "file_extension": ".py",
   "mimetype": "text/x-python",
   "name": "python",
   "nbconvert_exporter": "python",
   "pygments_lexer": "ipython3",
   "version": "3.11.9"
  }
 },
 "nbformat": 4,
 "nbformat_minor": 2
}
