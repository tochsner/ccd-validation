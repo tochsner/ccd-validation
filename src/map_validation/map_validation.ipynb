{
 "cells": [
  {
   "cell_type": "code",
   "execution_count": 1,
   "metadata": {},
   "outputs": [],
   "source": [
    "from pathlib import Path\n",
    "from collections import defaultdict\n",
    "\n",
    "from Bio.Phylo.BaseTree import Tree\n",
    "import pandas as pd\n",
    "import numpy as np\n",
    "import seaborn as sns\n",
    "import matplotlib.pyplot as plt\n",
    "\n",
    "from src.datasets.load_trees import load_trees_from_file\n",
    "from src.utils.tree_utils import get_taxa_names\n",
    "from src.distribution_analysis.process_tree import get_observed_nodes"
   ]
  },
  {
   "cell_type": "code",
   "execution_count": 2,
   "metadata": {},
   "outputs": [],
   "source": [
    "import warnings\n",
    "warnings.filterwarnings('ignore')\n",
    "sns.set_style(\"darkgrid\")"
   ]
  },
  {
   "cell_type": "code",
   "execution_count": 3,
   "metadata": {},
   "outputs": [],
   "source": [
    "REFERENCE_TREE_DIR = Path(\"data/mcmc_config\")\n",
    "MAP_TREE_DIR = Path(\"data/map_data\")\n",
    "\n",
    "# REFERENCE_TREE_DIR = Path(\"data_old/lphy\")\n",
    "# MAP_TREE_DIR = Path(\"data_old/map_validation\")"
   ]
  },
  {
   "cell_type": "code",
   "execution_count": 4,
   "metadata": {},
   "outputs": [],
   "source": [
    "def rooted_branch_score(tree_1: Tree, tree_2: Tree) -> float:\n",
    "    taxa_names = get_taxa_names(tree_1)\n",
    "\n",
    "    nodes_1, _ = get_observed_nodes([tree_1], taxa_names)\n",
    "    nodes_2, _ = get_observed_nodes([tree_2], taxa_names)\n",
    "\n",
    "    clades_to_node_1 = {node.node_bitstring: node for node in nodes_1}\n",
    "    clades_to_node_2 = {node.node_bitstring: node for node in nodes_2}\n",
    "\n",
    "    rbs = 0.0\n",
    "\n",
    "    all_clades = set(clades_to_node_1.keys()) | set(clades_to_node_2.keys())\n",
    "\n",
    "    for clade in all_clades:\n",
    "        if node_1 := clades_to_node_1.get(clade):\n",
    "            branch_1 = node_1.height - node_1.parent_height\n",
    "        else:\n",
    "            branch_1 = 0.0\n",
    "\n",
    "        if node_2 := clades_to_node_2.get(clade):\n",
    "            branch_2 = node_2.height - node_2.parent_height\n",
    "        else:\n",
    "            branch_2 = 0.0\n",
    "\n",
    "        rbs += abs(branch_1 - branch_2)\n",
    "\n",
    "    return rbs\n",
    "\n",
    "\n",
    "def squared_rooted_branch_score(tree_1: Tree, tree_2: Tree) -> float:\n",
    "    taxa_names = get_taxa_names(tree_1)\n",
    "\n",
    "    nodes_1, _ = get_observed_nodes([tree_1], taxa_names)\n",
    "    nodes_2, _ = get_observed_nodes([tree_2], taxa_names)\n",
    "\n",
    "    clades_to_node_1 = {node.node_bitstring: node for node in nodes_1}\n",
    "    clades_to_node_2 = {node.node_bitstring: node for node in nodes_2}\n",
    "\n",
    "    srbs = 0.0\n",
    "\n",
    "    all_clades = set(clades_to_node_1.keys()) | set(clades_to_node_2.keys())\n",
    "\n",
    "    for clade in all_clades:\n",
    "        if node_1 := clades_to_node_1.get(clade):\n",
    "            branch_1 = node_1.height - node_1.parent_height\n",
    "        else:\n",
    "            branch_1 = 0.0\n",
    "\n",
    "        if node_2 := clades_to_node_2.get(clade):\n",
    "            branch_2 = node_2.height - node_2.parent_height\n",
    "        else:\n",
    "            branch_2 = 0.0\n",
    "\n",
    "        srbs += (branch_1 - branch_2)**2\n",
    "\n",
    "    return srbs\n",
    "\n",
    "\n",
    "def height_score(tree_1: Tree, tree_2: Tree) -> float:\n",
    "    taxa_names = get_taxa_names(tree_1)\n",
    "\n",
    "    nodes_1, _ = get_observed_nodes([tree_1], taxa_names)\n",
    "    nodes_2, _ = get_observed_nodes([tree_2], taxa_names)\n",
    "\n",
    "    clades_to_node_1 = {node.node_bitstring: node for node in nodes_1}\n",
    "    clades_to_node_2 = {node.node_bitstring: node for node in nodes_2}\n",
    "\n",
    "    hs = 0.0\n",
    "\n",
    "    all_clades = set(clades_to_node_1.keys()) | set(clades_to_node_2.keys())\n",
    "\n",
    "    for clade in all_clades:\n",
    "        if (node_1 := clades_to_node_1.get(clade)) and (node_2 := clades_to_node_2.get(clade)):\n",
    "            hs += abs(node_1.height - node_2.height)\n",
    "        elif node_1:\n",
    "            hs += node_1.height - node_1.parent_height\n",
    "        elif node_2:\n",
    "            hs += node_2.height - node_2.parent_height\n",
    "\n",
    "    return hs"
   ]
  },
  {
   "cell_type": "code",
   "execution_count": 5,
   "metadata": {},
   "outputs": [],
   "source": [
    "def get_common_ancestor_clade(ref_clade: int, query_clades: list[int]) -> int:\n",
    "    if ref_clade in query_clades:\n",
    "        return ref_clade\n",
    "    \n",
    "    matching_clades = (\n",
    "        query_clade\n",
    "        for query_clade in query_clades\n",
    "        if query_clade & ref_clade == ref_clade\n",
    "    )\n",
    "    return min(matching_clades, key=lambda x: x.bit_length())\n",
    "\n",
    "def heights_error(query_tree: Tree, ref_tree: Tree) -> float:\n",
    "    taxa_names = get_taxa_names(ref_tree)\n",
    "\n",
    "    query_nodes, _ = get_observed_nodes([query_tree], taxa_names)\n",
    "    ref_nodes, _ = get_observed_nodes([ref_tree], taxa_names)\n",
    "\n",
    "    query_clades_to_node = {node.node_bitstring: node for node in query_nodes}\n",
    "    ref_clades_to_node = {node.node_bitstring: node for node in ref_nodes}\n",
    "\n",
    "    heights_error = 0.0\n",
    "\n",
    "    for query_clade, node in query_clades_to_node.items():\n",
    "        ref_clade = get_common_ancestor_clade(query_clade, list(ref_clades_to_node.keys()))\n",
    "        \n",
    "        heights_error += abs(node.height - ref_clades_to_node[ref_clade].height)\n",
    "\n",
    "    return heights_error"
   ]
  },
  {
   "cell_type": "code",
   "execution_count": 8,
   "metadata": {},
   "outputs": [],
   "source": [
    "map_trees_per_dataset: dict[tuple[str, str], list[Path]] = defaultdict(list)\n",
    "\n",
    "for map_tree in MAP_TREE_DIR.glob(\"*.trees\"):\n",
    "    file_name_wo_ext = map_tree.name.removesuffix(\".trees\")\n",
    "    dataset_name, run, model_name, _ = file_name_wo_ext.split(\"_\")\n",
    "\n",
    "    # dataset_name = \"_\".join(x.split(\"-\")[:-1])\n",
    "    # run = x.split(\"-\")[-1]\n",
    "\n",
    "    map_trees_per_dataset[(dataset_name, run)].append(map_tree)"
   ]
  },
  {
   "cell_type": "code",
   "execution_count": 9,
   "metadata": {},
   "outputs": [],
   "source": [
    "SCORES = {\n",
    "    \"RBS\": rooted_branch_score,\n",
    "    \"SRBS\": squared_rooted_branch_score,\n",
    "    \"HS\": height_score,\n",
    "}\n",
    "NUM_SCORES = len(SCORES)"
   ]
  },
  {
   "cell_type": "code",
   "execution_count": 43,
   "metadata": {},
   "outputs": [],
   "source": [
    "scores_dict = {\"model\": [], \"dataset\": [], \"run\": [], **{score: [] for score in SCORES.keys()}}\n",
    "\n",
    "for (dataset, run), map_files in list(map_trees_per_dataset.items()):\n",
    "    reference_tree = load_trees_from_file(REFERENCE_TREE_DIR / f\"{dataset}_{run}.trees\")[\n",
    "        0\n",
    "    ]\n",
    "\n",
    "    for map_file in map_files:\n",
    "        file_name_wo_ext = map_file.name.removesuffix(\".trees\")\n",
    "        *_, sample_size, model_name = file_name_wo_ext.split(\"_\")\n",
    "\n",
    "        if int(sample_size) <= 1000:\n",
    "            # this is not the full dataset\n",
    "            continue\n",
    "\n",
    "        if dataset != \"yule-10\":\n",
    "            continue\n",
    "\n",
    "        map_tree = load_trees_from_file(map_file)[0]\n",
    "\n",
    "        scores_dict[\"model\"].append(model_name)\n",
    "        scores_dict[\"dataset\"].append(dataset)\n",
    "        scores_dict[\"run\"].append(run) \n",
    "        \n",
    "        for score, score_func in SCORES.items():\n",
    "            scores_dict[score].append(score_func(map_tree, reference_tree))\n",
    "\n",
    "df_scores = pd.DataFrame(scores_dict)"
   ]
  },
  {
   "cell_type": "code",
   "execution_count": 53,
   "metadata": {},
   "outputs": [
    {
     "data": {
      "text/html": [
       "<div>\n",
       "<style scoped>\n",
       "    .dataframe tbody tr th:only-of-type {\n",
       "        vertical-align: middle;\n",
       "    }\n",
       "\n",
       "    .dataframe tbody tr th {\n",
       "        vertical-align: top;\n",
       "    }\n",
       "\n",
       "    .dataframe thead th {\n",
       "        text-align: right;\n",
       "    }\n",
       "</style>\n",
       "<table border=\"1\" class=\"dataframe\">\n",
       "  <thead>\n",
       "    <tr style=\"text-align: right;\">\n",
       "      <th></th>\n",
       "      <th>RBS</th>\n",
       "      <th>SRBS</th>\n",
       "      <th>HS</th>\n",
       "    </tr>\n",
       "    <tr>\n",
       "      <th>model</th>\n",
       "      <th></th>\n",
       "      <th></th>\n",
       "      <th></th>\n",
       "    </tr>\n",
       "  </thead>\n",
       "  <tbody>\n",
       "    <tr>\n",
       "      <th>gamma-beta-corr</th>\n",
       "      <td>0.130782</td>\n",
       "      <td>0.001666</td>\n",
       "      <td>0.367768</td>\n",
       "    </tr>\n",
       "    <tr>\n",
       "      <th>log-normal-beta-corr</th>\n",
       "      <td>0.140592</td>\n",
       "      <td>0.002019</td>\n",
       "      <td>0.416582</td>\n",
       "    </tr>\n",
       "    <tr>\n",
       "      <th>mrca</th>\n",
       "      <td>0.098837</td>\n",
       "      <td>0.000916</td>\n",
       "      <td>0.202584</td>\n",
       "    </tr>\n",
       "    <tr>\n",
       "      <th>nf-ws-fraction</th>\n",
       "      <td>0.090504</td>\n",
       "      <td>0.000928</td>\n",
       "      <td>0.208057</td>\n",
       "    </tr>\n",
       "    <tr>\n",
       "      <th>sb-beta</th>\n",
       "      <td>0.100077</td>\n",
       "      <td>0.000916</td>\n",
       "      <td>0.225426</td>\n",
       "    </tr>\n",
       "    <tr>\n",
       "      <th>sb-dirichlet</th>\n",
       "      <td>0.109433</td>\n",
       "      <td>0.001036</td>\n",
       "      <td>0.229990</td>\n",
       "    </tr>\n",
       "  </tbody>\n",
       "</table>\n",
       "</div>"
      ],
      "text/plain": [
       "                           RBS      SRBS        HS\n",
       "model                                             \n",
       "gamma-beta-corr       0.130782  0.001666  0.367768\n",
       "log-normal-beta-corr  0.140592  0.002019  0.416582\n",
       "mrca                  0.098837  0.000916  0.202584\n",
       "nf-ws-fraction        0.090504  0.000928  0.208057\n",
       "sb-beta               0.100077  0.000916  0.225426\n",
       "sb-dirichlet          0.109433  0.001036  0.229990"
      ]
     },
     "execution_count": 53,
     "metadata": {},
     "output_type": "execute_result"
    }
   ],
   "source": [
    "df_scores[[*SCORES, \"model\"]].groupby(\"model\").median()"
   ]
  },
  {
   "cell_type": "code",
   "execution_count": 44,
   "metadata": {},
   "outputs": [
    {
     "data": {
      "image/png": "[encoded data removed]",
      "text/plain": [
       "<Figure size 1200x500 with 3 Axes>"
      ]
     },
     "metadata": {},
     "output_type": "display_data"
    }
   ],
   "source": [
    "fig, axs = plt.subplots(ncols=NUM_SCORES, figsize=(NUM_SCORES * 4, 5))\n",
    "\n",
    "for i, score in enumerate(SCORES):\n",
    "    sns.boxplot(x=\"model\", y=score, data=df_scores, ax=axs[i], fliersize=0, )\n",
    "    \n",
    "    axs[i].set_xlabel(\"Model\")\n",
    "    axs[i].set_xticks(axs[i].get_xticks(), axs[i].get_xticklabels(), rotation=30, ha='right')\n",
    "\n",
    "    axs[i].set_ylim(0, 0.75)\n",
    "\n",
    "fig.suptitle(\"Scores for Different MAP Estimators\")\n",
    "plt.tight_layout()"
   ]
  },
  {
   "cell_type": "code",
   "execution_count": 45,
   "metadata": {},
   "outputs": [
    {
     "data": {
      "text/html": [
       "<div>\n",
       "<style scoped>\n",
       "    .dataframe tbody tr th:only-of-type {\n",
       "        vertical-align: middle;\n",
       "    }\n",
       "\n",
       "    .dataframe tbody tr th {\n",
       "        vertical-align: top;\n",
       "    }\n",
       "\n",
       "    .dataframe thead th {\n",
       "        text-align: right;\n",
       "    }\n",
       "</style>\n",
       "<table border=\"1\" class=\"dataframe\">\n",
       "  <thead>\n",
       "    <tr style=\"text-align: right;\">\n",
       "      <th></th>\n",
       "      <th>model</th>\n",
       "      <th>dataset</th>\n",
       "      <th>run</th>\n",
       "      <th>RBS</th>\n",
       "      <th>SRBS</th>\n",
       "      <th>HS</th>\n",
       "    </tr>\n",
       "  </thead>\n",
       "  <tbody>\n",
       "    <tr>\n",
       "      <th>748</th>\n",
       "      <td>mrca</td>\n",
       "      <td>yule-10</td>\n",
       "      <td>1</td>\n",
       "      <td>0.138780</td>\n",
       "      <td>0.002285</td>\n",
       "      <td>0.414456</td>\n",
       "    </tr>\n",
       "    <tr>\n",
       "      <th>749</th>\n",
       "      <td>sb-dirichlet</td>\n",
       "      <td>yule-10</td>\n",
       "      <td>1</td>\n",
       "      <td>0.133612</td>\n",
       "      <td>0.002246</td>\n",
       "      <td>0.445002</td>\n",
       "    </tr>\n",
       "    <tr>\n",
       "      <th>750</th>\n",
       "      <td>sb-beta</td>\n",
       "      <td>yule-10</td>\n",
       "      <td>1</td>\n",
       "      <td>0.119058</td>\n",
       "      <td>0.002173</td>\n",
       "      <td>0.449221</td>\n",
       "    </tr>\n",
       "    <tr>\n",
       "      <th>747</th>\n",
       "      <td>gamma-beta-corr</td>\n",
       "      <td>yule-10</td>\n",
       "      <td>1</td>\n",
       "      <td>0.165409</td>\n",
       "      <td>0.003304</td>\n",
       "      <td>0.556888</td>\n",
       "    </tr>\n",
       "    <tr>\n",
       "      <th>746</th>\n",
       "      <td>log-normal-beta-corr</td>\n",
       "      <td>yule-10</td>\n",
       "      <td>1</td>\n",
       "      <td>0.174971</td>\n",
       "      <td>0.003547</td>\n",
       "      <td>0.585536</td>\n",
       "    </tr>\n",
       "    <tr>\n",
       "      <th>964</th>\n",
       "      <td>mrca</td>\n",
       "      <td>yule-10</td>\n",
       "      <td>10</td>\n",
       "      <td>0.185662</td>\n",
       "      <td>0.002962</td>\n",
       "      <td>0.238412</td>\n",
       "    </tr>\n",
       "    <tr>\n",
       "      <th>963</th>\n",
       "      <td>nf-ws-fraction</td>\n",
       "      <td>yule-10</td>\n",
       "      <td>10</td>\n",
       "      <td>0.214901</td>\n",
       "      <td>0.003808</td>\n",
       "      <td>0.256830</td>\n",
       "    </tr>\n",
       "    <tr>\n",
       "      <th>962</th>\n",
       "      <td>sb-beta</td>\n",
       "      <td>yule-10</td>\n",
       "      <td>10</td>\n",
       "      <td>0.186558</td>\n",
       "      <td>0.002957</td>\n",
       "      <td>0.276395</td>\n",
       "    </tr>\n",
       "    <tr>\n",
       "      <th>965</th>\n",
       "      <td>sb-dirichlet</td>\n",
       "      <td>yule-10</td>\n",
       "      <td>10</td>\n",
       "      <td>0.158822</td>\n",
       "      <td>0.002095</td>\n",
       "      <td>0.296233</td>\n",
       "    </tr>\n",
       "    <tr>\n",
       "      <th>961</th>\n",
       "      <td>gamma-beta-corr</td>\n",
       "      <td>yule-10</td>\n",
       "      <td>10</td>\n",
       "      <td>0.267708</td>\n",
       "      <td>0.005522</td>\n",
       "      <td>0.481526</td>\n",
       "    </tr>\n",
       "  </tbody>\n",
       "</table>\n",
       "</div>"
      ],
      "text/plain": [
       "                    model  dataset run       RBS      SRBS        HS\n",
       "748                  mrca  yule-10   1  0.138780  0.002285  0.414456\n",
       "749          sb-dirichlet  yule-10   1  0.133612  0.002246  0.445002\n",
       "750               sb-beta  yule-10   1  0.119058  0.002173  0.449221\n",
       "747       gamma-beta-corr  yule-10   1  0.165409  0.003304  0.556888\n",
       "746  log-normal-beta-corr  yule-10   1  0.174971  0.003547  0.585536\n",
       "964                  mrca  yule-10  10  0.185662  0.002962  0.238412\n",
       "963        nf-ws-fraction  yule-10  10  0.214901  0.003808  0.256830\n",
       "962               sb-beta  yule-10  10  0.186558  0.002957  0.276395\n",
       "965          sb-dirichlet  yule-10  10  0.158822  0.002095  0.296233\n",
       "961       gamma-beta-corr  yule-10  10  0.267708  0.005522  0.481526"
      ]
     },
     "execution_count": 45,
     "metadata": {},
     "output_type": "execute_result"
    }
   ],
   "source": [
    "df_scores[df_scores.dataset == \"yule-10\"].sort_values([\"run\", score]).head(10)"
   ]
  },
  {
   "cell_type": "code",
   "execution_count": 30,
   "metadata": {},
   "outputs": [
    {
     "data": {
      "text/plain": [
       "250"
      ]
     },
     "execution_count": 30,
     "metadata": {},
     "output_type": "execute_result"
    }
   ],
   "source": [
    "len(df_score_wins)"
   ]
  },
  {
   "cell_type": "code",
   "execution_count": 46,
   "metadata": {},
   "outputs": [
    {
     "data": {
      "image/png": "[encoded data removed]",
      "text/plain": [
       "<Figure size 1200x400 with 3 Axes>"
      ]
     },
     "metadata": {},
     "output_type": "display_data"
    }
   ],
   "source": [
    "fig, axs = plt.subplots(ncols=NUM_SCORES, figsize=(4*NUM_SCORES, 4))\n",
    "\n",
    "for i, score in enumerate(SCORES):\n",
    "    df_score_wins = df_scores[df_scores.dataset == \"yule-10\"].sort_values(score).drop_duplicates([\"dataset\", \"run\"])\n",
    "    \n",
    "    sns.countplot(data=df_score_wins, x=\"model\", ax=axs[i])\n",
    "\n",
    "    axs[i].set_xlabel(\"Model\")\n",
    "    axs[i].set_ylabel(f\"Number of Wins ({score})\")\n",
    "    axs[i].set_xticks(axs[i].get_xticks(), axs[i].get_xticklabels(), rotation=30, ha='right')\n",
    "\n",
    "fig.suptitle(\"Number of Wins for Different MAP Estimators\")\n",
    "plt.tight_layout()"
   ]
  },
  {
   "cell_type": "code",
   "execution_count": 46,
   "metadata": {},
   "outputs": [],
   "source": [
    "true_tree = load_trees_from_file(Path(\"data/mcmc_config/yule-10_10.trees\"))[0]\n",
    "tree_mrca = load_trees_from_file(Path(\"data/map_data/yule-10_10_10_mrca.trees\"))[0]\n",
    "tree_10 = load_trees_from_file(Path(\"data/map_data/yule-10_10_10_gamma-beta-corr.trees\"))[0]\n",
    "tree_full = load_trees_from_file(Path(\"data/map_data/yule-10_10_28652_gamma-beta-corr.trees\"))[0]"
   ]
  },
  {
   "cell_type": "code",
   "execution_count": 47,
   "metadata": {},
   "outputs": [],
   "source": [
    "def rooted_branch_score(tree_1: Tree, tree_2: Tree) -> float:\n",
    "    taxa_names = get_taxa_names(tree_1)\n",
    "\n",
    "    nodes_1, _ = get_observed_nodes([tree_1], taxa_names)\n",
    "    nodes_2, _ = get_observed_nodes([tree_2], taxa_names)\n",
    "\n",
    "    clades_to_node_1 = {node.node_bitstring: node for node in nodes_1}\n",
    "    clades_to_node_2 = {node.node_bitstring: node for node in nodes_2}\n",
    "\n",
    "    rbs = 0.0\n",
    "\n",
    "    all_clades = set(clades_to_node_1.keys()) | set(clades_to_node_2.keys())\n",
    "\n",
    "    print(all_clades)\n",
    "\n",
    "    for clade in all_clades:\n",
    "        if node_1 := clades_to_node_1.get(clade):\n",
    "            branch_1 = node_1.height - node_1.parent_height\n",
    "        else:\n",
    "            branch_1 = 0.0\n",
    "\n",
    "        if node_2 := clades_to_node_2.get(clade):\n",
    "            branch_2 = node_2.height - node_2.parent_height\n",
    "        else:\n",
    "            branch_2 = 0.0\n",
    "\n",
    "        rbs += abs(branch_1 - branch_2)\n",
    "\n",
    "    return rbs"
   ]
  },
  {
   "cell_type": "code",
   "execution_count": 48,
   "metadata": {},
   "outputs": [
    {
     "name": "stdout",
     "output_type": "stream",
     "text": [
      "{128, 1, 2, 256, 4, 512, 6, 768, 8, 14, 16, 32, 46, 47, 64, 832, 848, 976, 96, 224, 240, 1008, 1022, 1023}\n",
      "{128, 1, 2, 256, 4, 384, 6, 512, 8, 510, 14, 526, 16, 527, 32, 416, 48, 432, 64, 112, 496, 1022, 1023}\n",
      "{128, 1, 2, 256, 4, 512, 6, 768, 8, 14, 16, 32, 46, 47, 64, 832, 848, 976, 96, 224, 240, 1008, 1022, 1023}\n"
     ]
    },
    {
     "data": {
      "text/plain": [
       "(0.23809945433595098, 0.267708560832783, 0.16138990553289603)"
      ]
     },
     "execution_count": 48,
     "metadata": {},
     "output_type": "execute_result"
    }
   ],
   "source": [
    "rooted_branch_score(tree_10, true_tree), rooted_branch_score(tree_full, true_tree), rooted_branch_score(tree_mrca, true_tree)"
   ]
  },
  {
   "cell_type": "code",
   "execution_count": null,
   "metadata": {},
   "outputs": [],
   "source": []
  }
 ],
 "metadata": {
  "kernelspec": {
   "display_name": ".venv",
   "language": "python",
   "name": "python3"
  },
  "language_info": {
   "codemirror_mode": {
    "name": "ipython",
    "version": 3
   },
   "file_extension": ".py",
   "mimetype": "text/x-python",
   "name": "python",
   "nbconvert_exporter": "python",
   "pygments_lexer": "ipython3",
   "version": "3.11.9"
  }
 },
 "nbformat": 4,
 "nbformat_minor": 2
}
